{
 "cells": [
  {
   "cell_type": "markdown",
   "id": "d5311a85",
   "metadata": {},
   "source": [
    "## Little Control Structures"
   ]
  },
  {
   "cell_type": "markdown",
   "id": "f4f888c3",
   "metadata": {},
   "source": [
    "We will soon come back to real-life datasets. But before that we need to introduce a few more aspects from Python, the programming language, which you might need in data analysis tasks. \n",
    "\n",
    "The first topic are control structures. \n",
    "\n",
    "Control structures execute a piece of code based on a condition. You can recognize them in most programming languages by the keyword if. In Python, they look like the following cell. Run the cell below."
   ]
  },
  {
   "cell_type": "code",
   "execution_count": 1,
   "id": "10d51df9",
   "metadata": {},
   "outputs": [
    {
     "name": "stdout",
     "output_type": "stream",
     "text": [
      "Showing LinkedIn information\n"
     ]
    }
   ],
   "source": [
    "medium = 'LinkedIn'\n",
    "\n",
    "if (medium == 'LinkedIn'):\n",
    "    print('Showing LinkedIn information')"
   ]
  },
  {
   "cell_type": "markdown",
   "id": "13440be5",
   "metadata": {},
   "source": [
    "The first statement creates a variable medium with 'LinkedIn' as a value. The control structure starts with if, then uses a condition to evaluate to a Boolean (medium == 'LinkedIn'), followed by a colon. The statement to execute follows in the next line.  print('Showing LinkedIn information') will print out if the condition is met.\n",
    "\n",
    "Important: Observe the indentation, which is a way of telling Python that a group of statements belongs together as a block. Blocks can be regarded as the grouping of statements for a specific purpose. Python really does not like it if you mess with its indentation. Check https://www.dummies.com/programming/python/how-to-indent-and-dedent-your-python-code/."
   ]
  },
  {
   "cell_type": "markdown",
   "id": "8828dfd7",
   "metadata": {},
   "source": [
    "Next assign ```num_views = 14```."
   ]
  },
  {
   "cell_type": "code",
   "execution_count": null,
   "id": "0ce70cd7",
   "metadata": {},
   "outputs": [],
   "source": []
  },
  {
   "cell_type": "markdown",
   "id": "b0bdcf7e",
   "metadata": {},
   "source": [
    "Let’s try to confirm whether we are popular with ```if num_views > 15``` then print `'You are very popular!'` How do you do it?"
   ]
  },
  {
   "cell_type": "code",
   "execution_count": null,
   "id": "f071e5f8",
   "metadata": {},
   "outputs": [],
   "source": []
  },
  {
   "cell_type": "markdown",
   "id": "83f0fff5",
   "metadata": {},
   "source": [
    "You can combine Boolean expressions/conditions also logically. The keyword 'and' stands for a logical and, while 'or' stands for the logical or in Python. \n",
    "\n",
    "Try the logical combination and and type in:\n",
    "\n",
    "```\n",
    "if (num_views > 15) and (medium == 'LinkedIn'):\n",
    "    print('You are popular on LinkedIn!')\n",
    "```\n",
    "\n",
    "Explain the results!"
   ]
  },
  {
   "cell_type": "code",
   "execution_count": null,
   "id": "857ba310",
   "metadata": {},
   "outputs": [],
   "source": []
  },
  {
   "cell_type": "markdown",
   "id": "314472a9",
   "metadata": {},
   "source": [
    "Finally, you can also tell the computer to do other work if the condition is not fulfilled. You need to use the keyword else. Run the code below and opserve the indentation ..."
   ]
  },
  {
   "cell_type": "code",
   "execution_count": 2,
   "id": "1843ab37",
   "metadata": {},
   "outputs": [
    {
     "ename": "NameError",
     "evalue": "name 'num_views' is not defined",
     "output_type": "error",
     "traceback": [
      "\u001b[0;31m---------------------------------------------------------------------------\u001b[0m",
      "\u001b[0;31mNameError\u001b[0m                                 Traceback (most recent call last)",
      "\u001b[0;32m<ipython-input-2-feab9af33b45>\u001b[0m in \u001b[0;36m<module>\u001b[0;34m\u001b[0m\n\u001b[0;32m----> 1\u001b[0;31m \u001b[0;32mif\u001b[0m \u001b[0;34m(\u001b[0m\u001b[0mnum_views\u001b[0m \u001b[0;34m>\u001b[0m \u001b[0;36m15\u001b[0m\u001b[0;34m)\u001b[0m \u001b[0;32mand\u001b[0m \u001b[0;34m(\u001b[0m\u001b[0mmedium\u001b[0m \u001b[0;34m==\u001b[0m \u001b[0;34m'LinkedIn'\u001b[0m\u001b[0;34m)\u001b[0m\u001b[0;34m:\u001b[0m\u001b[0;34m\u001b[0m\u001b[0;34m\u001b[0m\u001b[0m\n\u001b[0m\u001b[1;32m      2\u001b[0m     \u001b[0mprint\u001b[0m\u001b[0;34m(\u001b[0m\u001b[0;34m'Condition met.'\u001b[0m\u001b[0;34m)\u001b[0m\u001b[0;34m\u001b[0m\u001b[0;34m\u001b[0m\u001b[0m\n\u001b[1;32m      3\u001b[0m     \u001b[0mprint\u001b[0m\u001b[0;34m(\u001b[0m\u001b[0;34m'You are popular on LinkedIn!'\u001b[0m\u001b[0;34m)\u001b[0m\u001b[0;34m\u001b[0m\u001b[0;34m\u001b[0m\u001b[0m\n\u001b[1;32m      4\u001b[0m \u001b[0;32melse\u001b[0m\u001b[0;34m:\u001b[0m\u001b[0;34m\u001b[0m\u001b[0;34m\u001b[0m\u001b[0m\n\u001b[1;32m      5\u001b[0m     \u001b[0mprint\u001b[0m\u001b[0;34m(\u001b[0m\u001b[0;34m'Condition not met.'\u001b[0m\u001b[0;34m)\u001b[0m\u001b[0;34m\u001b[0m\u001b[0;34m\u001b[0m\u001b[0m\n",
      "\u001b[0;31mNameError\u001b[0m: name 'num_views' is not defined"
     ]
    }
   ],
   "source": [
    "if (num_views > 15) and (medium == 'LinkedIn'):\n",
    "    print('Condition met.')\n",
    "    print('You are popular on LinkedIn!')\n",
    "else:\n",
    "    print('Condition not met.')\n",
    "    print('Try to be more visible!')"
   ]
  },
  {
   "cell_type": "markdown",
   "id": "e66813a1",
   "metadata": {},
   "source": [
    "Another important concept in Python data analysis are for-loops. They are used for iterating over a sequence (like a list or even a secquence of letters or a string). The code below shows the syntax. Run the cell."
   ]
  },
  {
   "cell_type": "code",
   "execution_count": null,
   "id": "e71bc334",
   "metadata": {},
   "outputs": [],
   "source": [
    "for letter in 'LinkedIn':\n",
    "    print(letter)"
   ]
  },
  {
   "cell_type": "markdown",
   "id": "dc5a1984",
   "metadata": {},
   "source": [
    "For-loops can be very useful to perform repeated operations on collections of data, which is something we often want to do. So, for instance, loops could be used to get the square of each element in a list/array. Or, we could use them to calculate the average value of a numeric column in a dataframe, etc.\n",
    "\n",
    "The next cell introduces the ```for l in list``` construct, which is a short form for going through elements in a list. Run the following to square each number in our list ind and observe the code:\n",
    "\n",
    "```\n",
    "import numpy as np\n",
    "\n",
    "ind = np.array(range(0, 10))\n",
    "for i in ind:\n",
    "    print(i**2)\n",
    "\n",
    "```\n",
    "\n",
    "```i**2``` is the power-operator in Python."
   ]
  },
  {
   "cell_type": "code",
   "execution_count": null,
   "id": "a8629b1b",
   "metadata": {},
   "outputs": [],
   "source": []
  },
  {
   "cell_type": "markdown",
   "id": "07c327d0",
   "metadata": {},
   "source": [
    "However NumPy also has easier operators to apply functions to the entire array at once, which is why we often prefer it over standard Python. \n",
    "\n",
    "Run ```np.square(ind)``` and admire the simplicity. "
   ]
  },
  {
   "cell_type": "code",
   "execution_count": null,
   "id": "fb24ef3c",
   "metadata": {},
   "outputs": [],
   "source": []
  },
  {
   "cell_type": "markdown",
   "id": "6b3afc5f",
   "metadata": {},
   "source": [
    "Here, NumPy is simply amazing and super fast. \n",
    "\n",
    "Let's say we want to take the average of our linkdin and facebook views. First load the social media data again by running the code below."
   ]
  },
  {
   "cell_type": "code",
   "execution_count": null,
   "id": "f18da9be",
   "metadata": {},
   "outputs": [],
   "source": [
    "linkedin = np.array([16, 9, 13, 5, 2, 17, 14])\n",
    "facebook = np.array([17, 7, 5, 16, 8, 13, 14])"
   ]
  },
  {
   "cell_type": "markdown",
   "id": "294eb6c5",
   "metadata": {},
   "source": [
    "Now run ```np.average(linkedin)``` to get the average of the LinkedIn array."
   ]
  },
  {
   "cell_type": "code",
   "execution_count": null,
   "id": "6f25a04a",
   "metadata": {},
   "outputs": [],
   "source": []
  },
  {
   "cell_type": "markdown",
   "id": "fb661a6c",
   "metadata": {},
   "source": [
    "To add 2 to each element in a numpy array we simply type the name of the array + 2. Try ```facebook + 2```."
   ]
  },
  {
   "cell_type": "code",
   "execution_count": null,
   "id": "344d06db",
   "metadata": {},
   "outputs": [],
   "source": []
  },
  {
   "cell_type": "markdown",
   "id": "bee252e4",
   "metadata": {},
   "source": [
    "You can also combine these arrays to get one exciting average count for all our social media with `np.average(facebook + linkedin)`."
   ]
  },
  {
   "cell_type": "code",
   "execution_count": null,
   "id": "95287c85",
   "metadata": {},
   "outputs": [],
   "source": []
  },
  {
   "cell_type": "markdown",
   "id": "f003dc22",
   "metadata": {},
   "source": [
    "You can also play with NumPy's other functions such as np.char.str_len. This counts the number of character for each entry in the flower_names list. \n",
    "\n",
    "Run \n",
    "```\n",
    "flower_names = np.array(['a', 'b', 'c', 'd', 'e', 'f', 'g', 'h', 'i', 'j'])\n",
    "np.char.str_len(flower_names)\n",
    "``` \n",
    "and find out that ..."
   ]
  },
  {
   "cell_type": "code",
   "execution_count": null,
   "id": "c8bddeb7",
   "metadata": {},
   "outputs": [],
   "source": []
  },
  {
   "cell_type": "markdown",
   "id": "ccc8e465",
   "metadata": {},
   "source": [
    "The outcome is not very surprising given that we made up the names of each flower and were so lazy to just use one letter each.\n",
    "\n",
    "What happens if you type in ```np.char.upper(flower_names)```?"
   ]
  },
  {
   "cell_type": "code",
   "execution_count": null,
   "id": "42cc2806",
   "metadata": {},
   "outputs": [],
   "source": []
  },
  {
   "cell_type": "markdown",
   "id": "7e457422",
   "metadata": {},
   "source": [
    "For our final example, run ```np.size(flower_names)```."
   ]
  },
  {
   "cell_type": "code",
   "execution_count": null,
   "id": "a27ccdbb",
   "metadata": {},
   "outputs": [],
   "source": []
  },
  {
   "cell_type": "markdown",
   "id": "008268c4",
   "metadata": {},
   "source": [
    "This returns obviously the lengths of flower_names. After this exercusion, let's return next to real-life datasets."
   ]
  },
  {
   "cell_type": "code",
   "execution_count": null,
   "id": "4fe538a6",
   "metadata": {},
   "outputs": [],
   "source": []
  }
 ],
 "metadata": {
  "kernelspec": {
   "display_name": "Python 3",
   "language": "python",
   "name": "python3"
  },
  "language_info": {
   "codemirror_mode": {
    "name": "ipython",
    "version": 3
   },
   "file_extension": ".py",
   "mimetype": "text/x-python",
   "name": "python",
   "nbconvert_exporter": "python",
   "pygments_lexer": "ipython3",
   "version": "3.9.10"
  }
 },
 "nbformat": 4,
 "nbformat_minor": 5
}

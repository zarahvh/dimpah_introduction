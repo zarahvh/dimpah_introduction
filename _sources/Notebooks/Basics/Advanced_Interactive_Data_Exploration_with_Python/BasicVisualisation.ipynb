{
 "cells": [
  {
   "cell_type": "markdown",
   "id": "30ffc422",
   "metadata": {},
   "source": [
    "## Plotting data"
   ]
  },
  {
   "cell_type": "markdown",
   "id": "8157e4df",
   "metadata": {},
   "source": [
    "Those last plots did look promising, didn’t they? Let’s start from the beginning and go through basic plots in Python.\n",
    "\n",
    "To make it a bit more interesting, we return to the LinkedIn and Facebook view numbers. We would like to investigate their relationship. Let's create our Linkedin and Facebook views of the week again and also create a dataframe df to hold them. Run the code below. Do you understand what it is doing?"
   ]
  },
  {
   "cell_type": "code",
   "execution_count": 1,
   "id": "e5223cd3",
   "metadata": {},
   "outputs": [
    {
     "data": {
      "text/html": [
       "<div>\n",
       "<style scoped>\n",
       "    .dataframe tbody tr th:only-of-type {\n",
       "        vertical-align: middle;\n",
       "    }\n",
       "\n",
       "    .dataframe tbody tr th {\n",
       "        vertical-align: top;\n",
       "    }\n",
       "\n",
       "    .dataframe thead th {\n",
       "        text-align: right;\n",
       "    }\n",
       "</style>\n",
       "<table border=\"1\" class=\"dataframe\">\n",
       "  <thead>\n",
       "    <tr style=\"text-align: right;\">\n",
       "      <th></th>\n",
       "      <th>LinkedIn</th>\n",
       "      <th>Facebook</th>\n",
       "    </tr>\n",
       "  </thead>\n",
       "  <tbody>\n",
       "    <tr>\n",
       "      <th>0</th>\n",
       "      <td>16</td>\n",
       "      <td>17</td>\n",
       "    </tr>\n",
       "    <tr>\n",
       "      <th>1</th>\n",
       "      <td>9</td>\n",
       "      <td>7</td>\n",
       "    </tr>\n",
       "    <tr>\n",
       "      <th>2</th>\n",
       "      <td>13</td>\n",
       "      <td>5</td>\n",
       "    </tr>\n",
       "    <tr>\n",
       "      <th>3</th>\n",
       "      <td>5</td>\n",
       "      <td>16</td>\n",
       "    </tr>\n",
       "    <tr>\n",
       "      <th>4</th>\n",
       "      <td>2</td>\n",
       "      <td>8</td>\n",
       "    </tr>\n",
       "    <tr>\n",
       "      <th>5</th>\n",
       "      <td>17</td>\n",
       "      <td>13</td>\n",
       "    </tr>\n",
       "    <tr>\n",
       "      <th>6</th>\n",
       "      <td>14</td>\n",
       "      <td>14</td>\n",
       "    </tr>\n",
       "  </tbody>\n",
       "</table>\n",
       "</div>"
      ],
      "text/plain": [
       "   LinkedIn  Facebook\n",
       "0        16        17\n",
       "1         9         7\n",
       "2        13         5\n",
       "3         5        16\n",
       "4         2         8\n",
       "5        17        13\n",
       "6        14        14"
      ]
     },
     "execution_count": 1,
     "metadata": {},
     "output_type": "execute_result"
    }
   ],
   "source": [
    "import pandas as pd\n",
    "import numpy as np\n",
    "\n",
    "linkedin = np.array([16, 9, 13, 5, 2, 17, 14])\n",
    "facebook = np.array([17, 7, 5, 16, 8, 13, 14])\n",
    "\n",
    "df = pd.DataFrame(zip(linkedin, facebook), columns = ['LinkedIn', 'Facebook'])\n",
    "df"
   ]
  },
  {
   "cell_type": "markdown",
   "id": "24271ba2",
   "metadata": {},
   "source": [
    "The earlier boxplot function came directly with the Pandas library. There are some limited plots in Pandas called basic plots: https://pandas.pydata.org/pandas-docs/stable/user_guide/visualization.html. It would be easy to plot the linkedin and facebook data directly as a line plot with df.plot()."
   ]
  },
  {
   "cell_type": "code",
   "execution_count": null,
   "id": "404ab51d",
   "metadata": {},
   "outputs": [],
   "source": []
  },
  {
   "cell_type": "markdown",
   "id": "8ebbf015",
   "metadata": {},
   "source": [
    "While Pandas, plots normally provide only a quick overview of the data - in this case it is actually very good because the data is quite simple. The plot function would, however, struggle with the death penalty dataset, as it contains different types of columns.\n",
    "\n",
    "We want more control and use the most popular libraries in Python to plot and visualise. According to https://matplotlib.org/, 'Matplotlib is a comprehensive library for creating static, animated, and interactive visualizations in Python'.\n",
    "\n",
    "Next, we import Matplotlib in the standard way with import matplotlib.pyplot as plt. Run the code below.\n",
    "\n",
    "We also need to tell Jupyter Notebook to display plots inline with the %matplotlib inline 'magic command'. We will cover more details on this when we move to advanced visualisations."
   ]
  },
  {
   "cell_type": "code",
   "execution_count": 2,
   "id": "42ccdc48",
   "metadata": {},
   "outputs": [],
   "source": [
    "import matplotlib.pyplot as plt\n",
    "\n",
    "%matplotlib inline"
   ]
  },
  {
   "cell_type": "markdown",
   "id": "8c68f7bc",
   "metadata": {},
   "source": [
    "With the Matplotlib function plt.plot, we simply plot a Numpy array. Try `plt.plot(linkedin)`."
   ]
  },
  {
   "cell_type": "code",
   "execution_count": null,
   "id": "ea80fc7d",
   "metadata": {},
   "outputs": [],
   "source": []
  },
  {
   "cell_type": "markdown",
   "id": "2ead8662",
   "metadata": {},
   "source": [
    "That’s ok but not very pretty. Let's make it darker blue and add dots for the points with `plt.plot(linkedin, marker='o', color='blue')`.\n",
    "\n",
    "Check out the Matplotlib documentation at https://matplotlib.org/stable/contents.html."
   ]
  },
  {
   "cell_type": "code",
   "execution_count": null,
   "id": "7fbd7439",
   "metadata": {},
   "outputs": [],
   "source": []
  },
  {
   "cell_type": "markdown",
   "id": "d383f425",
   "metadata": {},
   "source": [
    "Please, now type ```plt.title(‘LinkedIn’, color=‘red’, fontsize=20)``` to create a red main title of font size 20."
   ]
  },
  {
   "cell_type": "code",
   "execution_count": null,
   "id": "fc454cd4",
   "metadata": {},
   "outputs": [],
   "source": []
  },
  {
   "cell_type": "markdown",
   "id": "c532f926",
   "metadata": {},
   "source": [
    "Nice. But now the plot is missing. Let's add it back and run:\n",
    "\n",
    "```\n",
    "plt.plot(linkedin, marker='o', color='blue')\n",
    "plt.title('LinkedIn', color='red', fontsize=20)\n",
    "```\n",
    "\n",
    "As you can see we need to build a plot step by step ..."
   ]
  },
  {
   "cell_type": "code",
   "execution_count": null,
   "id": "df3c9417",
   "metadata": {},
   "outputs": [],
   "source": []
  },
  {
   "cell_type": "markdown",
   "id": "fed931a6",
   "metadata": {},
   "source": [
    "Better. \n",
    "\n",
    "Next, we would like to compare LinkedIn and Facebook views and create a graph containing both. \n",
    "\n",
    "First let’s set the xlabel (x-axis label) to Days and the ylabel to views. Run:\n",
    "\n",
    "```\n",
    "plt.plot(linkedin, marker='o', color='blue')\n",
    "plt.xlabel('Days')\n",
    "plt.ylabel('Views')\n",
    "```"
   ]
  },
  {
   "cell_type": "code",
   "execution_count": null,
   "id": "be27f46d",
   "metadata": {},
   "outputs": [],
   "source": []
  },
  {
   "cell_type": "markdown",
   "id": "c558b14e",
   "metadata": {},
   "source": [
    "Let’s add the facebook graph and run:\n",
    "\n",
    "```\n",
    "plt.plot(linkedin, marker='o', color='blue')\n",
    "plt.plot(facebook, marker='x', color='red')\n",
    "plt.xlabel('Days')\n",
    "plt.ylabel('Views')\n",
    "```\n",
    "\n",
    "As said, we build a plot step by step."
   ]
  },
  {
   "cell_type": "code",
   "execution_count": null,
   "id": "2c01cd6a",
   "metadata": {},
   "outputs": [],
   "source": []
  },
  {
   "cell_type": "markdown",
   "id": "a6069357",
   "metadata": {},
   "source": [
    "Add a title: 'LinkedIn-Facebook-Week'. Can you find out how?\n",
    "\n",
    "(Tip: Adapt plt.title and use color='red', fontsize=20)?"
   ]
  },
  {
   "cell_type": "code",
   "execution_count": null,
   "id": "ad4de4c6",
   "metadata": {},
   "outputs": [],
   "source": []
  },
  {
   "cell_type": "markdown",
   "id": "91a798fb",
   "metadata": {},
   "source": [
    "There are many more ways to improve this graph. You can, for instance, add a better x-axis description. We need to use the plt.xticks function and give it two arguments. The first is ticks, which is a list of the current labels. The second is labels, which is a list of the new labels. Easy ...\n",
    "\n",
    "Run:\n",
    "\n",
    "```\n",
    "plt.plot(linkedin, marker='o', color='blue')\n",
    "plt.plot(facebook, marker='x', color='red')\n",
    "plt.xlabel('Days')\n",
    "plt.ylabel('Views')\n",
    "plt.title('LinkedIn-Facebook-week', color='red', fontsize=20)\n",
    "plt.xticks(ticks=[0,1,2,3,4,5,6], labels=['Mon','Tue','Wed','Thu','Fri','Sat','Sun'])\n",
    "```"
   ]
  },
  {
   "cell_type": "code",
   "execution_count": null,
   "id": "543bcaab",
   "metadata": {},
   "outputs": [],
   "source": []
  },
  {
   "cell_type": "markdown",
   "id": "66a91b26",
   "metadata": {},
   "source": [
    "To get rid of all that additional plotting information on top, use plt.show() at the end to immediately display open figures. Run:\n",
    "    \n",
    "```\n",
    "plt.plot(linkedin, marker='o', color='blue')\n",
    "plt.plot(facebook, marker='x', color='red')\n",
    "plt.xlabel('Days')\n",
    "plt.ylabel('Views')\n",
    "plt.title('LinkedIn-Facebook-Week', color='red', fontsize=20)\n",
    "plt.xticks(ticks=[0,1,2,3,4,5,6],labels=['Mon','Tue','Wed','Thu','Fri','Sat','Sun'])\n",
    "plt.show()\n",
    "```"
   ]
  },
  {
   "cell_type": "code",
   "execution_count": null,
   "id": "3227a888",
   "metadata": {},
   "outputs": [],
   "source": []
  },
  {
   "cell_type": "markdown",
   "id": "915663b2",
   "metadata": {},
   "source": [
    "Finally, let us add a legend in the bottom left corner like in our original plot. We need to add plt.legend() at the end before plt.show(). Try it ..."
   ]
  },
  {
   "cell_type": "code",
   "execution_count": null,
   "id": "499ddf12",
   "metadata": {},
   "outputs": [],
   "source": []
  },
  {
   "cell_type": "markdown",
   "id": "e3e70499",
   "metadata": {},
   "source": [
    "Much better. You could add this graph already to your presentations. It looks good enough. There are, however, a million ways to improve this even further in Python/Matplotlib. If you are interested, just search the web for all the fantastic visualisations people have created with Matplotlib. \n",
    "\n",
    "But, we will move on to look at how visualisations can be used with a dataframe. Remember, dataframes are the workhorses of Python, which we use in almost all our data analysis tasks."
   ]
  },
  {
   "cell_type": "markdown",
   "id": "bab989f9",
   "metadata": {},
   "source": [
    "Let’s create a simple barplot of facebook views with a barplot using Matplotlib directly with Pandas: https://en.wikipedia.org/wiki/Bar_chart. Run ```df['Facebook'].plot.bar()```."
   ]
  },
  {
   "cell_type": "code",
   "execution_count": null,
   "id": "ec8d82dc",
   "metadata": {},
   "outputs": [],
   "source": []
  },
  {
   "cell_type": "markdown",
   "id": "28fabaec",
   "metadata": {},
   "source": [
    "And, finally let's create an advanced version by using the same as above but adding the days and a title. You can also change the colours of each bar with the color argument.\n",
    "\n",
    "Run:\n",
    "\n",
    "```\n",
    "df['Facebook'].plot.bar(color=['red', 'blue', 'purple', 'green', 'lavender', 'yellow', 'orange'])\n",
    "plt.title('Facebook')\n",
    "plt.xticks(ticks=[0,1,2,3,4,5,6],labels=['Mon','Tue','Wed','Thu','Fri','Sat','Sun'])\n",
    "plt.show()\n",
    "```"
   ]
  },
  {
   "cell_type": "code",
   "execution_count": null,
   "id": "0acbea30",
   "metadata": {},
   "outputs": [],
   "source": []
  },
  {
   "cell_type": "markdown",
   "id": "5a153f1b",
   "metadata": {},
   "source": [
    "We can also create a stacked barplot and show both the views of facebook and linkedin using the same function as before but now adding stacked=True as an argument.\n",
    "\n",
    "Run:\n",
    "\n",
    "```\n",
    "df.plot.bar(stacked=True)\n",
    "plt.title('Views')\n",
    "plt.xticks(ticks=[0,1,2,3,4,5,6],labels=['Mon','Tue','Wed','Thu','Fri','Sat','Sun'])\n",
    "plt.show()\n",
    "```"
   ]
  },
  {
   "cell_type": "code",
   "execution_count": null,
   "id": "e9e5a8a9",
   "metadata": {},
   "outputs": [],
   "source": []
  },
  {
   "cell_type": "markdown",
   "id": "e79bdca4",
   "metadata": {},
   "source": [
    "That's it for our basic visualisation exercises. We will have later a session that will build on this but for now we are done with our introduction to interactive Python."
   ]
  },
  {
   "cell_type": "code",
   "execution_count": null,
   "id": "c3afa5fc",
   "metadata": {},
   "outputs": [],
   "source": []
  }
 ],
 "metadata": {
  "kernelspec": {
   "display_name": "Python 3",
   "language": "python",
   "name": "python3"
  },
  "language_info": {
   "codemirror_mode": {
    "name": "ipython",
    "version": 3
   },
   "file_extension": ".py",
   "mimetype": "text/x-python",
   "name": "python",
   "nbconvert_exporter": "python",
   "pygments_lexer": "ipython3",
   "version": "3.9.10"
  }
 },
 "nbformat": 4,
 "nbformat_minor": 5
}

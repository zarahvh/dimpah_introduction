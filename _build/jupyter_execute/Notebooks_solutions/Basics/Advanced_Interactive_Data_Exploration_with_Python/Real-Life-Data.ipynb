{
 "cells": [
  {
   "cell_type": "markdown",
   "id": "d5311a85",
   "metadata": {},
   "source": [
    "## Exploring a real-life dataset"
   ]
  },
  {
   "cell_type": "markdown",
   "id": "f0fa81e9",
   "metadata": {},
   "source": [
    "Next, we use our knowledge to analyse a real-life dataset about death penalties. We will work through a detailed example of data exploration and analyse a very small part of the complex question of racism in the USA. \n",
    "\n",
    "The data deathpenalty_df covers judgements of defendants in cases of multiple murders in Florida between 1976 and 1987. The cases all have features that (a) describe whether the death penalty was handed out (where 0 refers to no, 1 to yes), (b) the race of the defendant and (c) the race of the victim (black is referred as 0, white is 1). \n",
    "\n",
    "Load the dataset by running the code below. Later on we will discuss in detail how you can load your own data in a dataframe, but if you are already curious check out: https://www.w3schools.com/python/pandas/pandas_csv.asp."
   ]
  },
  {
   "cell_type": "code",
   "execution_count": 1,
   "id": "fb33bd69",
   "metadata": {},
   "outputs": [],
   "source": [
    "import pandas as pd\n",
    "import numpy as np\n",
    "\n",
    "deathpenalty_df = pd.read_csv('https://tinyurl.com/4ejjhx94')"
   ]
  },
  {
   "cell_type": "markdown",
   "id": "f370da78",
   "metadata": {},
   "source": [
    "By typing in ```deathpenalty_df.head()```, we can see the first couple of cases/rows. What types of columns do you see?"
   ]
  },
  {
   "cell_type": "code",
   "execution_count": 2,
   "id": "b7162e33",
   "metadata": {},
   "outputs": [
    {
     "data": {
      "text/html": [
       "<div>\n",
       "<style scoped>\n",
       "    .dataframe tbody tr th:only-of-type {\n",
       "        vertical-align: middle;\n",
       "    }\n",
       "\n",
       "    .dataframe tbody tr th {\n",
       "        vertical-align: top;\n",
       "    }\n",
       "\n",
       "    .dataframe thead th {\n",
       "        text-align: right;\n",
       "    }\n",
       "</style>\n",
       "<table border=\"1\" class=\"dataframe\">\n",
       "  <thead>\n",
       "    <tr style=\"text-align: right;\">\n",
       "      <th></th>\n",
       "      <th>DeathPenalty</th>\n",
       "      <th>VictimRace</th>\n",
       "      <th>DefendantRace</th>\n",
       "      <th>Freq</th>\n",
       "    </tr>\n",
       "  </thead>\n",
       "  <tbody>\n",
       "    <tr>\n",
       "      <th>0</th>\n",
       "      <td>0</td>\n",
       "      <td>0</td>\n",
       "      <td>0</td>\n",
       "      <td>139</td>\n",
       "    </tr>\n",
       "    <tr>\n",
       "      <th>1</th>\n",
       "      <td>1</td>\n",
       "      <td>0</td>\n",
       "      <td>0</td>\n",
       "      <td>4</td>\n",
       "    </tr>\n",
       "    <tr>\n",
       "      <th>2</th>\n",
       "      <td>0</td>\n",
       "      <td>1</td>\n",
       "      <td>0</td>\n",
       "      <td>37</td>\n",
       "    </tr>\n",
       "    <tr>\n",
       "      <th>3</th>\n",
       "      <td>1</td>\n",
       "      <td>1</td>\n",
       "      <td>0</td>\n",
       "      <td>11</td>\n",
       "    </tr>\n",
       "    <tr>\n",
       "      <th>4</th>\n",
       "      <td>0</td>\n",
       "      <td>0</td>\n",
       "      <td>1</td>\n",
       "      <td>16</td>\n",
       "    </tr>\n",
       "  </tbody>\n",
       "</table>\n",
       "</div>"
      ],
      "text/plain": [
       "   DeathPenalty  VictimRace  DefendantRace  Freq\n",
       "0             0           0              0   139\n",
       "1             1           0              0     4\n",
       "2             0           1              0    37\n",
       "3             1           1              0    11\n",
       "4             0           0              1    16"
      ]
     },
     "execution_count": 2,
     "metadata": {},
     "output_type": "execute_result"
    }
   ],
   "source": [
    "deathpenalty_df.head()"
   ]
  },
  {
   "cell_type": "markdown",
   "id": "05b5604a",
   "metadata": {},
   "source": [
    "By entering ```deathpenalty_df.tail()```, we can see the last couple of cases/rows."
   ]
  },
  {
   "cell_type": "code",
   "execution_count": 3,
   "id": "3d4e56df",
   "metadata": {},
   "outputs": [
    {
     "data": {
      "text/html": [
       "<div>\n",
       "<style scoped>\n",
       "    .dataframe tbody tr th:only-of-type {\n",
       "        vertical-align: middle;\n",
       "    }\n",
       "\n",
       "    .dataframe tbody tr th {\n",
       "        vertical-align: top;\n",
       "    }\n",
       "\n",
       "    .dataframe thead th {\n",
       "        text-align: right;\n",
       "    }\n",
       "</style>\n",
       "<table border=\"1\" class=\"dataframe\">\n",
       "  <thead>\n",
       "    <tr style=\"text-align: right;\">\n",
       "      <th></th>\n",
       "      <th>DeathPenalty</th>\n",
       "      <th>VictimRace</th>\n",
       "      <th>DefendantRace</th>\n",
       "      <th>Freq</th>\n",
       "    </tr>\n",
       "  </thead>\n",
       "  <tbody>\n",
       "    <tr>\n",
       "      <th>3</th>\n",
       "      <td>1</td>\n",
       "      <td>1</td>\n",
       "      <td>0</td>\n",
       "      <td>11</td>\n",
       "    </tr>\n",
       "    <tr>\n",
       "      <th>4</th>\n",
       "      <td>0</td>\n",
       "      <td>0</td>\n",
       "      <td>1</td>\n",
       "      <td>16</td>\n",
       "    </tr>\n",
       "    <tr>\n",
       "      <th>5</th>\n",
       "      <td>1</td>\n",
       "      <td>0</td>\n",
       "      <td>1</td>\n",
       "      <td>0</td>\n",
       "    </tr>\n",
       "    <tr>\n",
       "      <th>6</th>\n",
       "      <td>0</td>\n",
       "      <td>1</td>\n",
       "      <td>1</td>\n",
       "      <td>414</td>\n",
       "    </tr>\n",
       "    <tr>\n",
       "      <th>7</th>\n",
       "      <td>1</td>\n",
       "      <td>1</td>\n",
       "      <td>1</td>\n",
       "      <td>53</td>\n",
       "    </tr>\n",
       "  </tbody>\n",
       "</table>\n",
       "</div>"
      ],
      "text/plain": [
       "   DeathPenalty  VictimRace  DefendantRace  Freq\n",
       "3             1           1              0    11\n",
       "4             0           0              1    16\n",
       "5             1           0              1     0\n",
       "6             0           1              1   414\n",
       "7             1           1              1    53"
      ]
     },
     "execution_count": 3,
     "metadata": {},
     "output_type": "execute_result"
    }
   ],
   "source": [
    "deathpenalty_df.tail()"
   ]
  },
  {
   "cell_type": "markdown",
   "id": "e11b1a98",
   "metadata": {},
   "source": [
    "Next, we will try to ask the data a few simple questions. With the function np.mean(), you can retrieve the average of a series of numbers.\n",
    "\n",
    "We want to know the average of the frequency column by selecting it from the dataframe. The average frequency of judgements is found by entering ```np.mean(deathpenalty_df['Freq'])```. Try it."
   ]
  },
  {
   "cell_type": "code",
   "execution_count": 4,
   "id": "b7b1aa8f",
   "metadata": {},
   "outputs": [
    {
     "data": {
      "text/plain": [
       "84.25"
      ]
     },
     "execution_count": 4,
     "metadata": {},
     "output_type": "execute_result"
    }
   ],
   "source": [
    "np.mean(deathpenalty_df['Freq'])"
   ]
  },
  {
   "cell_type": "markdown",
   "id": "7488e808",
   "metadata": {},
   "source": [
    "The NumPy mean function is very useful to understand data. When something is deemed average, it falls somewhere between the extreme ends of the scale. An average student might have marks falling in the middle of their classmates; an average weight is neither unusually light nor heavy. An average item is typical, and not too unlike the others in the group. You might think of an average as an exemplar or even an expectation/tendency if you do not anything else.\n",
    "\n",
    "median is another function like mean that summarizes a whole dataset by delivering a central tendency. Like mean, it identifies a value that falls in the middle of a set of data. median splits the upper 50% of a data from the lower 50%. It thus delivers the value that occurs halfway if we order a list of values. How do you get the median frequency of judgements? Hint: The NumPy function is called np.median."
   ]
  },
  {
   "cell_type": "code",
   "execution_count": 5,
   "id": "95fa92a0",
   "metadata": {},
   "outputs": [
    {
     "data": {
      "text/plain": [
       "26.5"
      ]
     },
     "execution_count": 5,
     "metadata": {},
     "output_type": "execute_result"
    }
   ],
   "source": [
    "np.median(deathpenalty_df['Freq'])"
   ]
  },
  {
   "cell_type": "markdown",
   "id": "73ed532f",
   "metadata": {},
   "source": [
    "There is a significant diffference between the mean and medium value. What does it mean? Check out https://www.datascienceblog.net/post/basic-statistics/mean_vs_median/.\n",
    "\n",
    "What is the lowest number of judgements ```(np.min)```? Assign the value to min_freq, please. Print out min_freq, too."
   ]
  },
  {
   "cell_type": "code",
   "execution_count": 6,
   "id": "3b9b3b4c",
   "metadata": {},
   "outputs": [
    {
     "data": {
      "text/plain": [
       "0"
      ]
     },
     "execution_count": 6,
     "metadata": {},
     "output_type": "execute_result"
    }
   ],
   "source": [
    "min_freq = np.min(deathpenalty_df['Freq'])\n",
    "min_freq"
   ]
  },
  {
   "cell_type": "markdown",
   "id": "4d3d6a27",
   "metadata": {},
   "source": [
    "What is the highest number of judgements (```np.max```)? Assign the value to max_freq, please. Print out max_freq, too."
   ]
  },
  {
   "cell_type": "code",
   "execution_count": 7,
   "id": "349e0f8e",
   "metadata": {},
   "outputs": [
    {
     "data": {
      "text/plain": [
       "414"
      ]
     },
     "execution_count": 7,
     "metadata": {},
     "output_type": "execute_result"
    }
   ],
   "source": [
    "max_freq = np.max(deathpenalty_df['Freq'])\n",
    "max_freq"
   ]
  },
  {
   "cell_type": "markdown",
   "id": "4c21c0b8",
   "metadata": {},
   "source": [
    "What kind of case combinations had the lowest numbers of judgements? We could use min_freq and max_freq to select the specific rows from deathpenalty_df. Do you know how? \n",
    "\n",
    "Try it for the highest number of judgements (```max_freq```)."
   ]
  },
  {
   "cell_type": "code",
   "execution_count": 8,
   "id": "42ce03c7",
   "metadata": {},
   "outputs": [
    {
     "data": {
      "text/html": [
       "<div>\n",
       "<style scoped>\n",
       "    .dataframe tbody tr th:only-of-type {\n",
       "        vertical-align: middle;\n",
       "    }\n",
       "\n",
       "    .dataframe tbody tr th {\n",
       "        vertical-align: top;\n",
       "    }\n",
       "\n",
       "    .dataframe thead th {\n",
       "        text-align: right;\n",
       "    }\n",
       "</style>\n",
       "<table border=\"1\" class=\"dataframe\">\n",
       "  <thead>\n",
       "    <tr style=\"text-align: right;\">\n",
       "      <th></th>\n",
       "      <th>DeathPenalty</th>\n",
       "      <th>VictimRace</th>\n",
       "      <th>DefendantRace</th>\n",
       "      <th>Freq</th>\n",
       "    </tr>\n",
       "  </thead>\n",
       "  <tbody>\n",
       "    <tr>\n",
       "      <th>6</th>\n",
       "      <td>0</td>\n",
       "      <td>1</td>\n",
       "      <td>1</td>\n",
       "      <td>414</td>\n",
       "    </tr>\n",
       "  </tbody>\n",
       "</table>\n",
       "</div>"
      ],
      "text/plain": [
       "   DeathPenalty  VictimRace  DefendantRace  Freq\n",
       "6             0           1              1   414"
      ]
     },
     "execution_count": 8,
     "metadata": {},
     "output_type": "execute_result"
    }
   ],
   "source": [
    "deathpenalty_df[deathpenalty_df['Freq'] == max_freq]"
   ]
  },
  {
   "cell_type": "markdown",
   "id": "6aed6a88",
   "metadata": {},
   "source": [
    "This selection is so common that we can optain these cases using functions that come with Pandas. \n",
    "\n",
    "To get the row with the smallest value for Freq, type `deathpenalty_df.nsmallest(1, 'Freq')`. The first argument specifies the numnber of items to retrieve and the second the column."
   ]
  },
  {
   "cell_type": "code",
   "execution_count": 9,
   "id": "d2b3d4c7",
   "metadata": {},
   "outputs": [
    {
     "data": {
      "text/html": [
       "<div>\n",
       "<style scoped>\n",
       "    .dataframe tbody tr th:only-of-type {\n",
       "        vertical-align: middle;\n",
       "    }\n",
       "\n",
       "    .dataframe tbody tr th {\n",
       "        vertical-align: top;\n",
       "    }\n",
       "\n",
       "    .dataframe thead th {\n",
       "        text-align: right;\n",
       "    }\n",
       "</style>\n",
       "<table border=\"1\" class=\"dataframe\">\n",
       "  <thead>\n",
       "    <tr style=\"text-align: right;\">\n",
       "      <th></th>\n",
       "      <th>DeathPenalty</th>\n",
       "      <th>VictimRace</th>\n",
       "      <th>DefendantRace</th>\n",
       "      <th>Freq</th>\n",
       "    </tr>\n",
       "  </thead>\n",
       "  <tbody>\n",
       "    <tr>\n",
       "      <th>5</th>\n",
       "      <td>1</td>\n",
       "      <td>0</td>\n",
       "      <td>1</td>\n",
       "      <td>0</td>\n",
       "    </tr>\n",
       "  </tbody>\n",
       "</table>\n",
       "</div>"
      ],
      "text/plain": [
       "   DeathPenalty  VictimRace  DefendantRace  Freq\n",
       "5             1           0              1     0"
      ]
     },
     "execution_count": 9,
     "metadata": {},
     "output_type": "execute_result"
    }
   ],
   "source": [
    "deathpenalty_df.nsmallest(1, 'Freq')"
   ]
  },
  {
   "cell_type": "markdown",
   "id": "33b7693b",
   "metadata": {},
   "source": [
    "Onwards ... \n",
    "\n",
    "Which case combinations had the highest number of judgements? You just need to change the function to ```deathpenalty_df.nlargest```."
   ]
  },
  {
   "cell_type": "code",
   "execution_count": 10,
   "id": "76ec6f7d",
   "metadata": {},
   "outputs": [
    {
     "data": {
      "text/html": [
       "<div>\n",
       "<style scoped>\n",
       "    .dataframe tbody tr th:only-of-type {\n",
       "        vertical-align: middle;\n",
       "    }\n",
       "\n",
       "    .dataframe tbody tr th {\n",
       "        vertical-align: top;\n",
       "    }\n",
       "\n",
       "    .dataframe thead th {\n",
       "        text-align: right;\n",
       "    }\n",
       "</style>\n",
       "<table border=\"1\" class=\"dataframe\">\n",
       "  <thead>\n",
       "    <tr style=\"text-align: right;\">\n",
       "      <th></th>\n",
       "      <th>DeathPenalty</th>\n",
       "      <th>VictimRace</th>\n",
       "      <th>DefendantRace</th>\n",
       "      <th>Freq</th>\n",
       "    </tr>\n",
       "  </thead>\n",
       "  <tbody>\n",
       "    <tr>\n",
       "      <th>6</th>\n",
       "      <td>0</td>\n",
       "      <td>1</td>\n",
       "      <td>1</td>\n",
       "      <td>414</td>\n",
       "    </tr>\n",
       "  </tbody>\n",
       "</table>\n",
       "</div>"
      ],
      "text/plain": [
       "   DeathPenalty  VictimRace  DefendantRace  Freq\n",
       "6             0           1              1   414"
      ]
     },
     "execution_count": 10,
     "metadata": {},
     "output_type": "execute_result"
    }
   ],
   "source": [
    "deathpenalty_df.nlargest(1, 'Freq')"
   ]
  },
  {
   "cell_type": "markdown",
   "id": "a2bfca4c",
   "metadata": {},
   "source": [
    "This is already very interesting. While whites murdering white is the by far most common case, there were no deapth penalities here.\n",
    "\n",
    "min and max are measures of the diversity or spread of data. Knowing about the spread provides a sense of the data’s highs and lows, and whether most values are like or unlike the mean and median. The span between the minimum and maximum value is known as the range. Calculate the range next using `max_freq - min_freq`."
   ]
  },
  {
   "cell_type": "code",
   "execution_count": 11,
   "id": "f89ad8f9",
   "metadata": {},
   "outputs": [
    {
     "data": {
      "text/plain": [
       "414"
      ]
     },
     "execution_count": 11,
     "metadata": {},
     "output_type": "execute_result"
    }
   ],
   "source": [
    "max_freq - min_freq"
   ]
  },
  {
   "cell_type": "markdown",
   "id": "fd9579e9",
   "metadata": {},
   "source": [
    "The data is very spread out ...\n",
    "\n",
    "To know more about the distribution of data, np.quantile comes in handy. The function defines cut-off points dividing observations. It is the function that helps us calculate the n-th quantile of the data. \n",
    "\n",
    "Check out ```np.quantile(deathpenalty_df['Freq'], [0.25,0.5, 0.75, 1])```. The first argument is the column and the second argument is the list of the percentage cut-off points at 25%, 50%, 75% and 100%."
   ]
  },
  {
   "cell_type": "code",
   "execution_count": 12,
   "id": "f44411e7",
   "metadata": {},
   "outputs": [
    {
     "data": {
      "text/plain": [
       "array([  9.25,  26.5 ,  74.5 , 414.  ])"
      ]
     },
     "execution_count": 12,
     "metadata": {},
     "output_type": "execute_result"
    }
   ],
   "source": [
    "np.quantile(deathpenalty_df['Freq'], [0.25,0.5, 0.75, 1])"
   ]
  },
  {
   "cell_type": "markdown",
   "id": "12f77170",
   "metadata": {},
   "source": [
    "The answer should read that 9.25 as frequency is the 25% cut-off, 26.5 the 50% cut-off, etc.\n",
    "\n",
    "There are two more really useful data exploration functions in Python. The first one is describe. Try ```deathpenalty_df.describe()``` and see what is returned."
   ]
  },
  {
   "cell_type": "code",
   "execution_count": 13,
   "id": "43603bca",
   "metadata": {},
   "outputs": [
    {
     "data": {
      "text/html": [
       "<div>\n",
       "<style scoped>\n",
       "    .dataframe tbody tr th:only-of-type {\n",
       "        vertical-align: middle;\n",
       "    }\n",
       "\n",
       "    .dataframe tbody tr th {\n",
       "        vertical-align: top;\n",
       "    }\n",
       "\n",
       "    .dataframe thead th {\n",
       "        text-align: right;\n",
       "    }\n",
       "</style>\n",
       "<table border=\"1\" class=\"dataframe\">\n",
       "  <thead>\n",
       "    <tr style=\"text-align: right;\">\n",
       "      <th></th>\n",
       "      <th>DeathPenalty</th>\n",
       "      <th>VictimRace</th>\n",
       "      <th>DefendantRace</th>\n",
       "      <th>Freq</th>\n",
       "    </tr>\n",
       "  </thead>\n",
       "  <tbody>\n",
       "    <tr>\n",
       "      <th>count</th>\n",
       "      <td>8.000000</td>\n",
       "      <td>8.000000</td>\n",
       "      <td>8.000000</td>\n",
       "      <td>8.000000</td>\n",
       "    </tr>\n",
       "    <tr>\n",
       "      <th>mean</th>\n",
       "      <td>0.500000</td>\n",
       "      <td>0.500000</td>\n",
       "      <td>0.500000</td>\n",
       "      <td>84.250000</td>\n",
       "    </tr>\n",
       "    <tr>\n",
       "      <th>std</th>\n",
       "      <td>0.534522</td>\n",
       "      <td>0.534522</td>\n",
       "      <td>0.534522</td>\n",
       "      <td>140.663479</td>\n",
       "    </tr>\n",
       "    <tr>\n",
       "      <th>min</th>\n",
       "      <td>0.000000</td>\n",
       "      <td>0.000000</td>\n",
       "      <td>0.000000</td>\n",
       "      <td>0.000000</td>\n",
       "    </tr>\n",
       "    <tr>\n",
       "      <th>25%</th>\n",
       "      <td>0.000000</td>\n",
       "      <td>0.000000</td>\n",
       "      <td>0.000000</td>\n",
       "      <td>9.250000</td>\n",
       "    </tr>\n",
       "    <tr>\n",
       "      <th>50%</th>\n",
       "      <td>0.500000</td>\n",
       "      <td>0.500000</td>\n",
       "      <td>0.500000</td>\n",
       "      <td>26.500000</td>\n",
       "    </tr>\n",
       "    <tr>\n",
       "      <th>75%</th>\n",
       "      <td>1.000000</td>\n",
       "      <td>1.000000</td>\n",
       "      <td>1.000000</td>\n",
       "      <td>74.500000</td>\n",
       "    </tr>\n",
       "    <tr>\n",
       "      <th>max</th>\n",
       "      <td>1.000000</td>\n",
       "      <td>1.000000</td>\n",
       "      <td>1.000000</td>\n",
       "      <td>414.000000</td>\n",
       "    </tr>\n",
       "  </tbody>\n",
       "</table>\n",
       "</div>"
      ],
      "text/plain": [
       "       DeathPenalty  VictimRace  DefendantRace        Freq\n",
       "count      8.000000    8.000000       8.000000    8.000000\n",
       "mean       0.500000    0.500000       0.500000   84.250000\n",
       "std        0.534522    0.534522       0.534522  140.663479\n",
       "min        0.000000    0.000000       0.000000    0.000000\n",
       "25%        0.000000    0.000000       0.000000    9.250000\n",
       "50%        0.500000    0.500000       0.500000   26.500000\n",
       "75%        1.000000    1.000000       1.000000   74.500000\n",
       "max        1.000000    1.000000       1.000000  414.000000"
      ]
     },
     "execution_count": 13,
     "metadata": {},
     "output_type": "execute_result"
    }
   ],
   "source": [
    "deathpenalty_df.describe()"
   ]
  },
  {
   "cell_type": "markdown",
   "id": "07dc51f7",
   "metadata": {},
   "source": [
    "```describes``` returns the value you just tried to find yourself! Oh, well. \n",
    "\n",
    "There is another Pandas function called ```info()```, which returns the structure of a dataframe. It is very useful to find out about columns and features of a dataset. Try ```deathpenalty_df.info()```."
   ]
  },
  {
   "cell_type": "code",
   "execution_count": 14,
   "id": "acc72498",
   "metadata": {},
   "outputs": [
    {
     "name": "stdout",
     "output_type": "stream",
     "text": [
      "<class 'pandas.core.frame.DataFrame'>\n",
      "RangeIndex: 8 entries, 0 to 7\n",
      "Data columns (total 4 columns):\n",
      " #   Column         Non-Null Count  Dtype\n",
      "---  ------         --------------  -----\n",
      " 0   DeathPenalty   8 non-null      int64\n",
      " 1   VictimRace     8 non-null      int64\n",
      " 2   DefendantRace  8 non-null      int64\n",
      " 3   Freq           8 non-null      int64\n",
      "dtypes: int64(4)\n",
      "memory usage: 384.0 bytes\n"
     ]
    }
   ],
   "source": [
    "deathpenalty_df.info()"
   ]
  },
  {
   "cell_type": "markdown",
   "id": "47b13be3",
   "metadata": {},
   "source": [
    "Summary statistics work only with what in statistics is called numerical data, which is basically anything measured in numbers. Freq is a numerical column.\n",
    "\n",
    "Alternatively, if data is represented by a set of categories, it is called categorical or nominal. In Python, we can compare categorical features by counting the values of the VictimRace to see how often each race occurs by typing ```deathpenalty_df.value_counts('VictimRace')```. You will see that both victim races are equally represented.\n",
    "\n",
    "BTW: 'race' is a highly contested idea, and we should be more careful than the data we use, which assigns people to two very simplified categories. Discussing such constraint should be part of your own critical data analysis."
   ]
  },
  {
   "cell_type": "code",
   "execution_count": 15,
   "id": "472f30d5",
   "metadata": {},
   "outputs": [
    {
     "data": {
      "text/plain": [
       "VictimRace\n",
       "0    4\n",
       "1    4\n",
       "dtype: int64"
      ]
     },
     "execution_count": 15,
     "metadata": {},
     "output_type": "execute_result"
    }
   ],
   "source": [
    "deathpenalty_df.value_counts('VictimRace')"
   ]
  },
  {
   "cell_type": "markdown",
   "id": "c02eae53",
   "metadata": {},
   "source": [
    "We are only getting warm. Let’s make this all a little bit more complicated. \n",
    "\n",
    "We want to know how many 'black' or 'white' defandants received the death penalty. \n",
    "\n",
    "Remember that a black person is represented by 0 and a white by 1. A death penalty was handed out if the column DeathPenalty equals 1, with 0 otherwise. \n",
    "\n",
    "Let’s first create a new dataframe black_and_deathpenalty, which contains black defendants which received the death penalty by using deathpenalty_df.loc[]. It is a bit complicated: ```black_and_deathpenalty = deathpenalty_df.loc[(deathpenalty_df['DefendantRace'] == 0) & (deathpenalty_df['DeathPenalty'] == 1)]```."
   ]
  },
  {
   "cell_type": "code",
   "execution_count": 16,
   "id": "a6833eaa",
   "metadata": {},
   "outputs": [],
   "source": [
    "black_and_deathpenalty = deathpenalty_df.loc[(deathpenalty_df['DefendantRace'] == 0) & (deathpenalty_df['DeathPenalty'] == 1)]"
   ]
  },
  {
   "cell_type": "markdown",
   "id": "67d5c2bb",
   "metadata": {},
   "source": [
    "Similarly, we can get the white defendants who received the death penalty. Get the subset and assign it to white_and_deathpenalty."
   ]
  },
  {
   "cell_type": "code",
   "execution_count": 17,
   "id": "14fbfd84",
   "metadata": {},
   "outputs": [],
   "source": [
    "white_and_deathpenalty = deathpenalty_df.loc[(deathpenalty_df['DefendantRace'] == 1) & (deathpenalty_df['DeathPenalty'] == 1)]"
   ]
  },
  {
   "cell_type": "markdown",
   "id": "9ac4baae",
   "metadata": {},
   "source": [
    "Overall, we want to compare the likelihood of white and black defendants to receive the death penalty. In order to achieve this, the next step is to find out about the overall number of black people who received the death penalty. You can get this with the sum function, which we have already met and assign it to n_black_deathpenalty. Run ```n_black_deathpenalty = black_and_deathpenalty['Freq'].sum()```. Print out n_black_deathpenalty."
   ]
  },
  {
   "cell_type": "code",
   "execution_count": 18,
   "id": "5eeba3ce",
   "metadata": {},
   "outputs": [
    {
     "data": {
      "text/plain": [
       "15"
      ]
     },
     "execution_count": 18,
     "metadata": {},
     "output_type": "execute_result"
    }
   ],
   "source": [
    "n_black_deathpenalty = black_and_deathpenalty['Freq'].sum()\n",
    "n_black_deathpenalty"
   ]
  },
  {
   "cell_type": "markdown",
   "id": "ea137d93",
   "metadata": {},
   "source": [
    "Next, find those whites, which were given a death penalty. Assign to a new variable n_white_deathpenalty."
   ]
  },
  {
   "cell_type": "code",
   "execution_count": 19,
   "id": "509ffccd",
   "metadata": {},
   "outputs": [],
   "source": [
    "n_white_deathpenalty = white_and_deathpenalty['Freq'].sum()\n",
    "\n"
   ]
  },
  {
   "cell_type": "markdown",
   "id": "b9df6f8c",
   "metadata": {},
   "source": [
    "What is therefore the proportion of black people receiving the death penalty? Remember you can get this by dividing the number of black defendants with the death penalty by the total number of defendants with the death penalty."
   ]
  },
  {
   "cell_type": "code",
   "execution_count": 20,
   "id": "b1c67df4",
   "metadata": {},
   "outputs": [
    {
     "data": {
      "text/plain": [
       "0.22058823529411764"
      ]
     },
     "execution_count": 20,
     "metadata": {},
     "output_type": "execute_result"
    }
   ],
   "source": [
    "n_black_deathpenalty / (n_black_deathpenalty + n_white_deathpenalty)"
   ]
  },
  {
   "cell_type": "markdown",
   "id": "08eb8108",
   "metadata": {},
   "source": [
    "That’s quite a low percentage. Do we  not need to worry then about racial biases in the judgements? What other information do we need to come to such a conclusion? Let’s find out next.\n",
    "\n",
    "Proportionally, how many of the death penalties handed out to black people were for killing a white person? \n",
    "\n",
    "The expression ```black_and_deathpenalty.loc[(black_and_deathpenalty['VictimRace'] == 1)]['Freq'] / n_black_deathpenalty``` is a bit complicated but gets the right result. Can you explain how?"
   ]
  },
  {
   "cell_type": "code",
   "execution_count": 21,
   "id": "39076126",
   "metadata": {},
   "outputs": [
    {
     "data": {
      "text/plain": [
       "3    0.733333\n",
       "Name: Freq, dtype: float64"
      ]
     },
     "execution_count": 21,
     "metadata": {},
     "output_type": "execute_result"
    }
   ],
   "source": [
    "black_and_deathpenalty.loc[(black_and_deathpenalty['VictimRace'] == 1)]['Freq'] / n_black_deathpenalty"
   ]
  },
  {
   "cell_type": "markdown",
   "id": "33111f52",
   "metadata": {},
   "source": [
    "Finally, how likely is it that a white person killing a black person will receive the death penalty? Can you change the last expression? "
   ]
  },
  {
   "cell_type": "code",
   "execution_count": 22,
   "id": "75ff10a4",
   "metadata": {},
   "outputs": [
    {
     "data": {
      "text/plain": [
       "5    0.0\n",
       "Name: Freq, dtype: float64"
      ]
     },
     "execution_count": 22,
     "metadata": {},
     "output_type": "execute_result"
    }
   ],
   "source": [
    "white_and_deathpenalty.loc[(white_and_deathpenalty['VictimRace'] == 0)]['Freq'] / n_white_deathpenalty"
   ]
  },
  {
   "cell_type": "markdown",
   "id": "eba513c4",
   "metadata": {},
   "source": [
    "0 should be the answer though there were 53 death penalities for white people.\n",
    "\n",
    "Out of 15 death penalties for black people, 73% were for killing a white person. While none of the 53 death penalties for white people in Florida were given for killing a black person. \n",
    "\n",
    "I hope you can see that there are many powerful functions to explore data directly in Python. Another really good way to explore data is not to ask direct questions but to summarize it with graphs and visualisations. Visualisations and graphs are easy to do with Python."
   ]
  },
  {
   "cell_type": "markdown",
   "id": "6fafb5a3",
   "metadata": {},
   "source": [
    "Try ```deathpenalty_df.boxplot('Freq')```? What do you see? Ask the Internet!"
   ]
  },
  {
   "cell_type": "code",
   "execution_count": 23,
   "id": "50924c14",
   "metadata": {},
   "outputs": [
    {
     "data": {
      "text/plain": [
       "<AxesSubplot:>"
      ]
     },
     "execution_count": 23,
     "metadata": {},
     "output_type": "execute_result"
    },
    {
     "data": {
      "image/png": "[encoded data removed]",
      "text/plain": [
       "<Figure size 432x288 with 1 Axes>"
      ]
     },
     "metadata": {
      "filenames": {
       "image/png": "/Users/Zarah/Desktop/interactive_dimpah/dimpah_introduction/_build/jupyter_execute/Notebooks_solutions/Basics/Advanced_Interactive_Data_Exploration_with_Python/Real-Life-Data_47_1.png"
      },
      "needs_background": "light"
     },
     "output_type": "display_data"
    }
   ],
   "source": [
    "deathpenalty_df.boxplot('Freq')"
   ]
  },
  {
   "cell_type": "markdown",
   "id": "9c116251",
   "metadata": {},
   "source": [
    "The boxplot displays the centre and spread in a format that allows you to quickly obtain a sense of the behaviour of the data. The median is denoted by the line inside the box while the box around it stands for the spread. The boxplot shows one outlier (the top dot). Can you identify it in the dataset?\n",
    "\n",
    "But this was just a taste of the visualisations that we focus on in the next sessions."
   ]
  },
  {
   "cell_type": "code",
   "execution_count": null,
   "id": "335f2a62",
   "metadata": {},
   "outputs": [],
   "source": []
  }
 ],
 "metadata": {
  "kernelspec": {
   "display_name": "Python 3",
   "language": "python",
   "name": "python3"
  },
  "language_info": {
   "codemirror_mode": {
    "name": "ipython",
    "version": 3
   },
   "file_extension": ".py",
   "mimetype": "text/x-python",
   "name": "python",
   "nbconvert_exporter": "python",
   "pygments_lexer": "ipython3",
   "version": "3.9.10"
  }
 },
 "nbformat": 4,
 "nbformat_minor": 5
}
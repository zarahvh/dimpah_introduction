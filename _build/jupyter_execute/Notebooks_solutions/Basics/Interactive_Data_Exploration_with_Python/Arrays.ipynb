{
 "cells": [
  {
   "cell_type": "markdown",
   "id": "bb5f00c7",
   "metadata": {},
   "source": [
    "## Arrays"
   ]
  },
  {
   "cell_type": "markdown",
   "id": "4c1ebcbf",
   "metadata": {},
   "source": [
    "The next new concept is the NumPy array. You often use this construct in data analysis. We want to employ the NumPy array to filter elements in our lists and even bring them together into two dimensions. Up to now we only had one dimension, but why not add one more?\n",
    "\n",
    "NumPy has been a long-standing toolkit for data analysis. According to https://numpy.org/, it is 'the fundamental package for scientific computing with Python'. It features heavily in what is still a standard introduction in our field: https://wesmckinney.com/pages/book.html. It is a really good book to further work on the topics that are discussed in these introductions.\n",
    "\n",
    "First, we have to import the library numpy. You always do that in Python with import. In this case, type in ```import numpy```."
   ]
  },
  {
   "cell_type": "code",
   "execution_count": 1,
   "id": "e94860e8",
   "metadata": {},
   "outputs": [],
   "source": [
    "import numpy"
   ]
  },
  {
   "cell_type": "markdown",
   "id": "e59d7800",
   "metadata": {},
   "source": [
    "Let’s move on from our gambling and look at social media. We will now introduce an example from social analytics brought to us by [dataquest.com](http://dataquest.io/), which we will come back to again later in the course. \n",
    "\n",
    "You have a LinkedIn account and a Facebook account and want to find out, which one has more views and is more successful. You collected the views per day for a particular week. \n",
    "\n",
    "Type in ```linkedin = numpy.array([16, 9, 13, 5, 2, 17, 14])``` to record the views for LinkedIn."
   ]
  },
  {
   "cell_type": "code",
   "execution_count": 2,
   "id": "eaff8f40",
   "metadata": {},
   "outputs": [],
   "source": [
    "linkedin = numpy.array([16, 9, 13, 5, 2, 17, 14])"
   ]
  },
  {
   "cell_type": "markdown",
   "id": "e514113b",
   "metadata": {},
   "source": [
    "This is how you create a NumPy array directly. If you are reminded of standard Python lists, you are right. For now, NumPy arrays and lists are basically the same for us. \n",
    "\n",
    "Now, please create the list ```facebook_list = [17, 7, 5, 16, 8, 13, 14]```. "
   ]
  },
  {
   "cell_type": "code",
   "execution_count": 3,
   "id": "507ffee5",
   "metadata": {},
   "outputs": [],
   "source": [
    "facebook_list = [17, 7, 5, 16, 8, 13, 14]"
   ]
  },
  {
   "cell_type": "markdown",
   "id": "7da2959d",
   "metadata": {},
   "source": [
    "You can transform lists easily into arrays with ```facebook = numpy.array(facebook_list)```. Try it."
   ]
  },
  {
   "cell_type": "code",
   "execution_count": 4,
   "id": "344f3bf5",
   "metadata": {},
   "outputs": [],
   "source": [
    "facebook = numpy.array(facebook_list)"
   ]
  },
  {
   "cell_type": "markdown",
   "id": "a1fcf1fb",
   "metadata": {},
   "source": [
    "Print out facebook to see that it is numpy array. "
   ]
  },
  {
   "cell_type": "code",
   "execution_count": 5,
   "id": "c93a12c2",
   "metadata": {},
   "outputs": [
    {
     "data": {
      "text/plain": [
       "array([17,  7,  5, 16,  8, 13, 14])"
      ]
     },
     "execution_count": 5,
     "metadata": {},
     "output_type": "execute_result"
    }
   ],
   "source": [
    "facebook"
   ]
  },
  {
   "cell_type": "markdown",
   "id": "69c525d3",
   "metadata": {},
   "source": [
    "Matrices are another important concept in data analysis. They are two-dimensional arrays. They are more commmon than you think. For instance, black and white images are such matrices. They contain a pixel value at the horizontal and vertical dimension. \n",
    "\n",
    "We can create a matrix called views by simply combing linkedin and facebook. Type in ```views = numpy.array([linkedin, facebook])```."
   ]
  },
  {
   "cell_type": "code",
   "execution_count": 6,
   "id": "28d2d1bf",
   "metadata": {},
   "outputs": [],
   "source": [
    "views = numpy.array([linkedin, facebook])"
   ]
  },
  {
   "cell_type": "markdown",
   "id": "7a931f7a",
   "metadata": {},
   "source": [
    "Print out views."
   ]
  },
  {
   "cell_type": "code",
   "execution_count": 7,
   "id": "6214d6c0",
   "metadata": {},
   "outputs": [
    {
     "data": {
      "text/plain": [
       "array([[16,  9, 13,  5,  2, 17, 14],\n",
       "       [17,  7,  5, 16,  8, 13, 14]])"
      ]
     },
     "execution_count": 7,
     "metadata": {},
     "output_type": "execute_result"
    }
   ],
   "source": [
    "views"
   ]
  },
  {
   "cell_type": "markdown",
   "id": "e5d2a19b",
   "metadata": {},
   "source": [
    "With `views.shape`, you can check the shape of the matrix. It has 2 rows and 7 columns."
   ]
  },
  {
   "cell_type": "code",
   "execution_count": 8,
   "id": "313d670f",
   "metadata": {},
   "outputs": [
    {
     "data": {
      "text/plain": [
       "(2, 7)"
      ]
     },
     "execution_count": 8,
     "metadata": {},
     "output_type": "execute_result"
    }
   ],
   "source": [
    "views.shape"
   ]
  },
  {
   "cell_type": "markdown",
   "id": "11de4e10",
   "metadata": {},
   "source": [
    "We can then ask a couple of good questions against the matrix views without having to reference the arrays it is made of. \n",
    "\n",
    "To find out on which days we had 13 views for either LinkedIn or Facebook, we type ```views == 13```. The == is the Boolean equivalence operator."
   ]
  },
  {
   "cell_type": "code",
   "execution_count": 9,
   "id": "a48afc27",
   "metadata": {},
   "outputs": [
    {
     "data": {
      "text/plain": [
       "array([[False, False,  True, False, False, False, False],\n",
       "       [False, False, False, False, False,  True, False]])"
      ]
     },
     "execution_count": 9,
     "metadata": {},
     "output_type": "execute_result"
    }
   ],
   "source": [
    "views == 13"
   ]
  },
  {
   "cell_type": "markdown",
   "id": "0b8647ad",
   "metadata": {},
   "source": [
    "When are views less than or equal to 14? Try ```views <= 14```."
   ]
  },
  {
   "cell_type": "code",
   "execution_count": 10,
   "id": "1dad5174",
   "metadata": {},
   "outputs": [
    {
     "data": {
      "text/plain": [
       "array([[False,  True,  True,  True,  True, False,  True],\n",
       "       [False,  True,  True, False,  True,  True,  True]])"
      ]
     },
     "execution_count": 10,
     "metadata": {},
     "output_type": "execute_result"
    }
   ],
   "source": [
    "views <= 14"
   ]
  },
  {
   "cell_type": "markdown",
   "id": "1f4845f6",
   "metadata": {},
   "source": [
    "How often does facebook equal or exceed linkedin views times two? This is actually a quite advanced expression already. Try it with ```sum(facebook >= (linkedin * 2))```. "
   ]
  },
  {
   "cell_type": "code",
   "execution_count": 11,
   "id": "2cb4315c",
   "metadata": {},
   "outputs": [
    {
     "data": {
      "text/plain": [
       "2"
      ]
     },
     "execution_count": 11,
     "metadata": {},
     "output_type": "execute_result"
    }
   ],
   "source": [
    "sum(facebook >= (linkedin * 2))"
   ]
  },
  {
   "cell_type": "markdown",
   "id": "ff5158d5",
   "metadata": {},
   "source": [
    "Take a moment to think about the components of this expression. Maybe, you want to take a piece of paper and a pen to write down all the components. Hint: Boolean variables can also be thought of a 0 for False and 1 for True.\n",
    "\n",
    "Similar to arrays, we can access each element of a matrix, but this time we of course need 2 dimensions. ``views[0][1]`` will select the first row’s second element. Try it."
   ]
  },
  {
   "cell_type": "code",
   "execution_count": 12,
   "id": "d35f88f6",
   "metadata": {},
   "outputs": [
    {
     "data": {
      "text/plain": [
       "9"
      ]
     },
     "execution_count": 12,
     "metadata": {},
     "output_type": "execute_result"
    }
   ],
   "source": [
    "views[0][1]"
   ]
  },
  {
   "cell_type": "markdown",
   "id": "5cd7ca01",
   "metadata": {},
   "source": [
    "The order of indexes is row first and then column. Try `views[1][4]`."
   ]
  },
  {
   "cell_type": "code",
   "execution_count": 13,
   "id": "bce4729a",
   "metadata": {},
   "outputs": [
    {
     "data": {
      "text/plain": [
       "8"
      ]
     },
     "execution_count": 13,
     "metadata": {},
     "output_type": "execute_result"
    }
   ],
   "source": [
    "views[1][4]"
   ]
  },
  {
   "cell_type": "markdown",
   "id": "a11eb8f2",
   "metadata": {},
   "source": [
    "There is much more we can do. NumPy contains a lot of support functions.\n",
    "\n",
    "We can, for instance, reorder the social media views, so that the social media companies are the columns and the rows are the days. \n",
    "\n",
    "If you remember your school days, you can do change the axes in a matrix by transposing it - in Python with numpy.transpose. Simply run `views_t = numpy.transpose(views)`. Print out views_t. "
   ]
  },
  {
   "cell_type": "code",
   "execution_count": 14,
   "id": "00a0bd0f",
   "metadata": {},
   "outputs": [],
   "source": [
    "views_t = numpy.transpose(views)"
   ]
  },
  {
   "cell_type": "markdown",
   "id": "c1603bf0",
   "metadata": {},
   "source": [
    "Array and matrix are important ideas for interactive data explorations. Many of the comparisons we did in this notebook cannot be done directly with Python lists. \n",
    "\n",
    "In the next session, we will be introduced to the idea of data frames, which takes the matrix one step further."
   ]
  },
  {
   "cell_type": "code",
   "execution_count": null,
   "id": "13d2f12e",
   "metadata": {},
   "outputs": [],
   "source": []
  }
 ],
 "metadata": {
  "kernelspec": {
   "display_name": "Python 3",
   "language": "python",
   "name": "python3"
  },
  "language_info": {
   "codemirror_mode": {
    "name": "ipython",
    "version": 3
   },
   "file_extension": ".py",
   "mimetype": "text/x-python",
   "name": "python",
   "nbconvert_exporter": "python",
   "pygments_lexer": "ipython3",
   "version": "3.9.10"
  }
 },
 "nbformat": 4,
 "nbformat_minor": 5
}
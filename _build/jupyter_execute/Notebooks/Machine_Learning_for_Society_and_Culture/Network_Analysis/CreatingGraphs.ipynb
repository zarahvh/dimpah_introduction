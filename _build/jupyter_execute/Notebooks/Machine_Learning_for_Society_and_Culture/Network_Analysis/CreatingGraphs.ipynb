{
 "cells": [
  {
   "cell_type": "markdown",
   "metadata": {},
   "source": [
    "#  Network Analysis\n",
    "\n",
    "## Graphs from Data"
   ]
  },
  {
   "cell_type": "markdown",
   "metadata": {},
   "source": [
    "In this session, we would like to start digging into the details of (social) network analysis. Let’s use a famous example from the past. Zachary’s karate club is a social network of friendships of 34 members of a karate club at a US university in the 1970s. It is described in W. W. Zachary, An information flow model for conflict and fission in small groups, Journal of Anthropological Research 33, 452-473 (1977). It is a famous early example of successful social network analysis. According to Wikipedia, ‘during the study a conflict arose between the administrator and instructor, which led to the split of the club into two. Half of the members formed a new club around the instructor members from the other part found a new instructor or gave up karate. Based on collected data Zachary assigned correctly all but one member of the club to the groups they actually joined after the split.’ https://en.wikipedia.org/wiki/Zachary%27s_karate_club. Let's see whether we can recreate this analysis.\n",
    "\n",
    "First we load some of the libraries we are always using. Run the code below."
   ]
  },
  {
   "cell_type": "code",
   "execution_count": 1,
   "metadata": {},
   "outputs": [],
   "source": [
    "import pandas as pd\n",
    "import numpy as np\n",
    "import matplotlib as plt"
   ]
  },
  {
   "cell_type": "markdown",
   "metadata": {},
   "source": [
    "Now to the main star of this show, which is the networkx library: https://networkx.org/ Load this commonly used network library with `import networkx as nx`."
   ]
  },
  {
   "cell_type": "code",
   "execution_count": 2,
   "metadata": {},
   "outputs": [],
   "source": [
    "import networkx as nx "
   ]
  },
  {
   "cell_type": "markdown",
   "metadata": {},
   "source": [
    "You have two data frames  in the environment. \n",
    "\n",
    "The first is karate_nodes, which contains the nodes of the network with information about the karate club members. Run the code below."
   ]
  },
  {
   "cell_type": "code",
   "execution_count": 3,
   "metadata": {},
   "outputs": [
    {
     "data": {
      "text/html": [
       "<div>\n",
       "<style scoped>\n",
       "    .dataframe tbody tr th:only-of-type {\n",
       "        vertical-align: middle;\n",
       "    }\n",
       "\n",
       "    .dataframe tbody tr th {\n",
       "        vertical-align: top;\n",
       "    }\n",
       "\n",
       "    .dataframe thead th {\n",
       "        text-align: right;\n",
       "    }\n",
       "</style>\n",
       "<table border=\"1\" class=\"dataframe\">\n",
       "  <thead>\n",
       "    <tr style=\"text-align: right;\">\n",
       "      <th></th>\n",
       "      <th>id</th>\n",
       "      <th>first_name</th>\n",
       "      <th>last_name</th>\n",
       "      <th>gender</th>\n",
       "      <th>age</th>\n",
       "    </tr>\n",
       "  </thead>\n",
       "  <tbody>\n",
       "    <tr>\n",
       "      <th>0</th>\n",
       "      <td>1</td>\n",
       "      <td>Trang</td>\n",
       "      <td>Philips</td>\n",
       "      <td>F</td>\n",
       "      <td>18</td>\n",
       "    </tr>\n",
       "    <tr>\n",
       "      <th>1</th>\n",
       "      <td>2</td>\n",
       "      <td>Lovie</td>\n",
       "      <td>Stanek</td>\n",
       "      <td>F</td>\n",
       "      <td>36</td>\n",
       "    </tr>\n",
       "    <tr>\n",
       "      <th>2</th>\n",
       "      <td>3</td>\n",
       "      <td>Gary</td>\n",
       "      <td>James</td>\n",
       "      <td>M</td>\n",
       "      <td>43</td>\n",
       "    </tr>\n",
       "    <tr>\n",
       "      <th>3</th>\n",
       "      <td>4</td>\n",
       "      <td>Maximo</td>\n",
       "      <td>Larimer</td>\n",
       "      <td>M</td>\n",
       "      <td>41</td>\n",
       "    </tr>\n",
       "    <tr>\n",
       "      <th>4</th>\n",
       "      <td>5</td>\n",
       "      <td>Bruno</td>\n",
       "      <td>Drury</td>\n",
       "      <td>M</td>\n",
       "      <td>18</td>\n",
       "    </tr>\n",
       "  </tbody>\n",
       "</table>\n",
       "</div>"
      ],
      "text/plain": [
       "   id first_name last_name gender  age\n",
       "0   1      Trang   Philips      F   18\n",
       "1   2      Lovie    Stanek      F   36\n",
       "2   3       Gary     James      M   43\n",
       "3   4     Maximo   Larimer      M   41\n",
       "4   5      Bruno     Drury      M   18"
      ]
     },
     "execution_count": 3,
     "metadata": {},
     "output_type": "execute_result"
    }
   ],
   "source": [
    "karate_nodes = pd.read_csv(\"https://tinyurl.com/2p9byesa\")\n",
    "karate_nodes.head()"
   ]
  },
  {
   "cell_type": "markdown",
   "metadata": {},
   "source": [
    "The second data frame karate_edges contains the edges with information whether one member likes another and by how much (weight). Run the code below."
   ]
  },
  {
   "cell_type": "code",
   "execution_count": 4,
   "metadata": {},
   "outputs": [
    {
     "data": {
      "text/html": [
       "<div>\n",
       "<style scoped>\n",
       "    .dataframe tbody tr th:only-of-type {\n",
       "        vertical-align: middle;\n",
       "    }\n",
       "\n",
       "    .dataframe tbody tr th {\n",
       "        vertical-align: top;\n",
       "    }\n",
       "\n",
       "    .dataframe thead th {\n",
       "        text-align: right;\n",
       "    }\n",
       "</style>\n",
       "<table border=\"1\" class=\"dataframe\">\n",
       "  <thead>\n",
       "    <tr style=\"text-align: right;\">\n",
       "      <th></th>\n",
       "      <th>from</th>\n",
       "      <th>to</th>\n",
       "      <th>weight</th>\n",
       "      <th>type</th>\n",
       "    </tr>\n",
       "  </thead>\n",
       "  <tbody>\n",
       "    <tr>\n",
       "      <th>0</th>\n",
       "      <td>1</td>\n",
       "      <td>2</td>\n",
       "      <td>9</td>\n",
       "      <td>likes</td>\n",
       "    </tr>\n",
       "    <tr>\n",
       "      <th>1</th>\n",
       "      <td>1</td>\n",
       "      <td>3</td>\n",
       "      <td>5</td>\n",
       "      <td>likes</td>\n",
       "    </tr>\n",
       "    <tr>\n",
       "      <th>2</th>\n",
       "      <td>1</td>\n",
       "      <td>4</td>\n",
       "      <td>2</td>\n",
       "      <td>likes</td>\n",
       "    </tr>\n",
       "    <tr>\n",
       "      <th>3</th>\n",
       "      <td>1</td>\n",
       "      <td>5</td>\n",
       "      <td>3</td>\n",
       "      <td>likes</td>\n",
       "    </tr>\n",
       "    <tr>\n",
       "      <th>4</th>\n",
       "      <td>1</td>\n",
       "      <td>6</td>\n",
       "      <td>12</td>\n",
       "      <td>likes</td>\n",
       "    </tr>\n",
       "  </tbody>\n",
       "</table>\n",
       "</div>"
      ],
      "text/plain": [
       "   from  to  weight   type\n",
       "0     1   2       9  likes\n",
       "1     1   3       5  likes\n",
       "2     1   4       2  likes\n",
       "3     1   5       3  likes\n",
       "4     1   6      12  likes"
      ]
     },
     "execution_count": 4,
     "metadata": {},
     "output_type": "execute_result"
    }
   ],
   "source": [
    "karate_edges = pd.read_csv(\"https://tinyurl.com/mtmwc8hd\")\n",
    "karate_edges.head()"
   ]
  },
  {
   "cell_type": "markdown",
   "metadata": {},
   "source": [
    "Now, let’s create a graph with these these edges and nodes. Each graph is just that, a collection of edges and nodes. In our case, we can easily create the graph from the edge list in karate_edges. The networkx command is:\n",
    "```\n",
    "G = nx.from_pandas_edgelist(karate_edges, source = \"from\", target = \"to\", create_using=nx.DiGraph(), edge_attr = True)\n",
    "```\n",
    "\n",
    "The first argument is the data frame, the second the source node, the third is the target node. We also tell from_pandas_edgelist to create a directed graph with create_using=nx.DiGraph() and to keep all the edge attributes with edge_attr = True."
   ]
  },
  {
   "cell_type": "code",
   "execution_count": 5,
   "metadata": {},
   "outputs": [],
   "source": [
    "G = nx.from_pandas_edgelist(karate_edges, source = \"from\", target = \"to\", create_using=nx.DiGraph(), edge_attr = True)"
   ]
  },
  {
   "cell_type": "markdown",
   "metadata": {},
   "source": [
    "Unfortunately, it is not very easy to add all the attributes of the nodes. https://newbedev.com/networkx-setting-node-attributes-from-dataframe explains how this is done by creating first a dictionary of dictionaries from karate_nodes.\n",
    "Type in: `node_attr = karate_nodes.set_index('id').to_dict('index')`. This will first set the index of karate_nodes to the ids of all nodes. to_dict will then add the row values as another dictionary. Check out how this looks for a row by adding `node_attr[2]`."
   ]
  },
  {
   "cell_type": "code",
   "execution_count": 6,
   "metadata": {},
   "outputs": [
    {
     "data": {
      "text/plain": [
       "{'first_name': 'Lovie', 'last_name': 'Stanek', 'gender': 'F', 'age': 36}"
      ]
     },
     "execution_count": 6,
     "metadata": {},
     "output_type": "execute_result"
    }
   ],
   "source": [
    "node_attr = karate_nodes.set_index('id').to_dict('index')\n",
    "node_attr[2]"
   ]
  },
  {
   "cell_type": "markdown",
   "metadata": {},
   "source": [
    "To set all the node attributes, now run `nx.set_node_attributes(G, node_attr)`."
   ]
  },
  {
   "cell_type": "code",
   "execution_count": 7,
   "metadata": {},
   "outputs": [],
   "source": [
    "nx.set_node_attributes(G, node_attr)"
   ]
  },
  {
   "cell_type": "markdown",
   "metadata": {},
   "source": [
    "With `print(nx.info(G))`, you print out information about the graph. "
   ]
  },
  {
   "cell_type": "code",
   "execution_count": 8,
   "metadata": {},
   "outputs": [
    {
     "name": "stdout",
     "output_type": "stream",
     "text": [
      "DiGraph with 34 nodes and 78 edges\n"
     ]
    }
   ],
   "source": [
    "print(nx.info(G))"
   ]
  },
  {
   "cell_type": "markdown",
   "metadata": {},
   "source": [
    "`G.nodes()` provides a view of nodes."
   ]
  },
  {
   "cell_type": "code",
   "execution_count": 9,
   "metadata": {},
   "outputs": [
    {
     "data": {
      "text/plain": [
       "NodeView((1, 2, 3, 4, 5, 6, 7, 8, 9, 11, 12, 13, 14, 18, 20, 22, 32, 31, 10, 28, 29, 33, 17, 34, 15, 16, 19, 21, 23, 24, 26, 30, 25, 27))"
      ]
     },
     "execution_count": 9,
     "metadata": {},
     "output_type": "execute_result"
    }
   ],
   "source": [
    "G.nodes()"
   ]
  },
  {
   "cell_type": "markdown",
   "metadata": {},
   "source": [
    "`G.edges()` provides a view of edges."
   ]
  },
  {
   "cell_type": "code",
   "execution_count": 10,
   "metadata": {},
   "outputs": [
    {
     "data": {
      "text/plain": [
       "OutEdgeView([(1, 2), (1, 3), (1, 4), (1, 5), (1, 6), (1, 7), (1, 8), (1, 9), (1, 11), (1, 12), (1, 13), (1, 14), (1, 18), (1, 20), (1, 22), (1, 32), (2, 3), (2, 4), (2, 8), (2, 14), (2, 18), (2, 20), (2, 22), (2, 31), (3, 4), (3, 8), (3, 9), (3, 10), (3, 14), (3, 28), (3, 29), (3, 33), (4, 8), (4, 13), (4, 14), (5, 7), (5, 11), (6, 7), (6, 11), (6, 17), (7, 17), (9, 31), (9, 33), (9, 34), (14, 34), (20, 34), (32, 33), (32, 34), (31, 33), (31, 34), (10, 34), (28, 34), (29, 32), (29, 34), (33, 34), (15, 33), (15, 34), (16, 33), (16, 34), (19, 33), (19, 34), (21, 33), (21, 34), (23, 33), (23, 34), (24, 26), (24, 28), (24, 30), (24, 33), (24, 34), (26, 32), (30, 33), (30, 34), (25, 26), (25, 28), (25, 32), (27, 30), (27, 34)])"
      ]
     },
     "execution_count": 10,
     "metadata": {},
     "output_type": "execute_result"
    }
   ],
   "source": [
    "G.edges()"
   ]
  },
  {
   "cell_type": "markdown",
   "metadata": {},
   "source": [
    "Let's check that we added the attributes correctly with `G.nodes.data()`."
   ]
  },
  {
   "cell_type": "code",
   "execution_count": 11,
   "metadata": {},
   "outputs": [
    {
     "data": {
      "text/plain": [
       "NodeDataView({1: {'first_name': 'Trang', 'last_name': 'Philips', 'gender': 'F', 'age': 18}, 2: {'first_name': 'Lovie', 'last_name': 'Stanek', 'gender': 'F', 'age': 36}, 3: {'first_name': 'Gary', 'last_name': 'James', 'gender': 'M', 'age': 43}, 4: {'first_name': 'Maximo', 'last_name': 'Larimer', 'gender': 'M', 'age': 41}, 5: {'first_name': 'Bruno', 'last_name': 'Drury', 'gender': 'M', 'age': 18}, 6: {'first_name': 'Lillian', 'last_name': 'Sowinski', 'gender': 'F', 'age': 22}, 7: {'first_name': 'Candice', 'last_name': 'Gonsalez', 'gender': 'F', 'age': 17}, 8: {'first_name': 'Kathrin', 'last_name': 'Macaluso', 'gender': 'F', 'age': 40}, 9: {'first_name': 'Ivonne', 'last_name': 'Montes', 'gender': 'F', 'age': 20}, 11: {'first_name': 'Nereida', 'last_name': 'Hair', 'gender': 'F', 'age': 18}, 12: {'first_name': 'Angelo', 'last_name': 'Demar', 'gender': 'M', 'age': 20}, 13: {'first_name': 'Alfredo', 'last_name': 'Fenderson', 'gender': 'M', 'age': 21}, 14: {'first_name': 'Clement', 'last_name': 'Boler', 'gender': 'M', 'age': 25}, 18: {'first_name': 'Hye', 'last_name': 'Acquaviva', 'gender': 'F', 'age': 40}, 20: {'first_name': 'Quintin', 'last_name': 'Levins', 'gender': 'M', 'age': 18}, 22: {'first_name': 'Iluminada', 'last_name': 'Yearsley', 'gender': 'F', 'age': 36}, 32: {'first_name': 'Samantha', 'last_name': 'Blasi', 'gender': 'F', 'age': 45}, 31: {'first_name': 'Anika', 'last_name': 'Campanella', 'gender': 'F', 'age': 23}, 10: {'first_name': 'Carline', 'last_name': 'Goodloe', 'gender': 'F', 'age': 44}, 28: {'first_name': 'Karina', 'last_name': 'Taul', 'gender': 'F', 'age': 21}, 29: {'first_name': 'Chanelle', 'last_name': 'Cerulli', 'gender': 'F', 'age': 25}, 33: {'first_name': 'Sook', 'last_name': 'Bettes', 'gender': 'F', 'age': 43}, 17: {'first_name': 'Natosha', 'last_name': 'Deavers', 'gender': 'F', 'age': 28}, 34: {'first_name': 'Alberta', 'last_name': 'Shi', 'gender': 'F', 'age': 23}, 15: {'first_name': 'Sharell', 'last_name': 'Lowrance', 'gender': 'F', 'age': 26}, 16: {'first_name': 'Jill', 'last_name': 'Hunsberger', 'gender': 'F', 'age': 42}, 19: {'first_name': 'Demetria', 'last_name': 'Reising', 'gender': 'F', 'age': 41}, 21: {'first_name': 'Ardith', 'last_name': 'Messenger', 'gender': 'F', 'age': 36}, 23: {'first_name': 'Marti', 'last_name': 'Kresge', 'gender': 'F', 'age': 43}, 24: {'first_name': 'Tillie', 'last_name': 'Hauser', 'gender': 'F', 'age': 36}, 26: {'first_name': 'Jimmy', 'last_name': 'Stoneman', 'gender': 'M', 'age': 45}, 30: {'first_name': 'Lezlie', 'last_name': 'Abdallah', 'gender': 'F', 'age': 26}, 25: {'first_name': 'Trish', 'last_name': 'Hennen', 'gender': 'F', 'age': 31}, 27: {'first_name': 'Walter', 'last_name': 'Mountain', 'gender': 'M', 'age': 26}})"
      ]
     },
     "execution_count": 11,
     "metadata": {},
     "output_type": "execute_result"
    }
   ],
   "source": [
    "G.nodes.data()"
   ]
  },
  {
   "cell_type": "markdown",
   "metadata": {},
   "source": [
    "To get the age of node 1, type `G.nodes[1]['age']`."
   ]
  },
  {
   "cell_type": "code",
   "execution_count": 12,
   "metadata": {},
   "outputs": [
    {
     "data": {
      "text/plain": [
       "18"
      ]
     },
     "execution_count": 12,
     "metadata": {},
     "output_type": "execute_result"
    }
   ],
   "source": [
    "G.nodes[1]['age']"
   ]
  },
  {
   "cell_type": "markdown",
   "metadata": {},
   "source": [
    "There are a lot of options here and it is good at this moment to check out the documention. To get only edges incident to nodes 1 and 3, type `G.edges([1, 3])`."
   ]
  },
  {
   "cell_type": "code",
   "execution_count": 13,
   "metadata": {},
   "outputs": [
    {
     "data": {
      "text/plain": [
       "OutEdgeDataView([(1, 2), (1, 3), (1, 4), (1, 5), (1, 6), (1, 7), (1, 8), (1, 9), (1, 11), (1, 12), (1, 13), (1, 14), (1, 18), (1, 20), (1, 22), (1, 32), (3, 4), (3, 8), (3, 9), (3, 10), (3, 14), (3, 28), (3, 29), (3, 33)])"
      ]
     },
     "execution_count": 13,
     "metadata": {},
     "output_type": "execute_result"
    }
   ],
   "source": [
    "G.edges([1, 3])  "
   ]
  },
  {
   "cell_type": "markdown",
   "metadata": {},
   "source": [
    "We can see the node together with its attributes, if we want to now only see the age attribute of each node, we access it using `nx.get_node_attributes(G, 'age').values()`. get_node_attributes returns a dictionary with the node's id as the key and the age the value. With values(), we only receive the values()."
   ]
  },
  {
   "cell_type": "code",
   "execution_count": 14,
   "metadata": {},
   "outputs": [
    {
     "data": {
      "text/plain": [
       "dict_values([18, 36, 43, 41, 18, 22, 17, 40, 20, 18, 20, 21, 25, 40, 18, 36, 45, 23, 44, 21, 25, 43, 28, 23, 26, 42, 41, 36, 43, 36, 45, 26, 31, 26])"
      ]
     },
     "execution_count": 14,
     "metadata": {},
     "output_type": "execute_result"
    }
   ],
   "source": [
    "nx.get_node_attributes(G, 'age').values()"
   ]
  },
  {
   "cell_type": "markdown",
   "metadata": {},
   "source": [
    "It's a dictionary. You would have to cast to a list to get only the ages. Do you know how?\n",
    "\n",
    "Let's try an plot this graph. It's easy in networkx. Just run nx.draw(G)."
   ]
  },
  {
   "cell_type": "code",
   "execution_count": 15,
   "metadata": {},
   "outputs": [
    {
     "data": {
      "image/png": "[encoded data removed]",
      "text/plain": [
       "<Figure size 432x288 with 1 Axes>"
      ]
     },
     "metadata": {
      "filenames": {
       "image/png": "/Users/Zarah/Desktop/interactive_dimpah/dimpah_introduction/_build/jupyter_execute/Notebooks/Machine_Learning_for_Society_and_Culture/Network_Analysis/CreatingGraphs_30_0.png"
      }
     },
     "output_type": "display_data"
    }
   ],
   "source": [
    "nx.draw(G)"
   ]
  },
  {
   "cell_type": "markdown",
   "metadata": {},
   "source": [
    "There is a great number of options to improve this graphy. You can, for instance, add the labels, use curved edges  and reduce the arrow size. Try: `nx.draw(G, with_labels=True, connectionstyle=\"arc3,rad=0.4\", arrowsize=0.4)`\n"
   ]
  },
  {
   "cell_type": "code",
   "execution_count": 16,
   "metadata": {},
   "outputs": [
    {
     "data": {
      "image/png": "[encoded data removed]",
      "text/plain": [
       "<Figure size 432x288 with 1 Axes>"
      ]
     },
     "metadata": {
      "filenames": {
       "image/png": "/Users/Zarah/Desktop/interactive_dimpah/dimpah_introduction/_build/jupyter_execute/Notebooks/Machine_Learning_for_Society_and_Culture/Network_Analysis/CreatingGraphs_32_0.png"
      }
     },
     "output_type": "display_data"
    }
   ],
   "source": [
    "nx.draw(G, with_labels=True, connectionstyle=\"arc3,rad=0.4\", arrowsize=0.4)"
   ]
  },
  {
   "cell_type": "markdown",
   "metadata": {},
   "source": [
    "In the next session, we will explore more options how to improve this graph."
   ]
  }
 ],
 "metadata": {
  "kernelspec": {
   "display_name": "Python 3 (ipykernel)",
   "language": "python",
   "name": "python3"
  },
  "language_info": {
   "codemirror_mode": {
    "name": "ipython",
    "version": 3
   },
   "file_extension": ".py",
   "mimetype": "text/x-python",
   "name": "python",
   "nbconvert_exporter": "python",
   "pygments_lexer": "ipython3",
   "version": "3.9.10"
  }
 },
 "nbformat": 4,
 "nbformat_minor": 4
}
{
 "cells": [
  {
   "cell_type": "markdown",
   "id": "0c04fc62",
   "metadata": {},
   "source": [
    "## Python Lists"
   ]
  },
  {
   "cell_type": "markdown",
   "id": "ba5ccb78",
   "metadata": {},
   "source": [
    "This was a lot of stuff in the first lesson. Unfortunately, this is necessary but once you have learned one programming language all of this becomes quite obvious and repetitive. \n",
    "\n",
    "And, there is more. We need to also learn one more important concept in Python. With so-called lists, you can collect several elements in the same variable. This is immensely useful as we will see later.\n",
    "\n",
    "Let’s try lists, which store an ordered set of values called elements. A list can contain any number of elements using brackets. Type in ```numeric_list = [1, 10, 49]``` to create a numeric list of three numbers."
   ]
  },
  {
   "cell_type": "code",
   "execution_count": 1,
   "id": "b0417290",
   "metadata": {},
   "outputs": [],
   "source": [
    "numeric_list = [1,10,49]"
   ]
  },
  {
   "cell_type": "markdown",
   "id": "dcc420d4",
   "metadata": {},
   "source": [
    "To check that the new list exists, please type ```numeric_list```."
   ]
  },
  {
   "cell_type": "code",
   "execution_count": 2,
   "id": "d8dcbfd4",
   "metadata": {},
   "outputs": [
    {
     "data": {
      "text/plain": [
       "[1, 10, 49]"
      ]
     },
     "execution_count": 2,
     "metadata": {},
     "output_type": "execute_result"
    }
   ],
   "source": [
    "numeric_list"
   ]
  },
  {
   "cell_type": "markdown",
   "id": "aad85c9c",
   "metadata": {},
   "source": [
    "We can also create a string/characters list, with ```string_list = ['abc', 'def', 'ghi']```."
   ]
  },
  {
   "cell_type": "code",
   "execution_count": 3,
   "id": "f40a576c",
   "metadata": {},
   "outputs": [],
   "source": [
    "string_list = ['abc', 'def', 'ghi']"
   ]
  },
  {
   "cell_type": "markdown",
   "id": "006d2864",
   "metadata": {},
   "source": [
    "To check that the new vector exists, please type ```string_list```."
   ]
  },
  {
   "cell_type": "code",
   "execution_count": 4,
   "id": "db36031a",
   "metadata": {},
   "outputs": [
    {
     "data": {
      "text/plain": [
       "['abc', 'def', 'ghi']"
      ]
     },
     "execution_count": 4,
     "metadata": {},
     "output_type": "execute_result"
    }
   ],
   "source": [
    "string_list"
   ]
  },
  {
   "cell_type": "markdown",
   "id": "98bed931",
   "metadata": {},
   "source": [
    "Lists are useful to, for instance, hold your poker winnings during the week. You do not play on Saturday and Sunday, but record all the other 5 days, by entering ```poker_list = [140, -50, 20, -120, 240]```. \n",
    "\n",
    "Thank you datacamp.com for this example! An excellent resource to learn data science things btw, but unfortunately you have to pay for it."
   ]
  },
  {
   "cell_type": "code",
   "execution_count": 5,
   "id": "fe3a7858",
   "metadata": {},
   "outputs": [],
   "source": [
    "poker_list = [140, -50, 20, -120, 240]"
   ]
  },
  {
   "cell_type": "markdown",
   "id": "b0d7de42",
   "metadata": {},
   "source": [
    "You feel this is your lucky week. So, you play roulette, too. Please record your winnings with ```roulette_list =[-24, -50, 100, -350, 10]```."
   ]
  },
  {
   "cell_type": "code",
   "execution_count": 6,
   "id": "f4907be2",
   "metadata": {},
   "outputs": [],
   "source": [
    "roulette_list =[-24, -50, 100, -350, 10]"
   ]
  },
  {
   "cell_type": "markdown",
   "id": "5af6b76c",
   "metadata": {},
   "source": [
    "Because you prefer it organised, you would now like to name each of the entries. This is possible in Python with dictionaries. Please create an empty dictionary by typing ```names_poker = {}```."
   ]
  },
  {
   "cell_type": "code",
   "execution_count": 7,
   "id": "f5f95a28",
   "metadata": {},
   "outputs": [],
   "source": [
    "names_poker = {}"
   ]
  },
  {
   "cell_type": "markdown",
   "id": "7ed6a7a8",
   "metadata": {},
   "source": [
    "To create a dictionary (which is like a named list), simply use the {} and then for each element the key to access the element comes first, then a ‘:’, and finish it with the value. \n",
    "\n",
    "So, in order to create a dictionary containing all your poker winnings type in ```names_poker = {'Monday': 140,'Tuesday': -50, 'Wednesday': 20, 'Thursday': -120, 'Friday': 240}```.\n",
    "\n",
    "Dictionaries are further explained at https://www.w3schools.com/python/python_dictionaries.asp. Also a good resource to learn some more Python."
   ]
  },
  {
   "cell_type": "code",
   "execution_count": 8,
   "id": "4a8f419f",
   "metadata": {},
   "outputs": [],
   "source": [
    "names_poker = {'Monday': 140,'Tuesday': -50, 'Wednesday': 20, 'Thursday': -120, 'Friday': 240}"
   ]
  },
  {
   "cell_type": "markdown",
   "id": "cab101dd",
   "metadata": {},
   "source": [
    "Now you can access a single element with ```names_poker['Monday']```. Type it in."
   ]
  },
  {
   "cell_type": "code",
   "execution_count": 9,
   "id": "64f08583",
   "metadata": {},
   "outputs": [
    {
     "data": {
      "text/plain": [
       "140"
      ]
     },
     "execution_count": 9,
     "metadata": {},
     "output_type": "execute_result"
    }
   ],
   "source": [
    "names_poker['Monday']"
   ]
  },
  {
   "cell_type": "markdown",
   "id": "ee16a5b3",
   "metadata": {},
   "source": [
    "Next, you are interested in how much you win in poker and roulette per day. \n",
    "\n",
    "You can simply add up all the elements in the list. Remember that we can use built-in functions? To add up elements in a list we can use the function sum, which comes directly with Python. Try it with ```sum(poker_list)```."
   ]
  },
  {
   "cell_type": "code",
   "execution_count": 10,
   "id": "f7f48e86",
   "metadata": {},
   "outputs": [
    {
     "data": {
      "text/plain": [
       "230"
      ]
     },
     "execution_count": 10,
     "metadata": {},
     "output_type": "execute_result"
    }
   ],
   "source": [
    "sum(poker_list)"
   ]
  },
  {
   "cell_type": "markdown",
   "id": "f68e4e0d",
   "metadata": {},
   "source": [
    "And of course we can also do ```sum(roulette_list)```."
   ]
  },
  {
   "cell_type": "code",
   "execution_count": 11,
   "id": "45ac0ba6",
   "metadata": {},
   "outputs": [
    {
     "data": {
      "text/plain": [
       "-314"
      ]
     },
     "execution_count": 11,
     "metadata": {},
     "output_type": "execute_result"
    }
   ],
   "source": [
    "sum(roulette_list)"
   ]
  },
  {
   "cell_type": "markdown",
   "id": "c67bad53",
   "metadata": {},
   "source": [
    "In order to get our total winnings per day for the week, we can simply add both lists with the Python sum function. Type in ```total_week = sum(poker_list) + sum(roulette_list)```."
   ]
  },
  {
   "cell_type": "code",
   "execution_count": 12,
   "id": "bdc77e08",
   "metadata": {},
   "outputs": [],
   "source": [
    "total_week = sum(poker_list) + sum(roulette_list)"
   ]
  },
  {
   "cell_type": "markdown",
   "id": "e08993ed",
   "metadata": {},
   "source": [
    "Print out total_week."
   ]
  },
  {
   "cell_type": "code",
   "execution_count": 13,
   "id": "f3740336",
   "metadata": {},
   "outputs": [
    {
     "data": {
      "text/plain": [
       "-84"
      ]
     },
     "execution_count": 13,
     "metadata": {},
     "output_type": "execute_result"
    }
   ],
   "source": [
    "total_week"
   ]
  },
  {
   "cell_type": "markdown",
   "id": "e80c4b90",
   "metadata": {},
   "source": [
    "We have almost covered everything there is to know about lists. One more important concept is that lists are indexed. Using square brackets, we can select the first, second and third element directly with 0, 1, 2, etc. respectively. So, the index count in Python starts with 0 for the first element. The last element is then the length of the list n – 1. \n",
    "\n",
    "To select Monday’s poker winning (first day of the week) simply use square brackets [] and type ```poker_monday = poker_list[0]```."
   ]
  },
  {
   "cell_type": "code",
   "execution_count": 14,
   "id": "757a9fb2",
   "metadata": {},
   "outputs": [],
   "source": [
    "poker_monday = poker_list[0]"
   ]
  },
  {
   "cell_type": "markdown",
   "id": "37a514ab",
   "metadata": {},
   "source": [
    "Print out poker_monday."
   ]
  },
  {
   "cell_type": "code",
   "execution_count": 15,
   "id": "ac8650e0",
   "metadata": {},
   "outputs": [
    {
     "data": {
      "text/plain": [
       "140"
      ]
     },
     "execution_count": 15,
     "metadata": {},
     "output_type": "execute_result"
    }
   ],
   "source": [
    "poker_monday"
   ]
  },
  {
   "cell_type": "markdown",
   "id": "db555cf7",
   "metadata": {},
   "source": [
    "You can also select more than one element with the colon operator. \n",
    "\n",
    "In order to select your winnings from Tuesday to Friday, please run ```roulette_selection_list = roulette_list[1:5]```.  The first value, left of the colon, is the first index to select (in this case Tuesday). The last value is the first index NOT to select (here an imaginary Saturday). Print out roulette_selection_list."
   ]
  },
  {
   "cell_type": "code",
   "execution_count": 16,
   "id": "0e6dacd6",
   "metadata": {},
   "outputs": [
    {
     "data": {
      "text/plain": [
       "[-50, 100, -350, 10]"
      ]
     },
     "execution_count": 16,
     "metadata": {},
     "output_type": "execute_result"
    }
   ],
   "source": [
    "roulette_selection_list = roulette_list[1:5]\n",
    "roulette_selection_list"
   ]
  },
  {
   "cell_type": "markdown",
   "id": "41ca7457",
   "metadata": {},
   "source": [
    "This is called list slicing in Python and requires some getting used to.\n",
    "\n",
    "If you have a list l, these are the options:\n",
    "\n",
    "```\n",
    "- l[start:stop]  # items start through stop-1\n",
    "- l[start:]      # items start through the rest of the array\n",
    "- l[:stop]       # items from the beginning through stop-1\n",
    "- l[:]           # a copy of the whole array\n",
    "```\n",
    "\n",
    "To find out about our roulette winnings from Tuesday to Friday, we can use sum again. Try ```sum(roulette_selection_list)```."
   ]
  },
  {
   "cell_type": "code",
   "execution_count": 17,
   "id": "3e18db8f",
   "metadata": {},
   "outputs": [
    {
     "data": {
      "text/plain": [
       "-290"
      ]
     },
     "execution_count": 17,
     "metadata": {},
     "output_type": "execute_result"
    }
   ],
   "source": [
    "sum(roulette_selection_list)"
   ]
  },
  {
   "cell_type": "markdown",
   "id": "50d65e1a",
   "metadata": {},
   "source": [
    "Using the index we can also update elements in lists. \n",
    "\n",
    "Let’s  set the Wednesday winnings of roulette_selection_vector to 1000 with ```roulette_selection_list[1] = 1000```."
   ]
  },
  {
   "cell_type": "code",
   "execution_count": 18,
   "id": "88e21c74",
   "metadata": {},
   "outputs": [],
   "source": [
    "roulette_selection_list[1] = 1000"
   ]
  },
  {
   "cell_type": "markdown",
   "id": "f7804002",
   "metadata": {},
   "source": [
    "Print out  roulette_selection_list."
   ]
  },
  {
   "cell_type": "code",
   "execution_count": 19,
   "id": "1d9cb106",
   "metadata": {},
   "outputs": [
    {
     "data": {
      "text/plain": [
       "[-50, 1000, -350, 10]"
      ]
     },
     "execution_count": 19,
     "metadata": {},
     "output_type": "execute_result"
    }
   ],
   "source": [
    " roulette_selection_list"
   ]
  },
  {
   "cell_type": "markdown",
   "id": "d18572d0",
   "metadata": {},
   "source": [
    "Well done. Your introduction to lists (and dictionaries) is done."
   ]
  }
 ],
 "metadata": {
  "kernelspec": {
   "display_name": "Python 3",
   "language": "python",
   "name": "python3"
  },
  "language_info": {
   "codemirror_mode": {
    "name": "ipython",
    "version": 3
   },
   "file_extension": ".py",
   "mimetype": "text/x-python",
   "name": "python",
   "nbconvert_exporter": "python",
   "pygments_lexer": "ipython3",
   "version": "3.9.10"
  }
 },
 "nbformat": 4,
 "nbformat_minor": 5
}
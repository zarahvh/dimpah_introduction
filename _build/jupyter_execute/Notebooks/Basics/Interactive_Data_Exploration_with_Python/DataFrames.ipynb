{
 "cells": [
  {
   "cell_type": "markdown",
   "id": "bb5f00c7",
   "metadata": {},
   "source": [
    "## DataFrames"
   ]
  },
  {
   "cell_type": "markdown",
   "id": "51fcfae0",
   "metadata": {},
   "source": [
    "The most important structure in Python to store and process data are ‘dataframes’. \n",
    "\n",
    "The library to do so in Python is Pandas - a key part of our work. It is another library just like NumPy. With `import pandas as pd`, we tell Python to use the acronym pd for accessing Pandas operations. This way we avoid having to type in pandas all the time. \n",
    "\n",
    "Try `import pandas as pd`."
   ]
  },
  {
   "cell_type": "code",
   "execution_count": 1,
   "id": "fb7c6252",
   "metadata": {},
   "outputs": [],
   "source": [
    "import pandas as pd"
   ]
  },
  {
   "cell_type": "markdown",
   "id": "39003856",
   "metadata": {},
   "source": [
    "Before we continue, we need to recreate the data from the last session. Please run the code below."
   ]
  },
  {
   "cell_type": "code",
   "execution_count": 2,
   "id": "e94860e8",
   "metadata": {},
   "outputs": [],
   "source": [
    "import numpy\n",
    "\n",
    "linkedin = numpy.array([16, 9, 13, 5, 2, 17, 14])\n",
    "facebook = numpy.array([17, 7, 5, 16, 8, 13, 14])\n",
    "views = numpy.array([linkedin, facebook])\n",
    "views_t = numpy.transpose(views)"
   ]
  },
  {
   "cell_type": "markdown",
   "id": "ff85c7ff",
   "metadata": {},
   "source": [
    "Just like matrixes, data frames also have rows and columns but can hold different types of variables in each of their columns. \n",
    "\n",
    "Think about it for a moment. The power! This way, we can record any observation in the world. Any observation will have different attributes we associate with it. For instance, flowers can be of different types and colours. With dataframes, we can record each observation of flowers by recording it in rows and assign to the columns the various features we observe like colour, type, etc. This way the whole world is for us to record in dataframes!\n",
    "\n",
    "In order to get our week together into a single dataframe, we create `my_week_df = pd.DataFrame(views_t, columns = ['Facebook', 'LinkedIn'])`. To create my_week_df, first the DataFrame function from Pandas (pd) is called with the transposed views. It is given the columns attribute with a list of names for the columns. "
   ]
  },
  {
   "cell_type": "code",
   "execution_count": null,
   "id": "2e130892",
   "metadata": {},
   "outputs": [],
   "source": []
  },
  {
   "cell_type": "markdown",
   "id": "4be70413",
   "metadata": {},
   "source": [
    "Print out my_week_df."
   ]
  },
  {
   "cell_type": "code",
   "execution_count": null,
   "id": "1ea52a6e",
   "metadata": {},
   "outputs": [],
   "source": []
  },
  {
   "cell_type": "markdown",
   "id": "6b4331dd",
   "metadata": {},
   "source": [
    "Just like matrixes, we can select rows and columns in dataframes. For that, we need the operator ```iloc[row][column]```. We need to use the Pandas iloc function here but otherwise it is the same principle as for lists and arrays. \n",
    "\n",
    "Select row 1, column 2 with `my_week_df.iloc[0][1]`. Please note, that this function uses [] brackets instead of (). "
   ]
  },
  {
   "cell_type": "code",
   "execution_count": null,
   "id": "f268eab6",
   "metadata": {},
   "outputs": [],
   "source": []
  },
  {
   "cell_type": "markdown",
   "id": "db1546e7",
   "metadata": {},
   "source": [
    "Do you remember how to select multiple elements in a list? \n",
    "\n",
    "It is similar for data frames. In order to select row 1 and 2, type in `my_week_df.iloc[0:2][:]`. This means that the first colon operator selects everything between its first index and the second index – 1. The second colon operator uses : to select all columns."
   ]
  },
  {
   "cell_type": "code",
   "execution_count": null,
   "id": "9c53b5bd",
   "metadata": {},
   "outputs": [],
   "source": []
  },
  {
   "cell_type": "markdown",
   "id": "53ea3e32",
   "metadata": {},
   "source": [
    "You can also leave out the [:]. Run `my_week_df.iloc[1]` to select the second row."
   ]
  },
  {
   "cell_type": "code",
   "execution_count": null,
   "id": "31c46682",
   "metadata": {},
   "outputs": [],
   "source": []
  },
  {
   "cell_type": "markdown",
   "id": "aa1266b2",
   "metadata": {},
   "source": [
    "Any idea how to select the second column rather than a row? \n",
    "\n",
    "Take a look at https://pandas.pydata.org/docs/reference/api/pandas.DataFrame.iloc.html, and you will find out that it is `my_week_df.iloc[:, 1]`. Try it."
   ]
  },
  {
   "cell_type": "code",
   "execution_count": null,
   "id": "dc0e4390",
   "metadata": {},
   "outputs": [],
   "source": []
  },
  {
   "cell_type": "markdown",
   "id": "57309ea4",
   "metadata": {},
   "source": [
    "Do you know how to select the third and forth row?"
   ]
  },
  {
   "cell_type": "code",
   "execution_count": null,
   "id": "7aa8e071",
   "metadata": {},
   "outputs": [],
   "source": []
  },
  {
   "cell_type": "markdown",
   "id": "f415dab9",
   "metadata": {},
   "source": [
    "You can also select the facebook column directly with `my_week_df['Facebook']`. "
   ]
  },
  {
   "cell_type": "code",
   "execution_count": null,
   "id": "861ab5ae",
   "metadata": {},
   "outputs": [],
   "source": []
  },
  {
   "cell_type": "markdown",
   "id": "01cf86f7",
   "metadata": {},
   "source": [
    "If you use two [[ ]], you get back a new dataframe. Try `my_week_df[['Facebook']]`."
   ]
  },
  {
   "cell_type": "code",
   "execution_count": null,
   "id": "136fe92d",
   "metadata": {},
   "outputs": [],
   "source": []
  },
  {
   "cell_type": "markdown",
   "id": "a91f2973",
   "metadata": {},
   "source": [
    "Let's add another column to our dataframe, which we call 'happy' for our happy days in the week.\n",
    "\n",
    "First define a list `happy = [False, True, False, True, False, True, False]`."
   ]
  },
  {
   "cell_type": "code",
   "execution_count": null,
   "id": "5ecdf939",
   "metadata": {},
   "outputs": [],
   "source": []
  },
  {
   "cell_type": "markdown",
   "id": "6088431d",
   "metadata": {},
   "source": [
    "We can then append this list to the dataframe by naming a new column and assign happy to it. Run ``my_week_df['happy'] = happy``."
   ]
  },
  {
   "cell_type": "code",
   "execution_count": null,
   "id": "9560d775",
   "metadata": {},
   "outputs": [],
   "source": []
  },
  {
   "cell_type": "markdown",
   "id": "aa93b3aa",
   "metadata": {},
   "source": [
    "Print out my_week_df."
   ]
  },
  {
   "cell_type": "code",
   "execution_count": null,
   "id": "8561d94f",
   "metadata": {},
   "outputs": [],
   "source": []
  },
  {
   "cell_type": "markdown",
   "id": "8abaf0e6",
   "metadata": {},
   "source": [
    "Say, we would like to select all days, we were happy. \n",
    "\n",
    "We first define a selector series for the happy days with `happy_days = my_week_df['happy'] == True`. Remember the numpy arrays? This is very similar."
   ]
  },
  {
   "cell_type": "code",
   "execution_count": null,
   "id": "518d5cc7",
   "metadata": {},
   "outputs": [],
   "source": []
  },
  {
   "cell_type": "markdown",
   "id": "791eec06",
   "metadata": {},
   "source": [
    "Print out happy_days."
   ]
  },
  {
   "cell_type": "code",
   "execution_count": null,
   "id": "11c01016",
   "metadata": {},
   "outputs": [],
   "source": []
  },
  {
   "cell_type": "markdown",
   "id": "8fe06dc7",
   "metadata": {},
   "source": [
    "It is a 'Series' of Booleans. Series is yet another term for lists and arrays. Pandas calls single columns things like that. I know there are lots of names here ...\n",
    "\n",
    "Now, we use the Boolean selector to create `happy_days_df = my_week_df.loc[happy_days]`."
   ]
  },
  {
   "cell_type": "code",
   "execution_count": null,
   "id": "17bde6fc",
   "metadata": {},
   "outputs": [],
   "source": []
  },
  {
   "cell_type": "markdown",
   "id": "da586f68",
   "metadata": {},
   "source": [
    "It looks complicated but it is actually just a combination of statements we already know. Take some time and look at the expression happy_days_df. What kind of parts can you identify? How are the rows/days selected when you were happy?\n",
    "\n",
    "Print out happy_days_df."
   ]
  },
  {
   "cell_type": "code",
   "execution_count": null,
   "id": "f342870b",
   "metadata": {},
   "outputs": [],
   "source": []
  },
  {
   "cell_type": "markdown",
   "id": "a33f1f12",
   "metadata": {},
   "source": [
    "If you would like to select all the days/rows when you had more views on LinkedIn than Facebook, you can proceed in a similar way. First define the selector with `small = my_week_df['LinkedIn'] > my_week_df['Facebook']`."
   ]
  },
  {
   "cell_type": "code",
   "execution_count": null,
   "id": "eae4970e",
   "metadata": {},
   "outputs": [],
   "source": []
  },
  {
   "cell_type": "markdown",
   "id": "85a05834",
   "metadata": {},
   "source": [
    "Then, create a new dataframe with `small_df = my_week_df.loc[small]`."
   ]
  },
  {
   "cell_type": "code",
   "execution_count": null,
   "id": "4cd5325a",
   "metadata": {},
   "outputs": [],
   "source": []
  },
  {
   "cell_type": "markdown",
   "id": "a6a6a257",
   "metadata": {},
   "source": [
    "Print out small_df."
   ]
  },
  {
   "cell_type": "code",
   "execution_count": null,
   "id": "2e10e57a",
   "metadata": {},
   "outputs": [],
   "source": []
  },
  {
   "cell_type": "markdown",
   "id": "70b81aa2",
   "metadata": {},
   "source": [
    "That’s almost it for data frames. \n",
    "\n",
    "I promise they get more interesting once we start working with real data. One more thing you often want to do is to sort a dataframe according to one of its columns. We have another Pandas function for that called sort_values. Run `sorted_df = my_week_df.sort_values(by=['facebook'])` to sort my_week_df by the values in the facebook column."
   ]
  },
  {
   "cell_type": "code",
   "execution_count": null,
   "id": "97d342b6",
   "metadata": {},
   "outputs": [],
   "source": []
  },
  {
   "cell_type": "markdown",
   "id": "d5a51aaa",
   "metadata": {},
   "source": [
    "Print out sorted_df."
   ]
  },
  {
   "cell_type": "code",
   "execution_count": null,
   "id": "c3b61ba4",
   "metadata": {},
   "outputs": [],
   "source": []
  },
  {
   "cell_type": "markdown",
   "id": "fa95f35e",
   "metadata": {},
   "source": [
    "That’s it for the most important concepts around dataframes in Python. \n",
    "\n",
    "Next, we move on to some real-life datasets and more advanced data exploration."
   ]
  }
 ],
 "metadata": {
  "kernelspec": {
   "display_name": "Python 3",
   "language": "python",
   "name": "python3"
  },
  "language_info": {
   "codemirror_mode": {
    "name": "ipython",
    "version": 3
   },
   "file_extension": ".py",
   "mimetype": "text/x-python",
   "name": "python",
   "nbconvert_exporter": "python",
   "pygments_lexer": "ipython3",
   "version": "3.9.10"
  }
 },
 "nbformat": 4,
 "nbformat_minor": 5
}
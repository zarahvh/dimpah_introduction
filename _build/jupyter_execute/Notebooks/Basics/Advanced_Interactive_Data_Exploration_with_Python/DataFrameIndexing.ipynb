{
 "cells": [
  {
   "cell_type": "markdown",
   "id": "d5311a85",
   "metadata": {},
   "source": [
    "## DataFrame Indexing"
   ]
  },
  {
   "cell_type": "markdown",
   "id": "33dccc1b",
   "metadata": {},
   "source": [
    "In this part, we work towards exploring and visualising real-life datasets using Python and Pandas and query questions of racial bias in death sentences. Before we can explore real-life datasets, we need to discuss a couple of more advanced Python constructs. First, indexes of dataframes.\n",
    "\n",
    "First, we need load the libraries Pandas and Numpy. You can run more than one statement in a cell. So, type in: \n",
    "\n",
    "```\n",
    "import numpy as np \n",
    "import pandas as pd\n",
    "```"
   ]
  },
  {
   "cell_type": "code",
   "execution_count": 1,
   "id": "b7b57c71",
   "metadata": {},
   "outputs": [],
   "source": [
    "import numpy as np \n",
    "import pandas as pd"
   ]
  },
  {
   "cell_type": "markdown",
   "id": "d848206a",
   "metadata": {},
   "source": [
    "To introduce Pandas indexes, we will use the famous iris dataset, every data analyst will know. It contains observations about flowers/irises. The details can be found here: https://archive.ics.uci.edu/ml/datasets/iris. \n",
    "\n",
    "```\n",
    "The data set contains 3 classes of 50 instances each, where each class refers to a type of iris plant. \n",
    "Attribute Information:\n",
    "1. sepal length in cm\n",
    "2. sepal width in cm\n",
    "3. petal length in cm\n",
    "4. petal width in cm\n",
    "5. class:\n",
    "-- Iris Setosa\n",
    "-- Iris Versicolour\n",
    "-- Iris Virginica\n",
    "```\n",
    "\n",
    "Read up on the history of the dataset https://en.wikipedia.org/wiki/Iris_flower_data_set. It was published by a famous statistician called Ronald Fisher (https://en.wikipedia.org/wiki/Ronald_Fisher) who was also a eugenist. It is important to know about this dark history of statistics, too. Check out the Wikipedia entries for more information.\n",
    "\n",
    "Run the following code to load iris from a library and assign it to a dataframe called df."
   ]
  },
  {
   "cell_type": "code",
   "execution_count": 2,
   "id": "381c966f",
   "metadata": {},
   "outputs": [],
   "source": [
    "from sklearn.datasets import load_iris\n",
    "\n",
    "data = load_iris()\n",
    "df = pd.DataFrame(data.data, columns=data.feature_names)"
   ]
  },
  {
   "cell_type": "markdown",
   "id": "e6ac47a2",
   "metadata": {},
   "source": [
    "Do you at least a little bit understand what is going on here? You access the sklearn.datasets library and then load the iris dataset before transforming it into a data frame.\n",
    "\n",
    "You can look at the first ten observations/rows by typing in df with head(). Type in `df.head(10)`."
   ]
  },
  {
   "cell_type": "code",
   "execution_count": null,
   "id": "c05f8087",
   "metadata": {},
   "outputs": [],
   "source": []
  },
  {
   "cell_type": "markdown",
   "id": "2fbe4e1e",
   "metadata": {},
   "source": [
    "Contemplate a bit how the plants are described. Where is the beauty of a flower? The dataframe is a good example of using features to describe observations.\n",
    "\n",
    "Now, select the first 10 rows into a new data frame with `my_df = df.head(10)`."
   ]
  },
  {
   "cell_type": "code",
   "execution_count": null,
   "id": "3955dd1f",
   "metadata": {},
   "outputs": [],
   "source": []
  },
  {
   "cell_type": "markdown",
   "id": "fc76baa5",
   "metadata": {},
   "source": [
    "Next, we want to show you how to add an index to a dataframe. An index can be anything that has unique values in Pandas. First, we create such an index as an array.\n",
    "\n",
    "The Python function range allows us to create a list of integers (a number that can be written without a fractional component). To create an array ind of 10 numbers starting from 0, run ```ind = np.array(range(0, 10))```. At the same time, also print it out. We will use ind to index the iris data frame."
   ]
  },
  {
   "cell_type": "code",
   "execution_count": null,
   "id": "677f3691",
   "metadata": {},
   "outputs": [],
   "source": []
  },
  {
   "cell_type": "markdown",
   "id": "d2675f7f",
   "metadata": {},
   "source": [
    "Let's assign a column called ind to the iris dataframe my_df. Do you remember how? Yes, it is ```my_df['ind'] = ind```. \n",
    "\n",
    "Also print out my_df. Ignore any warning. This is for demonstration purposes only."
   ]
  },
  {
   "cell_type": "code",
   "execution_count": null,
   "id": "3fb8dc94",
   "metadata": {},
   "outputs": [],
   "source": []
  },
  {
   "cell_type": "markdown",
   "id": "d3d929c2",
   "metadata": {},
   "source": [
    "You can now set the ind column to be the index of the dataframe, which will make selecting items, slicing, etc. much faster and consistent. \n",
    "\n",
    "Type in ```my_df.set_index('ind', inplace=True)```. And print out my_df."
   ]
  },
  {
   "cell_type": "code",
   "execution_count": null,
   "id": "d890c64e",
   "metadata": {},
   "outputs": [],
   "source": []
  },
  {
   "cell_type": "markdown",
   "id": "e621a66c",
   "metadata": {},
   "source": [
    "The earlier warning came as Pandas prefers us to create an index not for a column but the whole data. \n",
    "\n",
    "So, let's do this again. This time, we create a new datafame directly with an index. Type in ```my_df2 = pd.DataFrame(df.head(10), index = ind)```. Print my_df2 out."
   ]
  },
  {
   "cell_type": "code",
   "execution_count": null,
   "id": "f15f9360",
   "metadata": {},
   "outputs": [],
   "source": []
  },
  {
   "cell_type": "markdown",
   "id": "d33a87b4",
   "metadata": {},
   "source": [
    "This should look exactly like the start of the original iris dataframe df. Pandas automatically creates an index when you call pd.DataFrame. You could, however, make any sequence of unique values into an index. Let's give the flowers (artificial) names and index the my_df2 directly with them.\n",
    "\n",
    "First, we create an array ```flower_names = np.array(['a', 'b', 'c', 'd', 'e', 'f', 'g', 'h', 'i', 'j'])```. Type it in."
   ]
  },
  {
   "cell_type": "code",
   "execution_count": null,
   "id": "91c39430",
   "metadata": {},
   "outputs": [],
   "source": []
  },
  {
   "cell_type": "markdown",
   "id": "4a47f955",
   "metadata": {},
   "source": [
    "Now, we recreate my_df2 with the flower_names as the index.  \n",
    "\n",
    "First, we need to add a new column called names to the data frame with ```my_df2['names'] = flower_names```."
   ]
  },
  {
   "cell_type": "code",
   "execution_count": null,
   "id": "d704ccf6",
   "metadata": {},
   "outputs": [],
   "source": []
  },
  {
   "cell_type": "markdown",
   "id": "bbcfbf6d",
   "metadata": {},
   "source": [
    "Next we can use ```my_df2.set_index('names', inplace = True)``` to update the index of my_df2. Print out my_df2."
   ]
  },
  {
   "cell_type": "code",
   "execution_count": null,
   "id": "4298d89c",
   "metadata": {},
   "outputs": [],
   "source": []
  },
  {
   "cell_type": "markdown",
   "id": "d25b3b7c",
   "metadata": {},
   "source": [
    "With the names index, we can directly select rows for different flower names values using the .loc function. To select a single name type in ```my_df2.loc['a']```."
   ]
  },
  {
   "cell_type": "code",
   "execution_count": null,
   "id": "b4054518",
   "metadata": {},
   "outputs": [],
   "source": []
  },
  {
   "cell_type": "markdown",
   "id": "01f02d87",
   "metadata": {},
   "source": [
    "Let's pick up two flowers. Type in ```my_df2.loc[['c','d']]```."
   ]
  },
  {
   "cell_type": "code",
   "execution_count": null,
   "id": "e479aed3",
   "metadata": {},
   "outputs": [],
   "source": []
  },
  {
   "cell_type": "markdown",
   "id": "23ae0abd",
   "metadata": {},
   "source": [
    "You can also select certain columns with a second list of column names. Try ```my_df2.loc[['c','d'], ['sepal length (cm)','sepal width (cm)']]```."
   ]
  },
  {
   "cell_type": "code",
   "execution_count": null,
   "id": "800700ad",
   "metadata": {},
   "outputs": [],
   "source": []
  },
  {
   "cell_type": "markdown",
   "id": "ec734443",
   "metadata": {},
   "source": [
    "You can also select ranges of index labels. Try ```my_df2.loc['c':'f']```."
   ]
  },
  {
   "cell_type": "code",
   "execution_count": null,
   "id": "449aa22c",
   "metadata": {},
   "outputs": [],
   "source": []
  },
  {
   "cell_type": "markdown",
   "id": "78802add",
   "metadata": {},
   "source": [
    "Finally, a logical selection is also possible with an indexed dataframe directly --- not just via selectors as previously discussed. \n",
    "\n",
    "Try to retrieve all entries with petal width (cm) = 0.2 by typing in ```my_df2.loc[my_df2['petal width (cm)'] == 0.2]```. Yes, you have to repeat the dataframe inside the []."
   ]
  },
  {
   "cell_type": "code",
   "execution_count": null,
   "id": "223000e9",
   "metadata": {},
   "outputs": [],
   "source": []
  },
  {
   "cell_type": "markdown",
   "id": "45f8bae4",
   "metadata": {},
   "source": [
    "There is so much more you can do with dataframes in Pandas. One more function you will use quite a bit: value_counts(). It counts the number of times a value appears in a column. Try it with ```my_df2['petal width (cm)'].value_counts()```."
   ]
  },
  {
   "cell_type": "code",
   "execution_count": null,
   "id": "f1789fcf",
   "metadata": {},
   "outputs": [],
   "source": []
  },
  {
   "cell_type": "markdown",
   "id": "f5a66149",
   "metadata": {},
   "source": [
    "Indexing is a big topic in the Pandas world and unfortunately a bit complicated. Check out https://pandas.pydata.org/pandas-docs/stable/user_guide/indexing.html. The book Python for Data Analysis is also a great reference. Its author Wes McKinney has actually created Pandas."
   ]
  }
 ],
 "metadata": {
  "kernelspec": {
   "display_name": "Python 3",
   "language": "python",
   "name": "python3"
  },
  "language_info": {
   "codemirror_mode": {
    "name": "ipython",
    "version": 3
   },
   "file_extension": ".py",
   "mimetype": "text/x-python",
   "name": "python",
   "nbconvert_exporter": "python",
   "pygments_lexer": "ipython3",
   "version": "3.9.10"
  }
 },
 "nbformat": 4,
 "nbformat_minor": 5
}
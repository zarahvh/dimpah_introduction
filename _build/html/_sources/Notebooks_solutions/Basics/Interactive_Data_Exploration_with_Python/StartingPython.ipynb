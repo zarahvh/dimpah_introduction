{
 "cells": [
  {
   "cell_type": "markdown",
   "id": "2c21fc30",
   "metadata": {},
   "source": [
    "## Starting with Python interactively"
   ]
  },
  {
   "cell_type": "markdown",
   "id": "01f89b15",
   "metadata": {},
   "source": [
    "This is an introduction to the programming language Python where we focus on interactive data exploration. There are lots of other more general introductions to Python as well. If you are interested in Python as a programming language, why not try one of the many online environments that help you learn it? We like the Code Academy course: https://www.codecademy.com/learn/learn-python but there are many more."
   ]
  },
  {
   "cell_type": "markdown",
   "id": "d0c86c95",
   "metadata": {},
   "source": [
    "Welcome to your first session on how to usePython interactively in Jupyter Notebooks. We will have several more sessions like this. Afterwards, you will have a better understanding of processing cultural and social datasets with Python."
   ]
  },
  {
   "cell_type": "code",
   "execution_count": 1,
   "id": "0a743534",
   "metadata": {},
   "outputs": [
    {
     "data": {
      "text/plain": [
       "7"
      ]
     },
     "execution_count": 1,
     "metadata": {},
     "output_type": "execute_result"
    }
   ],
   "source": [
    "4 + 3"
   ]
  },
  {
   "cell_type": "markdown",
   "id": "27da3040",
   "metadata": {},
   "source": [
    "Now, let’s try ```12 – 5```."
   ]
  },
  {
   "cell_type": "code",
   "execution_count": 2,
   "id": "c8fdbe11",
   "metadata": {},
   "outputs": [
    {
     "data": {
      "text/plain": [
       "7"
      ]
     },
     "execution_count": 2,
     "metadata": {},
     "output_type": "execute_result"
    }
   ],
   "source": [
    "12 - 5"
   ]
  },
  {
   "cell_type": "markdown",
   "id": "d23fe9ba",
   "metadata": {},
   "source": [
    "And finally, brackets can be used to indicate that operators in the sub-expression take precedence - just like at school math. Try ```(5 * 3) – 4```."
   ]
  },
  {
   "cell_type": "code",
   "execution_count": 3,
   "id": "9d40ab38",
   "metadata": {},
   "outputs": [
    {
     "data": {
      "text/plain": [
       "11"
      ]
     },
     "execution_count": 3,
     "metadata": {},
     "output_type": "execute_result"
    }
   ],
   "source": [
    "(5*3) - 4"
   ]
  },
  {
   "cell_type": "markdown",
   "id": "2bd2d968",
   "metadata": {},
   "source": [
    "These were all numbers. All this is very similar to what you know from calculators. But computers can process many other symbols as well. Other important symbols include ‘strings’, which you know as words. These can be any number of characters like a, b, c, etc. but also -, 1 or & count as characters.\n",
    "\n",
    "Let’s try this ... Please, type ```'Hello World'``` into the Cell's command prompt. The quotation marks indicate that this is a string. You could also use \"Hello World\"."
   ]
  },
  {
   "cell_type": "code",
   "execution_count": 4,
   "id": "29bae3fc",
   "metadata": {},
   "outputs": [
    {
     "data": {
      "text/plain": [
       "'Hello World'"
      ]
     },
     "execution_count": 4,
     "metadata": {},
     "output_type": "execute_result"
    }
   ],
   "source": [
    "'Hello World'"
   ]
  },
  {
   "cell_type": "markdown",
   "id": "205daae8",
   "metadata": {},
   "source": [
    "What do you see when you enter ```type(‘string’)```?"
   ]
  },
  {
   "cell_type": "code",
   "execution_count": 5,
   "id": "f14b6397",
   "metadata": {},
   "outputs": [
    {
     "data": {
      "text/plain": [
       "str"
      ]
     },
     "execution_count": 5,
     "metadata": {},
     "output_type": "execute_result"
    }
   ],
   "source": [
    "type('string')"
   ]
  },
  {
   "cell_type": "markdown",
   "id": "3b720ce3",
   "metadata": {},
   "source": [
    "There are many more types, which we will cover throughout the course. Check out https://realpython.com/python-data-types/ for an overview.\n",
    "\n",
    "Booleans are another important type. They evaluate whether an assumption is True or False. Please, type ```4 < 5```. What do you get back?"
   ]
  },
  {
   "cell_type": "code",
   "execution_count": 6,
   "id": "aa6a5c51",
   "metadata": {},
   "outputs": [
    {
     "data": {
      "text/plain": [
       "True"
      ]
     },
     "execution_count": 6,
     "metadata": {},
     "output_type": "execute_result"
    }
   ],
   "source": [
    "4 < 5"
   ]
  },
  {
   "cell_type": "markdown",
   "id": "c506fa55",
   "metadata": {},
   "source": [
    "Another important concept that discriminates programming languages from calculators are variables. They are basically names for places in the computer’s memory where we can store things. We create variables with the Python assignment operator =. \n",
    "\n",
    "Let’s try that and assign the value 5 to the variable my_apples. Please, type in ```my_apples = 5```."
   ]
  },
  {
   "cell_type": "code",
   "execution_count": 7,
   "id": "c8909fda",
   "metadata": {},
   "outputs": [],
   "source": [
    "my_apples = 5"
   ]
  },
  {
   "cell_type": "markdown",
   "id": "183184bf",
   "metadata": {},
   "source": [
    "Well done. \n",
    "\n",
    "Now print out my_apples. Just type ```my_apples```."
   ]
  },
  {
   "cell_type": "code",
   "execution_count": 8,
   "id": "8a5cb23a",
   "metadata": {},
   "outputs": [
    {
     "data": {
      "text/plain": [
       "5"
      ]
     },
     "execution_count": 8,
     "metadata": {},
     "output_type": "execute_result"
    }
   ],
   "source": [
    "my_apples"
   ]
  },
  {
   "cell_type": "markdown",
   "id": "b583862a",
   "metadata": {},
   "source": [
    "Numbers in Python are generally either integers (those without a floating point) or floats (those with a floating point). Check out https://docs.python.org/3/library/stdtypes.html for an overview of all the different numerical types in Python.\n",
    "\n",
    "Now let’s try to assign two variables.\n",
    "\n",
    "Type ```my_oranges = 6```."
   ]
  },
  {
   "cell_type": "code",
   "execution_count": 9,
   "id": "9c6f128e",
   "metadata": {},
   "outputs": [],
   "source": [
    "my_oranges = 6"
   ]
  },
  {
   "cell_type": "markdown",
   "id": "9d906629",
   "metadata": {},
   "source": [
    "You have now created two variables my_apples and my_oranges.\n",
    "\n",
    "Just like numbers we can add two numerical variables. Please try it with ```my_apples + my_oranges```."
   ]
  },
  {
   "cell_type": "code",
   "execution_count": 10,
   "id": "053117f5",
   "metadata": {},
   "outputs": [
    {
     "data": {
      "text/plain": [
       "11"
      ]
     },
     "execution_count": 10,
     "metadata": {},
     "output_type": "execute_result"
    }
   ],
   "source": [
    "my_apples + my_oranges"
   ]
  },
  {
   "cell_type": "markdown",
   "id": "faffe77e",
   "metadata": {},
   "source": [
    "We can also assign the result to a new variable my_fruit. Please type ```my_fruit = my_apples + my_oranges```."
   ]
  },
  {
   "cell_type": "code",
   "execution_count": 11,
   "id": "5429ad35",
   "metadata": {},
   "outputs": [],
   "source": [
    "my_fruit = my_apples + my_oranges"
   ]
  },
  {
   "cell_type": "markdown",
   "id": "a68b01b0",
   "metadata": {},
   "source": [
    "To check that the new variable exists, please enter ```my_fruit```."
   ]
  },
  {
   "cell_type": "code",
   "execution_count": 12,
   "id": "f435a978",
   "metadata": {},
   "outputs": [
    {
     "data": {
      "text/plain": [
       "11"
      ]
     },
     "execution_count": 12,
     "metadata": {},
     "output_type": "execute_result"
    }
   ],
   "source": [
    "my_fruit"
   ]
  },
  {
   "cell_type": "markdown",
   "id": "4919b8c2",
   "metadata": {},
   "source": [
    "But we can only combine variables of the same type. Please assign the string ‘six’ to my_oranges with ```my_oranges = ‘six’```."
   ]
  },
  {
   "cell_type": "code",
   "execution_count": 13,
   "id": "793ab218",
   "metadata": {},
   "outputs": [],
   "source": [
    "my_oranges = 'six'"
   ]
  },
  {
   "cell_type": "markdown",
   "id": "a87622d0",
   "metadata": {},
   "source": [
    "Now let’s try and ‘add’ my_apples and my_oranges. Type ```my_apples + my_oranges``` and you will get an error. "
   ]
  },
  {
   "cell_type": "code",
   "execution_count": 14,
   "id": "d7a60629",
   "metadata": {},
   "outputs": [
    {
     "ename": "TypeError",
     "evalue": "unsupported operand type(s) for +: 'int' and 'str'",
     "output_type": "error",
     "traceback": [
      "\u001b[0;31m---------------------------------------------------------------------------\u001b[0m",
      "\u001b[0;31mTypeError\u001b[0m                                 Traceback (most recent call last)",
      "Input \u001b[0;32mIn [14]\u001b[0m, in \u001b[0;36m<module>\u001b[0;34m\u001b[0m\n\u001b[0;32m----> 1\u001b[0m \u001b[43mmy_apples\u001b[49m\u001b[43m \u001b[49m\u001b[38;5;241;43m+\u001b[39;49m\u001b[43m \u001b[49m\u001b[43mmy_oranges\u001b[49m\n",
      "\u001b[0;31mTypeError\u001b[0m: unsupported operand type(s) for +: 'int' and 'str'"
     ]
    }
   ],
   "source": [
    "my_apples + my_oranges"
   ]
  },
  {
   "cell_type": "markdown",
   "id": "60981280",
   "metadata": {},
   "source": [
    "Variables are very important in any programming language. \n",
    "\n",
    "A final key idea for this first session is the function. It is  a predefined set of commands. On your calculator you can, for instance, use the inv function to get the inverse of a number. Python also has a lot of pre-defined functions like inv. But in any programming language you can also define your own functions. We will come back to this later in much more detail. For now, we focus on how to use functions.\n",
    "\n",
    "In Python, functions are called with arguments in brackets. They are often found in extra libraries that are basically collections of functions. More on that also later ...\n",
    "\n",
    "Please run round(9.5) to run the built-in math function round in Python. You should get 10. round is the function name and 9.5 is the only 'argument' as the input into functions is called."
   ]
  },
  {
   "cell_type": "code",
   "execution_count": 15,
   "id": "6860a965",
   "metadata": {},
   "outputs": [
    {
     "data": {
      "text/plain": [
       "10"
      ]
     },
     "execution_count": 15,
     "metadata": {},
     "output_type": "execute_result"
    }
   ],
   "source": [
    "round(9.5)"
   ]
  },
  {
   "cell_type": "markdown",
   "id": "ffc7d36c",
   "metadata": {},
   "source": [
    "That's already it for the first session. Lots of ideas that will help you with getting into Python. You will get used to them with practice."
   ]
  },
  {
   "cell_type": "code",
   "execution_count": null,
   "id": "20cd8b29",
   "metadata": {},
   "outputs": [],
   "source": []
  }
 ],
 "metadata": {
  "kernelspec": {
   "display_name": "Python 3",
   "language": "python",
   "name": "python3"
  },
  "language_info": {
   "codemirror_mode": {
    "name": "ipython",
    "version": 3
   },
   "file_extension": ".py",
   "mimetype": "text/x-python",
   "name": "python",
   "nbconvert_exporter": "python",
   "pygments_lexer": "ipython3",
   "version": "3.9.10"
  }
 },
 "nbformat": 4,
 "nbformat_minor": 5
}

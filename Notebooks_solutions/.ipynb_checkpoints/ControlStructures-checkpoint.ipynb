{
 "cells": [
  {
   "cell_type": "markdown",
   "id": "d5311a85",
   "metadata": {},
   "source": [
    "# Interactive Data Exploration with Python 2.1"
   ]
  },
  {
   "cell_type": "markdown",
   "id": "33dccc1b",
   "metadata": {},
   "source": [
    "In this chapter, we will explore and visualise real-life datasets using Python and Pandas and query questions of racial bias in death sentences. Before we can explore real-life datasets, we need to discuss a couple of more advanced Python constructs.\n",
    "\n",
    "First, we need load the libraries Pandas and Numpy. You can run more than one statement in a cell. So, type in: \n",
    "\n",
    "```\n",
    "import numpy as np \n",
    "import pandas as pd\n",
    "```"
   ]
  },
  {
   "cell_type": "code",
   "execution_count": 1,
   "id": "b7b57c71",
   "metadata": {},
   "outputs": [],
   "source": [
    "import numpy as np\n",
    "import pandas as pd"
   ]
  },
  {
   "cell_type": "markdown",
   "id": "d848206a",
   "metadata": {},
   "source": [
    "To introduce more Pandas ideas, we will use the famous iris dataset, every data analyst will know. It contains observations about flowers/irises. The details can be found here: https://archive.ics.uci.edu/ml/datasets/iris. \n",
    "\n",
    "\"\n",
    "The data set contains 3 classes of 50 instances each, where each class refers to a type of iris plant. \n",
    "Attribute Information:\n",
    "1. sepal length in cm\n",
    "2. sepal width in cm\n",
    "3. petal length in cm\n",
    "4. petal width in cm\n",
    "5. class:\n",
    "-- Iris Setosa\n",
    "-- Iris Versicolour\n",
    "-- Iris Virginica\n",
    "\"\n",
    "\n",
    "Run the following cell to load iris from a library and assign it to a dataframe called df."
   ]
  },
  {
   "cell_type": "code",
   "execution_count": 2,
   "id": "381c966f",
   "metadata": {},
   "outputs": [],
   "source": [
    "#Keep cell\n",
    "from sklearn.datasets import load_iris\n",
    "\n",
    "data = load_iris()\n",
    "df = pd.DataFrame(data.data, columns=data.feature_names)"
   ]
  },
  {
   "cell_type": "markdown",
   "id": "e6ac47a2",
   "metadata": {},
   "source": [
    "Do you almost understand what is going on here? You access the sklearn.datasets library and then load the iris dataset before transforming it into a data frame.\n",
    "\n",
    "You can look at the first ten observations/rows by typing in df with head(). Type in df.head(10)"
   ]
  },
  {
   "cell_type": "code",
   "execution_count": 3,
   "id": "c05f8087",
   "metadata": {},
   "outputs": [
    {
     "data": {
      "text/html": [
       "<div>\n",
       "<style scoped>\n",
       "    .dataframe tbody tr th:only-of-type {\n",
       "        vertical-align: middle;\n",
       "    }\n",
       "\n",
       "    .dataframe tbody tr th {\n",
       "        vertical-align: top;\n",
       "    }\n",
       "\n",
       "    .dataframe thead th {\n",
       "        text-align: right;\n",
       "    }\n",
       "</style>\n",
       "<table border=\"1\" class=\"dataframe\">\n",
       "  <thead>\n",
       "    <tr style=\"text-align: right;\">\n",
       "      <th></th>\n",
       "      <th>sepal length (cm)</th>\n",
       "      <th>sepal width (cm)</th>\n",
       "      <th>petal length (cm)</th>\n",
       "      <th>petal width (cm)</th>\n",
       "    </tr>\n",
       "  </thead>\n",
       "  <tbody>\n",
       "    <tr>\n",
       "      <th>0</th>\n",
       "      <td>5.1</td>\n",
       "      <td>3.5</td>\n",
       "      <td>1.4</td>\n",
       "      <td>0.2</td>\n",
       "    </tr>\n",
       "    <tr>\n",
       "      <th>1</th>\n",
       "      <td>4.9</td>\n",
       "      <td>3.0</td>\n",
       "      <td>1.4</td>\n",
       "      <td>0.2</td>\n",
       "    </tr>\n",
       "    <tr>\n",
       "      <th>2</th>\n",
       "      <td>4.7</td>\n",
       "      <td>3.2</td>\n",
       "      <td>1.3</td>\n",
       "      <td>0.2</td>\n",
       "    </tr>\n",
       "    <tr>\n",
       "      <th>3</th>\n",
       "      <td>4.6</td>\n",
       "      <td>3.1</td>\n",
       "      <td>1.5</td>\n",
       "      <td>0.2</td>\n",
       "    </tr>\n",
       "    <tr>\n",
       "      <th>4</th>\n",
       "      <td>5.0</td>\n",
       "      <td>3.6</td>\n",
       "      <td>1.4</td>\n",
       "      <td>0.2</td>\n",
       "    </tr>\n",
       "    <tr>\n",
       "      <th>5</th>\n",
       "      <td>5.4</td>\n",
       "      <td>3.9</td>\n",
       "      <td>1.7</td>\n",
       "      <td>0.4</td>\n",
       "    </tr>\n",
       "    <tr>\n",
       "      <th>6</th>\n",
       "      <td>4.6</td>\n",
       "      <td>3.4</td>\n",
       "      <td>1.4</td>\n",
       "      <td>0.3</td>\n",
       "    </tr>\n",
       "    <tr>\n",
       "      <th>7</th>\n",
       "      <td>5.0</td>\n",
       "      <td>3.4</td>\n",
       "      <td>1.5</td>\n",
       "      <td>0.2</td>\n",
       "    </tr>\n",
       "    <tr>\n",
       "      <th>8</th>\n",
       "      <td>4.4</td>\n",
       "      <td>2.9</td>\n",
       "      <td>1.4</td>\n",
       "      <td>0.2</td>\n",
       "    </tr>\n",
       "    <tr>\n",
       "      <th>9</th>\n",
       "      <td>4.9</td>\n",
       "      <td>3.1</td>\n",
       "      <td>1.5</td>\n",
       "      <td>0.1</td>\n",
       "    </tr>\n",
       "  </tbody>\n",
       "</table>\n",
       "</div>"
      ],
      "text/plain": [
       "   sepal length (cm)  sepal width (cm)  petal length (cm)  petal width (cm)\n",
       "0                5.1               3.5                1.4               0.2\n",
       "1                4.9               3.0                1.4               0.2\n",
       "2                4.7               3.2                1.3               0.2\n",
       "3                4.6               3.1                1.5               0.2\n",
       "4                5.0               3.6                1.4               0.2\n",
       "5                5.4               3.9                1.7               0.4\n",
       "6                4.6               3.4                1.4               0.3\n",
       "7                5.0               3.4                1.5               0.2\n",
       "8                4.4               2.9                1.4               0.2\n",
       "9                4.9               3.1                1.5               0.1"
      ]
     },
     "execution_count": 3,
     "metadata": {},
     "output_type": "execute_result"
    }
   ],
   "source": [
    "df.head(10)"
   ]
  },
  {
   "cell_type": "markdown",
   "id": "2fbe4e1e",
   "metadata": {},
   "source": [
    "Contemplate a bit how the plants are described. Where is the beauty of a flower? The data frame is a good example of using features to describe observations.\n",
    "\n",
    "Now, select the first 10 rows into a new data frame with my_df = df.head(10)."
   ]
  },
  {
   "cell_type": "code",
   "execution_count": 4,
   "id": "3955dd1f",
   "metadata": {},
   "outputs": [],
   "source": [
    "my_df = df.head(10)"
   ]
  },
  {
   "cell_type": "markdown",
   "id": "fc76baa5",
   "metadata": {},
   "source": [
    "Next, we want to show you how to add an index to a dataframe. An index can be anything that has unique values in Pandas. First, we create such an index as an array.\n",
    "\n",
    "The Python function range allows us to create a list of integers (a number that can be written without a fractional component). To create an array ind of 10 numbers starting from 0, run ```ind = np.array(range(0, 10))```. In the same cell, also print it out. We will use ind to index the iris data frame."
   ]
  },
  {
   "cell_type": "code",
   "execution_count": 5,
   "id": "677f3691",
   "metadata": {},
   "outputs": [
    {
     "data": {
      "text/plain": [
       "array([0, 1, 2, 3, 4, 5, 6, 7, 8, 9])"
      ]
     },
     "execution_count": 5,
     "metadata": {},
     "output_type": "execute_result"
    }
   ],
   "source": [
    "ind = np.array(range(0, 10))\n",
    "\n",
    "ind"
   ]
  },
  {
   "cell_type": "markdown",
   "id": "d2675f7f",
   "metadata": {},
   "source": [
    "Let's assign a column called ind to the iris dataframe my_df. Do you remember how? Yes, it is ```my_df['ind'] = ind```. \n",
    "\n",
    "In the same cell, also print out my_df. Ignore the warning SettingWithCopyWarning. This is for demonstration purposes only."
   ]
  },
  {
   "cell_type": "code",
   "execution_count": 6,
   "id": "3fb8dc94",
   "metadata": {},
   "outputs": [
    {
     "name": "stderr",
     "output_type": "stream",
     "text": [
      "/Users/tblanke/anaconda3/lib/python3.6/site-packages/ipykernel_launcher.py:1: SettingWithCopyWarning: \n",
      "A value is trying to be set on a copy of a slice from a DataFrame.\n",
      "Try using .loc[row_indexer,col_indexer] = value instead\n",
      "\n",
      "See the caveats in the documentation: https://pandas.pydata.org/pandas-docs/stable/user_guide/indexing.html#returning-a-view-versus-a-copy\n",
      "  \"\"\"Entry point for launching an IPython kernel.\n"
     ]
    },
    {
     "data": {
      "text/html": [
       "<div>\n",
       "<style scoped>\n",
       "    .dataframe tbody tr th:only-of-type {\n",
       "        vertical-align: middle;\n",
       "    }\n",
       "\n",
       "    .dataframe tbody tr th {\n",
       "        vertical-align: top;\n",
       "    }\n",
       "\n",
       "    .dataframe thead th {\n",
       "        text-align: right;\n",
       "    }\n",
       "</style>\n",
       "<table border=\"1\" class=\"dataframe\">\n",
       "  <thead>\n",
       "    <tr style=\"text-align: right;\">\n",
       "      <th></th>\n",
       "      <th>sepal length (cm)</th>\n",
       "      <th>sepal width (cm)</th>\n",
       "      <th>petal length (cm)</th>\n",
       "      <th>petal width (cm)</th>\n",
       "      <th>ind</th>\n",
       "    </tr>\n",
       "  </thead>\n",
       "  <tbody>\n",
       "    <tr>\n",
       "      <th>0</th>\n",
       "      <td>5.1</td>\n",
       "      <td>3.5</td>\n",
       "      <td>1.4</td>\n",
       "      <td>0.2</td>\n",
       "      <td>0</td>\n",
       "    </tr>\n",
       "    <tr>\n",
       "      <th>1</th>\n",
       "      <td>4.9</td>\n",
       "      <td>3.0</td>\n",
       "      <td>1.4</td>\n",
       "      <td>0.2</td>\n",
       "      <td>1</td>\n",
       "    </tr>\n",
       "    <tr>\n",
       "      <th>2</th>\n",
       "      <td>4.7</td>\n",
       "      <td>3.2</td>\n",
       "      <td>1.3</td>\n",
       "      <td>0.2</td>\n",
       "      <td>2</td>\n",
       "    </tr>\n",
       "    <tr>\n",
       "      <th>3</th>\n",
       "      <td>4.6</td>\n",
       "      <td>3.1</td>\n",
       "      <td>1.5</td>\n",
       "      <td>0.2</td>\n",
       "      <td>3</td>\n",
       "    </tr>\n",
       "    <tr>\n",
       "      <th>4</th>\n",
       "      <td>5.0</td>\n",
       "      <td>3.6</td>\n",
       "      <td>1.4</td>\n",
       "      <td>0.2</td>\n",
       "      <td>4</td>\n",
       "    </tr>\n",
       "    <tr>\n",
       "      <th>5</th>\n",
       "      <td>5.4</td>\n",
       "      <td>3.9</td>\n",
       "      <td>1.7</td>\n",
       "      <td>0.4</td>\n",
       "      <td>5</td>\n",
       "    </tr>\n",
       "    <tr>\n",
       "      <th>6</th>\n",
       "      <td>4.6</td>\n",
       "      <td>3.4</td>\n",
       "      <td>1.4</td>\n",
       "      <td>0.3</td>\n",
       "      <td>6</td>\n",
       "    </tr>\n",
       "    <tr>\n",
       "      <th>7</th>\n",
       "      <td>5.0</td>\n",
       "      <td>3.4</td>\n",
       "      <td>1.5</td>\n",
       "      <td>0.2</td>\n",
       "      <td>7</td>\n",
       "    </tr>\n",
       "    <tr>\n",
       "      <th>8</th>\n",
       "      <td>4.4</td>\n",
       "      <td>2.9</td>\n",
       "      <td>1.4</td>\n",
       "      <td>0.2</td>\n",
       "      <td>8</td>\n",
       "    </tr>\n",
       "    <tr>\n",
       "      <th>9</th>\n",
       "      <td>4.9</td>\n",
       "      <td>3.1</td>\n",
       "      <td>1.5</td>\n",
       "      <td>0.1</td>\n",
       "      <td>9</td>\n",
       "    </tr>\n",
       "  </tbody>\n",
       "</table>\n",
       "</div>"
      ],
      "text/plain": [
       "   sepal length (cm)  sepal width (cm)  petal length (cm)  petal width (cm)  \\\n",
       "0                5.1               3.5                1.4               0.2   \n",
       "1                4.9               3.0                1.4               0.2   \n",
       "2                4.7               3.2                1.3               0.2   \n",
       "3                4.6               3.1                1.5               0.2   \n",
       "4                5.0               3.6                1.4               0.2   \n",
       "5                5.4               3.9                1.7               0.4   \n",
       "6                4.6               3.4                1.4               0.3   \n",
       "7                5.0               3.4                1.5               0.2   \n",
       "8                4.4               2.9                1.4               0.2   \n",
       "9                4.9               3.1                1.5               0.1   \n",
       "\n",
       "   ind  \n",
       "0    0  \n",
       "1    1  \n",
       "2    2  \n",
       "3    3  \n",
       "4    4  \n",
       "5    5  \n",
       "6    6  \n",
       "7    7  \n",
       "8    8  \n",
       "9    9  "
      ]
     },
     "execution_count": 6,
     "metadata": {},
     "output_type": "execute_result"
    }
   ],
   "source": [
    "my_df['ind'] = ind\n",
    "my_df"
   ]
  },
  {
   "cell_type": "markdown",
   "id": "d3d929c2",
   "metadata": {},
   "source": [
    "You can now set the ind column to be the index of the data frame, which will make selecting items, slicing, etc. much faster and consistent. \n",
    "\n",
    "Type in ```my_df.set_index('ind', inplace=True)```. And print out my_df."
   ]
  },
  {
   "cell_type": "code",
   "execution_count": 7,
   "id": "d890c64e",
   "metadata": {},
   "outputs": [
    {
     "data": {
      "text/html": [
       "<div>\n",
       "<style scoped>\n",
       "    .dataframe tbody tr th:only-of-type {\n",
       "        vertical-align: middle;\n",
       "    }\n",
       "\n",
       "    .dataframe tbody tr th {\n",
       "        vertical-align: top;\n",
       "    }\n",
       "\n",
       "    .dataframe thead th {\n",
       "        text-align: right;\n",
       "    }\n",
       "</style>\n",
       "<table border=\"1\" class=\"dataframe\">\n",
       "  <thead>\n",
       "    <tr style=\"text-align: right;\">\n",
       "      <th></th>\n",
       "      <th>sepal length (cm)</th>\n",
       "      <th>sepal width (cm)</th>\n",
       "      <th>petal length (cm)</th>\n",
       "      <th>petal width (cm)</th>\n",
       "      <th>ind</th>\n",
       "    </tr>\n",
       "  </thead>\n",
       "  <tbody>\n",
       "    <tr>\n",
       "      <th>0</th>\n",
       "      <td>5.1</td>\n",
       "      <td>3.5</td>\n",
       "      <td>1.4</td>\n",
       "      <td>0.2</td>\n",
       "      <td>0</td>\n",
       "    </tr>\n",
       "    <tr>\n",
       "      <th>1</th>\n",
       "      <td>4.9</td>\n",
       "      <td>3.0</td>\n",
       "      <td>1.4</td>\n",
       "      <td>0.2</td>\n",
       "      <td>1</td>\n",
       "    </tr>\n",
       "    <tr>\n",
       "      <th>2</th>\n",
       "      <td>4.7</td>\n",
       "      <td>3.2</td>\n",
       "      <td>1.3</td>\n",
       "      <td>0.2</td>\n",
       "      <td>2</td>\n",
       "    </tr>\n",
       "    <tr>\n",
       "      <th>3</th>\n",
       "      <td>4.6</td>\n",
       "      <td>3.1</td>\n",
       "      <td>1.5</td>\n",
       "      <td>0.2</td>\n",
       "      <td>3</td>\n",
       "    </tr>\n",
       "    <tr>\n",
       "      <th>4</th>\n",
       "      <td>5.0</td>\n",
       "      <td>3.6</td>\n",
       "      <td>1.4</td>\n",
       "      <td>0.2</td>\n",
       "      <td>4</td>\n",
       "    </tr>\n",
       "    <tr>\n",
       "      <th>5</th>\n",
       "      <td>5.4</td>\n",
       "      <td>3.9</td>\n",
       "      <td>1.7</td>\n",
       "      <td>0.4</td>\n",
       "      <td>5</td>\n",
       "    </tr>\n",
       "    <tr>\n",
       "      <th>6</th>\n",
       "      <td>4.6</td>\n",
       "      <td>3.4</td>\n",
       "      <td>1.4</td>\n",
       "      <td>0.3</td>\n",
       "      <td>6</td>\n",
       "    </tr>\n",
       "    <tr>\n",
       "      <th>7</th>\n",
       "      <td>5.0</td>\n",
       "      <td>3.4</td>\n",
       "      <td>1.5</td>\n",
       "      <td>0.2</td>\n",
       "      <td>7</td>\n",
       "    </tr>\n",
       "    <tr>\n",
       "      <th>8</th>\n",
       "      <td>4.4</td>\n",
       "      <td>2.9</td>\n",
       "      <td>1.4</td>\n",
       "      <td>0.2</td>\n",
       "      <td>8</td>\n",
       "    </tr>\n",
       "    <tr>\n",
       "      <th>9</th>\n",
       "      <td>4.9</td>\n",
       "      <td>3.1</td>\n",
       "      <td>1.5</td>\n",
       "      <td>0.1</td>\n",
       "      <td>9</td>\n",
       "    </tr>\n",
       "  </tbody>\n",
       "</table>\n",
       "</div>"
      ],
      "text/plain": [
       "   sepal length (cm)  sepal width (cm)  petal length (cm)  petal width (cm)  \\\n",
       "0                5.1               3.5                1.4               0.2   \n",
       "1                4.9               3.0                1.4               0.2   \n",
       "2                4.7               3.2                1.3               0.2   \n",
       "3                4.6               3.1                1.5               0.2   \n",
       "4                5.0               3.6                1.4               0.2   \n",
       "5                5.4               3.9                1.7               0.4   \n",
       "6                4.6               3.4                1.4               0.3   \n",
       "7                5.0               3.4                1.5               0.2   \n",
       "8                4.4               2.9                1.4               0.2   \n",
       "9                4.9               3.1                1.5               0.1   \n",
       "\n",
       "   ind  \n",
       "0    0  \n",
       "1    1  \n",
       "2    2  \n",
       "3    3  \n",
       "4    4  \n",
       "5    5  \n",
       "6    6  \n",
       "7    7  \n",
       "8    8  \n",
       "9    9  "
      ]
     },
     "execution_count": 7,
     "metadata": {},
     "output_type": "execute_result"
    }
   ],
   "source": [
    "my_df.set_index('ind')\n",
    "my_df"
   ]
  },
  {
   "cell_type": "markdown",
   "id": "e621a66c",
   "metadata": {},
   "source": [
    "The earlier warning came as Pandas prefers us to create an index not for a column but the whole data. \n",
    "\n",
    "So, let's do this again. This time, we create a new datafame directly with an index. Type in ```my_df2 = pd.DataFrame(df.head(10), index = ind)```. Print my_df2 out."
   ]
  },
  {
   "cell_type": "code",
   "execution_count": 8,
   "id": "f15f9360",
   "metadata": {},
   "outputs": [
    {
     "data": {
      "text/html": [
       "<div>\n",
       "<style scoped>\n",
       "    .dataframe tbody tr th:only-of-type {\n",
       "        vertical-align: middle;\n",
       "    }\n",
       "\n",
       "    .dataframe tbody tr th {\n",
       "        vertical-align: top;\n",
       "    }\n",
       "\n",
       "    .dataframe thead th {\n",
       "        text-align: right;\n",
       "    }\n",
       "</style>\n",
       "<table border=\"1\" class=\"dataframe\">\n",
       "  <thead>\n",
       "    <tr style=\"text-align: right;\">\n",
       "      <th></th>\n",
       "      <th>sepal length (cm)</th>\n",
       "      <th>sepal width (cm)</th>\n",
       "      <th>petal length (cm)</th>\n",
       "      <th>petal width (cm)</th>\n",
       "    </tr>\n",
       "  </thead>\n",
       "  <tbody>\n",
       "    <tr>\n",
       "      <th>0</th>\n",
       "      <td>5.1</td>\n",
       "      <td>3.5</td>\n",
       "      <td>1.4</td>\n",
       "      <td>0.2</td>\n",
       "    </tr>\n",
       "    <tr>\n",
       "      <th>1</th>\n",
       "      <td>4.9</td>\n",
       "      <td>3.0</td>\n",
       "      <td>1.4</td>\n",
       "      <td>0.2</td>\n",
       "    </tr>\n",
       "    <tr>\n",
       "      <th>2</th>\n",
       "      <td>4.7</td>\n",
       "      <td>3.2</td>\n",
       "      <td>1.3</td>\n",
       "      <td>0.2</td>\n",
       "    </tr>\n",
       "    <tr>\n",
       "      <th>3</th>\n",
       "      <td>4.6</td>\n",
       "      <td>3.1</td>\n",
       "      <td>1.5</td>\n",
       "      <td>0.2</td>\n",
       "    </tr>\n",
       "    <tr>\n",
       "      <th>4</th>\n",
       "      <td>5.0</td>\n",
       "      <td>3.6</td>\n",
       "      <td>1.4</td>\n",
       "      <td>0.2</td>\n",
       "    </tr>\n",
       "    <tr>\n",
       "      <th>5</th>\n",
       "      <td>5.4</td>\n",
       "      <td>3.9</td>\n",
       "      <td>1.7</td>\n",
       "      <td>0.4</td>\n",
       "    </tr>\n",
       "    <tr>\n",
       "      <th>6</th>\n",
       "      <td>4.6</td>\n",
       "      <td>3.4</td>\n",
       "      <td>1.4</td>\n",
       "      <td>0.3</td>\n",
       "    </tr>\n",
       "    <tr>\n",
       "      <th>7</th>\n",
       "      <td>5.0</td>\n",
       "      <td>3.4</td>\n",
       "      <td>1.5</td>\n",
       "      <td>0.2</td>\n",
       "    </tr>\n",
       "    <tr>\n",
       "      <th>8</th>\n",
       "      <td>4.4</td>\n",
       "      <td>2.9</td>\n",
       "      <td>1.4</td>\n",
       "      <td>0.2</td>\n",
       "    </tr>\n",
       "    <tr>\n",
       "      <th>9</th>\n",
       "      <td>4.9</td>\n",
       "      <td>3.1</td>\n",
       "      <td>1.5</td>\n",
       "      <td>0.1</td>\n",
       "    </tr>\n",
       "  </tbody>\n",
       "</table>\n",
       "</div>"
      ],
      "text/plain": [
       "   sepal length (cm)  sepal width (cm)  petal length (cm)  petal width (cm)\n",
       "0                5.1               3.5                1.4               0.2\n",
       "1                4.9               3.0                1.4               0.2\n",
       "2                4.7               3.2                1.3               0.2\n",
       "3                4.6               3.1                1.5               0.2\n",
       "4                5.0               3.6                1.4               0.2\n",
       "5                5.4               3.9                1.7               0.4\n",
       "6                4.6               3.4                1.4               0.3\n",
       "7                5.0               3.4                1.5               0.2\n",
       "8                4.4               2.9                1.4               0.2\n",
       "9                4.9               3.1                1.5               0.1"
      ]
     },
     "execution_count": 8,
     "metadata": {},
     "output_type": "execute_result"
    }
   ],
   "source": [
    "my_df2 = pd.DataFrame(df.head(10), index = ind)\n",
    "my_df2"
   ]
  },
  {
   "cell_type": "markdown",
   "id": "d33a87b4",
   "metadata": {},
   "source": [
    "This should look exactly like the start of the original iris data frame df. Pandas actually automatically creates an index when you call pd.DataFrame. You could, however, make any sequence of unique values into an index. Let's give the flowers names and index the my_df2 directly with them.\n",
    "\n",
    "First we create a numpy array ```flower_names = np.array(['a', 'b', 'c', 'd', 'e', 'f', 'g', 'h', 'i', 'j'])```. Type it in."
   ]
  },
  {
   "cell_type": "code",
   "execution_count": 9,
   "id": "91c39430",
   "metadata": {},
   "outputs": [],
   "source": [
    "flower_names = np.array(['a', 'b', 'c', 'd', 'e', 'f', 'g', 'h', 'i', 'j'])"
   ]
  },
  {
   "cell_type": "markdown",
   "id": "4a47f955",
   "metadata": {},
   "source": [
    "Now, we recreate my_df2 with the flower_names as the index.  \n",
    "\n",
    "First, we need to add a new colum called names to the data frame with ```my_df2['names'] = flower_names```."
   ]
  },
  {
   "cell_type": "code",
   "execution_count": 10,
   "id": "d704ccf6",
   "metadata": {},
   "outputs": [],
   "source": [
    "my_df2['names'] = flower_names"
   ]
  },
  {
   "cell_type": "markdown",
   "id": "bbcfbf6d",
   "metadata": {},
   "source": [
    "Next we can use ```my_df.set_index('names', inPlace = True)``` to update the index of my_df2. Print out my_df2."
   ]
  },
  {
   "cell_type": "code",
   "execution_count": 11,
   "id": "4298d89c",
   "metadata": {},
   "outputs": [
    {
     "data": {
      "text/html": [
       "<div>\n",
       "<style scoped>\n",
       "    .dataframe tbody tr th:only-of-type {\n",
       "        vertical-align: middle;\n",
       "    }\n",
       "\n",
       "    .dataframe tbody tr th {\n",
       "        vertical-align: top;\n",
       "    }\n",
       "\n",
       "    .dataframe thead th {\n",
       "        text-align: right;\n",
       "    }\n",
       "</style>\n",
       "<table border=\"1\" class=\"dataframe\">\n",
       "  <thead>\n",
       "    <tr style=\"text-align: right;\">\n",
       "      <th></th>\n",
       "      <th>sepal length (cm)</th>\n",
       "      <th>sepal width (cm)</th>\n",
       "      <th>petal length (cm)</th>\n",
       "      <th>petal width (cm)</th>\n",
       "    </tr>\n",
       "    <tr>\n",
       "      <th>names</th>\n",
       "      <th></th>\n",
       "      <th></th>\n",
       "      <th></th>\n",
       "      <th></th>\n",
       "    </tr>\n",
       "  </thead>\n",
       "  <tbody>\n",
       "    <tr>\n",
       "      <th>a</th>\n",
       "      <td>5.1</td>\n",
       "      <td>3.5</td>\n",
       "      <td>1.4</td>\n",
       "      <td>0.2</td>\n",
       "    </tr>\n",
       "    <tr>\n",
       "      <th>b</th>\n",
       "      <td>4.9</td>\n",
       "      <td>3.0</td>\n",
       "      <td>1.4</td>\n",
       "      <td>0.2</td>\n",
       "    </tr>\n",
       "    <tr>\n",
       "      <th>c</th>\n",
       "      <td>4.7</td>\n",
       "      <td>3.2</td>\n",
       "      <td>1.3</td>\n",
       "      <td>0.2</td>\n",
       "    </tr>\n",
       "    <tr>\n",
       "      <th>d</th>\n",
       "      <td>4.6</td>\n",
       "      <td>3.1</td>\n",
       "      <td>1.5</td>\n",
       "      <td>0.2</td>\n",
       "    </tr>\n",
       "    <tr>\n",
       "      <th>e</th>\n",
       "      <td>5.0</td>\n",
       "      <td>3.6</td>\n",
       "      <td>1.4</td>\n",
       "      <td>0.2</td>\n",
       "    </tr>\n",
       "    <tr>\n",
       "      <th>f</th>\n",
       "      <td>5.4</td>\n",
       "      <td>3.9</td>\n",
       "      <td>1.7</td>\n",
       "      <td>0.4</td>\n",
       "    </tr>\n",
       "    <tr>\n",
       "      <th>g</th>\n",
       "      <td>4.6</td>\n",
       "      <td>3.4</td>\n",
       "      <td>1.4</td>\n",
       "      <td>0.3</td>\n",
       "    </tr>\n",
       "    <tr>\n",
       "      <th>h</th>\n",
       "      <td>5.0</td>\n",
       "      <td>3.4</td>\n",
       "      <td>1.5</td>\n",
       "      <td>0.2</td>\n",
       "    </tr>\n",
       "    <tr>\n",
       "      <th>i</th>\n",
       "      <td>4.4</td>\n",
       "      <td>2.9</td>\n",
       "      <td>1.4</td>\n",
       "      <td>0.2</td>\n",
       "    </tr>\n",
       "    <tr>\n",
       "      <th>j</th>\n",
       "      <td>4.9</td>\n",
       "      <td>3.1</td>\n",
       "      <td>1.5</td>\n",
       "      <td>0.1</td>\n",
       "    </tr>\n",
       "  </tbody>\n",
       "</table>\n",
       "</div>"
      ],
      "text/plain": [
       "       sepal length (cm)  sepal width (cm)  petal length (cm)  \\\n",
       "names                                                           \n",
       "a                    5.1               3.5                1.4   \n",
       "b                    4.9               3.0                1.4   \n",
       "c                    4.7               3.2                1.3   \n",
       "d                    4.6               3.1                1.5   \n",
       "e                    5.0               3.6                1.4   \n",
       "f                    5.4               3.9                1.7   \n",
       "g                    4.6               3.4                1.4   \n",
       "h                    5.0               3.4                1.5   \n",
       "i                    4.4               2.9                1.4   \n",
       "j                    4.9               3.1                1.5   \n",
       "\n",
       "       petal width (cm)  \n",
       "names                    \n",
       "a                   0.2  \n",
       "b                   0.2  \n",
       "c                   0.2  \n",
       "d                   0.2  \n",
       "e                   0.2  \n",
       "f                   0.4  \n",
       "g                   0.3  \n",
       "h                   0.2  \n",
       "i                   0.2  \n",
       "j                   0.1  "
      ]
     },
     "execution_count": 11,
     "metadata": {},
     "output_type": "execute_result"
    }
   ],
   "source": [
    "my_df2.set_index('names', inplace = True)\n",
    "my_df2"
   ]
  },
  {
   "cell_type": "markdown",
   "id": "d25b3b7c",
   "metadata": {},
   "source": [
    "With the names index, we can directly select rows for different flower names values using .loc function. To select a single name type in ```my_df2.loc['a']```."
   ]
  },
  {
   "cell_type": "code",
   "execution_count": 12,
   "id": "b4054518",
   "metadata": {},
   "outputs": [
    {
     "data": {
      "text/plain": [
       "sepal length (cm)    5.1\n",
       "sepal width (cm)     3.5\n",
       "petal length (cm)    1.4\n",
       "petal width (cm)     0.2\n",
       "Name: a, dtype: float64"
      ]
     },
     "execution_count": 12,
     "metadata": {},
     "output_type": "execute_result"
    }
   ],
   "source": [
    "my_df2.loc['a']"
   ]
  },
  {
   "cell_type": "markdown",
   "id": "01f02d87",
   "metadata": {},
   "source": [
    "Let's pick up two flowers. Type in ```my_df2.loc[['c','d']]```."
   ]
  },
  {
   "cell_type": "code",
   "execution_count": 13,
   "id": "e479aed3",
   "metadata": {},
   "outputs": [
    {
     "data": {
      "text/html": [
       "<div>\n",
       "<style scoped>\n",
       "    .dataframe tbody tr th:only-of-type {\n",
       "        vertical-align: middle;\n",
       "    }\n",
       "\n",
       "    .dataframe tbody tr th {\n",
       "        vertical-align: top;\n",
       "    }\n",
       "\n",
       "    .dataframe thead th {\n",
       "        text-align: right;\n",
       "    }\n",
       "</style>\n",
       "<table border=\"1\" class=\"dataframe\">\n",
       "  <thead>\n",
       "    <tr style=\"text-align: right;\">\n",
       "      <th></th>\n",
       "      <th>sepal length (cm)</th>\n",
       "      <th>sepal width (cm)</th>\n",
       "      <th>petal length (cm)</th>\n",
       "      <th>petal width (cm)</th>\n",
       "    </tr>\n",
       "    <tr>\n",
       "      <th>names</th>\n",
       "      <th></th>\n",
       "      <th></th>\n",
       "      <th></th>\n",
       "      <th></th>\n",
       "    </tr>\n",
       "  </thead>\n",
       "  <tbody>\n",
       "    <tr>\n",
       "      <th>c</th>\n",
       "      <td>4.7</td>\n",
       "      <td>3.2</td>\n",
       "      <td>1.3</td>\n",
       "      <td>0.2</td>\n",
       "    </tr>\n",
       "    <tr>\n",
       "      <th>d</th>\n",
       "      <td>4.6</td>\n",
       "      <td>3.1</td>\n",
       "      <td>1.5</td>\n",
       "      <td>0.2</td>\n",
       "    </tr>\n",
       "  </tbody>\n",
       "</table>\n",
       "</div>"
      ],
      "text/plain": [
       "       sepal length (cm)  sepal width (cm)  petal length (cm)  \\\n",
       "names                                                           \n",
       "c                    4.7               3.2                1.3   \n",
       "d                    4.6               3.1                1.5   \n",
       "\n",
       "       petal width (cm)  \n",
       "names                    \n",
       "c                   0.2  \n",
       "d                   0.2  "
      ]
     },
     "execution_count": 13,
     "metadata": {},
     "output_type": "execute_result"
    }
   ],
   "source": [
    "my_df2.loc[['c','d']]"
   ]
  },
  {
   "cell_type": "markdown",
   "id": "23ae0abd",
   "metadata": {},
   "source": [
    "You can also select certain columns with a second list of column names. Try ```my_df2.loc[['c','d'], ['sepal length (cm)','sepal width (cm)']]```."
   ]
  },
  {
   "cell_type": "code",
   "execution_count": 14,
   "id": "800700ad",
   "metadata": {},
   "outputs": [
    {
     "data": {
      "text/html": [
       "<div>\n",
       "<style scoped>\n",
       "    .dataframe tbody tr th:only-of-type {\n",
       "        vertical-align: middle;\n",
       "    }\n",
       "\n",
       "    .dataframe tbody tr th {\n",
       "        vertical-align: top;\n",
       "    }\n",
       "\n",
       "    .dataframe thead th {\n",
       "        text-align: right;\n",
       "    }\n",
       "</style>\n",
       "<table border=\"1\" class=\"dataframe\">\n",
       "  <thead>\n",
       "    <tr style=\"text-align: right;\">\n",
       "      <th></th>\n",
       "      <th>sepal length (cm)</th>\n",
       "      <th>sepal width (cm)</th>\n",
       "    </tr>\n",
       "    <tr>\n",
       "      <th>names</th>\n",
       "      <th></th>\n",
       "      <th></th>\n",
       "    </tr>\n",
       "  </thead>\n",
       "  <tbody>\n",
       "    <tr>\n",
       "      <th>c</th>\n",
       "      <td>4.7</td>\n",
       "      <td>3.2</td>\n",
       "    </tr>\n",
       "    <tr>\n",
       "      <th>d</th>\n",
       "      <td>4.6</td>\n",
       "      <td>3.1</td>\n",
       "    </tr>\n",
       "  </tbody>\n",
       "</table>\n",
       "</div>"
      ],
      "text/plain": [
       "       sepal length (cm)  sepal width (cm)\n",
       "names                                     \n",
       "c                    4.7               3.2\n",
       "d                    4.6               3.1"
      ]
     },
     "execution_count": 14,
     "metadata": {},
     "output_type": "execute_result"
    }
   ],
   "source": [
    "my_df2.loc[['c','d'], ['sepal length (cm)','sepal width (cm)']]"
   ]
  },
  {
   "cell_type": "markdown",
   "id": "ec734443",
   "metadata": {},
   "source": [
    "You can also select ranges of index labels. Try ```my_df2.loc['c':'f']```."
   ]
  },
  {
   "cell_type": "code",
   "execution_count": 15,
   "id": "449aa22c",
   "metadata": {},
   "outputs": [
    {
     "data": {
      "text/html": [
       "<div>\n",
       "<style scoped>\n",
       "    .dataframe tbody tr th:only-of-type {\n",
       "        vertical-align: middle;\n",
       "    }\n",
       "\n",
       "    .dataframe tbody tr th {\n",
       "        vertical-align: top;\n",
       "    }\n",
       "\n",
       "    .dataframe thead th {\n",
       "        text-align: right;\n",
       "    }\n",
       "</style>\n",
       "<table border=\"1\" class=\"dataframe\">\n",
       "  <thead>\n",
       "    <tr style=\"text-align: right;\">\n",
       "      <th></th>\n",
       "      <th>sepal length (cm)</th>\n",
       "      <th>sepal width (cm)</th>\n",
       "      <th>petal length (cm)</th>\n",
       "      <th>petal width (cm)</th>\n",
       "    </tr>\n",
       "    <tr>\n",
       "      <th>names</th>\n",
       "      <th></th>\n",
       "      <th></th>\n",
       "      <th></th>\n",
       "      <th></th>\n",
       "    </tr>\n",
       "  </thead>\n",
       "  <tbody>\n",
       "    <tr>\n",
       "      <th>c</th>\n",
       "      <td>4.7</td>\n",
       "      <td>3.2</td>\n",
       "      <td>1.3</td>\n",
       "      <td>0.2</td>\n",
       "    </tr>\n",
       "    <tr>\n",
       "      <th>d</th>\n",
       "      <td>4.6</td>\n",
       "      <td>3.1</td>\n",
       "      <td>1.5</td>\n",
       "      <td>0.2</td>\n",
       "    </tr>\n",
       "    <tr>\n",
       "      <th>e</th>\n",
       "      <td>5.0</td>\n",
       "      <td>3.6</td>\n",
       "      <td>1.4</td>\n",
       "      <td>0.2</td>\n",
       "    </tr>\n",
       "    <tr>\n",
       "      <th>f</th>\n",
       "      <td>5.4</td>\n",
       "      <td>3.9</td>\n",
       "      <td>1.7</td>\n",
       "      <td>0.4</td>\n",
       "    </tr>\n",
       "  </tbody>\n",
       "</table>\n",
       "</div>"
      ],
      "text/plain": [
       "       sepal length (cm)  sepal width (cm)  petal length (cm)  \\\n",
       "names                                                           \n",
       "c                    4.7               3.2                1.3   \n",
       "d                    4.6               3.1                1.5   \n",
       "e                    5.0               3.6                1.4   \n",
       "f                    5.4               3.9                1.7   \n",
       "\n",
       "       petal width (cm)  \n",
       "names                    \n",
       "c                   0.2  \n",
       "d                   0.2  \n",
       "e                   0.2  \n",
       "f                   0.4  "
      ]
     },
     "execution_count": 15,
     "metadata": {},
     "output_type": "execute_result"
    }
   ],
   "source": [
    "my_df2.loc['c':'f']"
   ]
  },
  {
   "cell_type": "markdown",
   "id": "78802add",
   "metadata": {},
   "source": [
    "Finally, a logical selection is also possible with an indexed data frame directly --- not just via selectors as previously discussed. \n",
    "\n",
    "Try to retrieve all entries with petal width (cm) = 0.2 by typing in ```my_df2.loc[my_df2['petal width (cm)'] == 0.2]```. Yes, you have to repeat the data frame inside the []."
   ]
  },
  {
   "cell_type": "code",
   "execution_count": 16,
   "id": "223000e9",
   "metadata": {},
   "outputs": [
    {
     "data": {
      "text/html": [
       "<div>\n",
       "<style scoped>\n",
       "    .dataframe tbody tr th:only-of-type {\n",
       "        vertical-align: middle;\n",
       "    }\n",
       "\n",
       "    .dataframe tbody tr th {\n",
       "        vertical-align: top;\n",
       "    }\n",
       "\n",
       "    .dataframe thead th {\n",
       "        text-align: right;\n",
       "    }\n",
       "</style>\n",
       "<table border=\"1\" class=\"dataframe\">\n",
       "  <thead>\n",
       "    <tr style=\"text-align: right;\">\n",
       "      <th></th>\n",
       "      <th>sepal length (cm)</th>\n",
       "      <th>sepal width (cm)</th>\n",
       "      <th>petal length (cm)</th>\n",
       "      <th>petal width (cm)</th>\n",
       "    </tr>\n",
       "    <tr>\n",
       "      <th>names</th>\n",
       "      <th></th>\n",
       "      <th></th>\n",
       "      <th></th>\n",
       "      <th></th>\n",
       "    </tr>\n",
       "  </thead>\n",
       "  <tbody>\n",
       "    <tr>\n",
       "      <th>a</th>\n",
       "      <td>5.1</td>\n",
       "      <td>3.5</td>\n",
       "      <td>1.4</td>\n",
       "      <td>0.2</td>\n",
       "    </tr>\n",
       "    <tr>\n",
       "      <th>b</th>\n",
       "      <td>4.9</td>\n",
       "      <td>3.0</td>\n",
       "      <td>1.4</td>\n",
       "      <td>0.2</td>\n",
       "    </tr>\n",
       "    <tr>\n",
       "      <th>c</th>\n",
       "      <td>4.7</td>\n",
       "      <td>3.2</td>\n",
       "      <td>1.3</td>\n",
       "      <td>0.2</td>\n",
       "    </tr>\n",
       "    <tr>\n",
       "      <th>d</th>\n",
       "      <td>4.6</td>\n",
       "      <td>3.1</td>\n",
       "      <td>1.5</td>\n",
       "      <td>0.2</td>\n",
       "    </tr>\n",
       "    <tr>\n",
       "      <th>e</th>\n",
       "      <td>5.0</td>\n",
       "      <td>3.6</td>\n",
       "      <td>1.4</td>\n",
       "      <td>0.2</td>\n",
       "    </tr>\n",
       "    <tr>\n",
       "      <th>h</th>\n",
       "      <td>5.0</td>\n",
       "      <td>3.4</td>\n",
       "      <td>1.5</td>\n",
       "      <td>0.2</td>\n",
       "    </tr>\n",
       "    <tr>\n",
       "      <th>i</th>\n",
       "      <td>4.4</td>\n",
       "      <td>2.9</td>\n",
       "      <td>1.4</td>\n",
       "      <td>0.2</td>\n",
       "    </tr>\n",
       "  </tbody>\n",
       "</table>\n",
       "</div>"
      ],
      "text/plain": [
       "       sepal length (cm)  sepal width (cm)  petal length (cm)  \\\n",
       "names                                                           \n",
       "a                    5.1               3.5                1.4   \n",
       "b                    4.9               3.0                1.4   \n",
       "c                    4.7               3.2                1.3   \n",
       "d                    4.6               3.1                1.5   \n",
       "e                    5.0               3.6                1.4   \n",
       "h                    5.0               3.4                1.5   \n",
       "i                    4.4               2.9                1.4   \n",
       "\n",
       "       petal width (cm)  \n",
       "names                    \n",
       "a                   0.2  \n",
       "b                   0.2  \n",
       "c                   0.2  \n",
       "d                   0.2  \n",
       "e                   0.2  \n",
       "h                   0.2  \n",
       "i                   0.2  "
      ]
     },
     "execution_count": 16,
     "metadata": {},
     "output_type": "execute_result"
    }
   ],
   "source": [
    "my_df2.loc[my_df2['petal width (cm)'] == 0.2]"
   ]
  },
  {
   "cell_type": "markdown",
   "id": "45f8bae4",
   "metadata": {},
   "source": [
    "Indexing is a big topic in the Pandas world and unfortunately a bit complicated. Check out https://pandas.pydata.org/pandas-docs/stable/user_guide/indexing.html. The book Python for Data Analysis is also a great reference. Its author Wes McKinney has actually created Pandas.\n",
    "\n",
    "There is so much more you can do with data frames in Pandas. Just one more function you will use quite a bit: value_counts(). It counts the number of times a value appears in a column. Try it with ```my_df2['petal width (cm)'].value_counts()```."
   ]
  },
  {
   "cell_type": "code",
   "execution_count": 17,
   "id": "f1789fcf",
   "metadata": {},
   "outputs": [
    {
     "data": {
      "text/plain": [
       "0.2    7\n",
       "0.1    1\n",
       "0.3    1\n",
       "0.4    1\n",
       "Name: petal width (cm), dtype: int64"
      ]
     },
     "execution_count": 17,
     "metadata": {},
     "output_type": "execute_result"
    }
   ],
   "source": [
    "my_df2['petal width (cm)'].value_counts()"
   ]
  },
  {
   "cell_type": "markdown",
   "id": "f4f888c3",
   "metadata": {},
   "source": [
    "We have almost made it to our real-life datasets. But before that we need to introduce a few more aspects from Python, the programming language, which you might need in data analysis tasks. The first topic are control structures.\n",
    "\n",
    "Control structures execute a piece of code based on a condition. You can recognize them in most programming languages by the keyword if. In Python, they look like the following:"
   ]
  },
  {
   "cell_type": "code",
   "execution_count": 18,
   "id": "9887e6a9",
   "metadata": {},
   "outputs": [
    {
     "name": "stdout",
     "output_type": "stream",
     "text": [
      "Showing LinkedIn information\n"
     ]
    }
   ],
   "source": [
    "#Keep cell\n",
    "\n",
    "medium = 'LinkedIn'\n",
    "\n",
    "if (medium == 'LinkedIn'):\n",
    "    print('Showing LinkedIn information')"
   ]
  },
  {
   "cell_type": "markdown",
   "id": "13440be5",
   "metadata": {},
   "source": [
    "The first statement creates a variable medium with 'LinkedIn' as a value. The control structure starts with if, then uses a condition to evaluate to a Boolean (medium == 'LinkedIn'), followed by a colon. The statement to execute follows in the next line.  print('Showing LinkedIn information') will print out if the condition is met.\n",
    "\n",
    "Important: Observe the indentation, which is a way of telling Python that a group of statements belongs together as a block. Blocks can be regarded as the grouping of statements for a specific purpose. Python really does not like if you mess with its indentation. Check https://www.dummies.com/programming/python/how-to-indent-and-dedent-your-python-code/."
   ]
  },
  {
   "cell_type": "markdown",
   "id": "8828dfd7",
   "metadata": {},
   "source": [
    "Now, also assign ```num_views = 14```."
   ]
  },
  {
   "cell_type": "code",
   "execution_count": 19,
   "id": "0ce70cd7",
   "metadata": {},
   "outputs": [],
   "source": [
    "num_views = 14"
   ]
  },
  {
   "cell_type": "markdown",
   "id": "b0bdcf7e",
   "metadata": {},
   "source": [
    "Let’s try to confirm whether we are popular with ```if num_views > 15``` then print 'You are very popular!' How do you do it?"
   ]
  },
  {
   "cell_type": "code",
   "execution_count": 20,
   "id": "f071e5f8",
   "metadata": {},
   "outputs": [],
   "source": [
    "if (num_views > 15):\n",
    "    print('you are very popular!')"
   ]
  },
  {
   "cell_type": "markdown",
   "id": "83f0fff5",
   "metadata": {},
   "source": [
    "You can combine Boolean expressions/conditions also logically. The keyword 'and' stands for a logical and, while 'or' stands for the logical or in Python. \n",
    "\n",
    "Try the logical combination and and type in:\n",
    "\n",
    "```\n",
    "if (num_views > 15) and (medium == 'LinkedIn'):\n",
    "    print('You are popular on LinkedIn!')\n",
    "```\n",
    "\n",
    "Explain the results!"
   ]
  },
  {
   "cell_type": "code",
   "execution_count": 21,
   "id": "857ba310",
   "metadata": {},
   "outputs": [],
   "source": [
    "if (num_views > 15) and (medium == 'LinkedIn'):\n",
    "    print('You are popular on LinkedIn!')"
   ]
  },
  {
   "cell_type": "markdown",
   "id": "314472a9",
   "metadata": {},
   "source": [
    "Finally, you can also tell the computer to do other work if the condition is not fulfilled. You need to use the keyword else. Run the cell below and opserve the indentation ..."
   ]
  },
  {
   "cell_type": "code",
   "execution_count": 22,
   "id": "1843ab37",
   "metadata": {},
   "outputs": [
    {
     "name": "stdout",
     "output_type": "stream",
     "text": [
      "Condition not met.\n",
      "Try to be more visible!\n"
     ]
    }
   ],
   "source": [
    "#keep cell\n",
    "\n",
    "if (num_views > 15) and (medium == 'LinkedIn'):\n",
    "    print('Condition met.')\n",
    "    print('You are popular on LinkedIn!')\n",
    "else:\n",
    "    print('Condition not met.')\n",
    "    print('Try to be more visible!')"
   ]
  },
  {
   "cell_type": "markdown",
   "id": "e66813a1",
   "metadata": {},
   "source": [
    "Another important concept in Python data analysis are for-loops. They are used for iterating over a sequence (like a list or even a secquence of letters or a string). The cell below shows the syntax. Run it."
   ]
  },
  {
   "cell_type": "code",
   "execution_count": 23,
   "id": "e71bc334",
   "metadata": {},
   "outputs": [
    {
     "name": "stdout",
     "output_type": "stream",
     "text": [
      "L\n",
      "i\n",
      "n\n",
      "k\n",
      "e\n",
      "d\n",
      "I\n",
      "n\n"
     ]
    }
   ],
   "source": [
    "#Keep cell\n",
    "\n",
    "for letter in 'LinkedIn':\n",
    "    print(letter)"
   ]
  },
  {
   "cell_type": "markdown",
   "id": "dc5a1984",
   "metadata": {},
   "source": [
    "For-loops can be very useful to perform repeated operations on collections of data, which is something we often want to do. So, for instance, loops could be used to get the square of each element in a list/array. Or, we could use them to calculate the average value of a numeric column in a data frame, etc.\n",
    "\n",
    "The next cell introduces the ```for x in list``` construct, which is a short form for going through elements in a list. Run the following to square each number in our list ind and observe the code:\n",
    "\n",
    "```\n",
    "for i in ind:\n",
    "    print(i**2)\n",
    "\n",
    "```\n",
    "\n",
    "```i**2``` is the power-operator in Python."
   ]
  },
  {
   "cell_type": "code",
   "execution_count": 24,
   "id": "a8629b1b",
   "metadata": {},
   "outputs": [
    {
     "name": "stdout",
     "output_type": "stream",
     "text": [
      "0\n",
      "1\n",
      "4\n",
      "9\n",
      "16\n",
      "25\n",
      "36\n",
      "49\n",
      "64\n",
      "81\n"
     ]
    }
   ],
   "source": [
    "for i in ind:\n",
    "    print(i**2)"
   ]
  },
  {
   "cell_type": "markdown",
   "id": "07c327d0",
   "metadata": {},
   "source": [
    "However numpy has some easier functions to apply functions to the entire array at once, which is why we often prefer using it over standard Python. \n",
    "\n",
    "Run ```np.square(ind)``` and admire the simplicity. "
   ]
  },
  {
   "cell_type": "code",
   "execution_count": 25,
   "id": "fb24ef3c",
   "metadata": {},
   "outputs": [
    {
     "data": {
      "text/plain": [
       "array([ 0,  1,  4,  9, 16, 25, 36, 49, 64, 81])"
      ]
     },
     "execution_count": 25,
     "metadata": {},
     "output_type": "execute_result"
    }
   ],
   "source": [
    "np.square(ind)"
   ]
  },
  {
   "cell_type": "markdown",
   "id": "6b3afc5f",
   "metadata": {},
   "source": [
    "Here, numpy is simply amazing and super fast. \n",
    "\n",
    "Let's say we want to take the average of our linkdin and facebook views. First load the social media data again by running the cell below."
   ]
  },
  {
   "cell_type": "code",
   "execution_count": 26,
   "id": "f18da9be",
   "metadata": {},
   "outputs": [],
   "source": [
    "#Keep cell\n",
    "\n",
    "linkedin = np.array([16, 9, 13, 5, 2, 17, 14])\n",
    "facebook = np.array([17, 7, 5, 16, 8, 13, 14])"
   ]
  },
  {
   "cell_type": "markdown",
   "id": "294eb6c5",
   "metadata": {},
   "source": [
    "Now run ```np.average(linkedin)``` to get the average of the LinkedIn array."
   ]
  },
  {
   "cell_type": "code",
   "execution_count": 27,
   "id": "6f25a04a",
   "metadata": {},
   "outputs": [
    {
     "data": {
      "text/plain": [
       "10.857142857142858"
      ]
     },
     "execution_count": 27,
     "metadata": {},
     "output_type": "execute_result"
    }
   ],
   "source": [
    "np.average(linkedin)"
   ]
  },
  {
   "cell_type": "markdown",
   "id": "fb661a6c",
   "metadata": {},
   "source": [
    "To add 2 to each element in a numpy array we simply type the name of the array + 2. Try ```facebook + 2```."
   ]
  },
  {
   "cell_type": "code",
   "execution_count": 28,
   "id": "344d06db",
   "metadata": {},
   "outputs": [
    {
     "data": {
      "text/plain": [
       "array([19,  9,  7, 18, 10, 15, 16])"
      ]
     },
     "execution_count": 28,
     "metadata": {},
     "output_type": "execute_result"
    }
   ],
   "source": [
    "facebook + 2"
   ]
  },
  {
   "cell_type": "markdown",
   "id": "bee252e4",
   "metadata": {},
   "source": [
    "You can also combine these arrays to get one exciting average count for all our social media with np.average(facebook + linkedin)."
   ]
  },
  {
   "cell_type": "code",
   "execution_count": 29,
   "id": "95287c85",
   "metadata": {},
   "outputs": [
    {
     "data": {
      "text/plain": [
       "22.285714285714285"
      ]
     },
     "execution_count": 29,
     "metadata": {},
     "output_type": "execute_result"
    }
   ],
   "source": [
    "np.average(facebook + linkedin)"
   ]
  },
  {
   "cell_type": "markdown",
   "id": "f003dc22",
   "metadata": {},
   "source": [
    "You can also play with numpy's other functions such as np.char.str_len. This counts the number of character for each entry in the flower_names list. \n",
    "\n",
    "Run ```np.char.str_len(flower_names)``` and find out that ..."
   ]
  },
  {
   "cell_type": "code",
   "execution_count": 30,
   "id": "c8bddeb7",
   "metadata": {},
   "outputs": [
    {
     "data": {
      "text/plain": [
       "array([1, 1, 1, 1, 1, 1, 1, 1, 1, 1])"
      ]
     },
     "execution_count": 30,
     "metadata": {},
     "output_type": "execute_result"
    }
   ],
   "source": [
    "np.char.str_len(flower_names)"
   ]
  },
  {
   "cell_type": "markdown",
   "id": "ccc8e465",
   "metadata": {},
   "source": [
    "The outcome is not very surprising given that we made up the names of each flower and were so lazy to just use one letter each.\n",
    "\n",
    "What happens if you type in ```np.char.upper(flower_names)```?"
   ]
  },
  {
   "cell_type": "code",
   "execution_count": 31,
   "id": "42cc2806",
   "metadata": {},
   "outputs": [
    {
     "data": {
      "text/plain": [
       "array(['A', 'B', 'C', 'D', 'E', 'F', 'G', 'H', 'I', 'J'], dtype='<U1')"
      ]
     },
     "execution_count": 31,
     "metadata": {},
     "output_type": "execute_result"
    }
   ],
   "source": [
    "np.char.upper(flower_names)"
   ]
  },
  {
   "cell_type": "markdown",
   "id": "7e457422",
   "metadata": {},
   "source": [
    "For our final apply example, run ```np.size(flower_names)```."
   ]
  },
  {
   "cell_type": "code",
   "execution_count": 32,
   "id": "a27ccdbb",
   "metadata": {},
   "outputs": [
    {
     "data": {
      "text/plain": [
       "10"
      ]
     },
     "execution_count": 32,
     "metadata": {},
     "output_type": "execute_result"
    }
   ],
   "source": [
    "np.size(flower_names)"
   ]
  },
  {
   "cell_type": "markdown",
   "id": "f0fa81e9",
   "metadata": {},
   "source": [
    "Next, we use our knowledge to analyse a real-life social dataset about death penalties. We will work through a detailed example of data exploration and analyse a very small part of the complex question of racism in the USA. \n",
    "\n",
    "The data deathpenalty_df covers judgements of defendants in cases of multiple murders in Florida between 1976 and 1987. The cases all have features that (a) describe whether the death penalty was handed out (where 0 refers to no, 1 to yes), (b) the race of the defendant and (c) the race of the victim (black is referred as 0, white is 1). \n",
    "\n",
    "Load the dataset by running the cell below. Later on we will discuss in detail how you can load your own data in data frame, but if you are already curious check out: https://www.w3schools.com/python/pandas/pandas_csv.asp."
   ]
  },
  {
   "cell_type": "code",
   "execution_count": 33,
   "id": "fb33bd69",
   "metadata": {},
   "outputs": [],
   "source": [
    "#Keep cell\n",
    "\n",
    "deathpenalty_df = pd.read_csv('data/deathpenalty-florida.csv')"
   ]
  },
  {
   "cell_type": "markdown",
   "id": "f370da78",
   "metadata": {},
   "source": [
    "By typing in ```deathpenalty_df.head()```, we can see the first couple of cases/rows. What types of columns do you see?"
   ]
  },
  {
   "cell_type": "code",
   "execution_count": 34,
   "id": "b7162e33",
   "metadata": {},
   "outputs": [
    {
     "data": {
      "text/html": [
       "<div>\n",
       "<style scoped>\n",
       "    .dataframe tbody tr th:only-of-type {\n",
       "        vertical-align: middle;\n",
       "    }\n",
       "\n",
       "    .dataframe tbody tr th {\n",
       "        vertical-align: top;\n",
       "    }\n",
       "\n",
       "    .dataframe thead th {\n",
       "        text-align: right;\n",
       "    }\n",
       "</style>\n",
       "<table border=\"1\" class=\"dataframe\">\n",
       "  <thead>\n",
       "    <tr style=\"text-align: right;\">\n",
       "      <th></th>\n",
       "      <th>DeathPenalty</th>\n",
       "      <th>VictimRace</th>\n",
       "      <th>DefendantRace</th>\n",
       "      <th>Freq</th>\n",
       "    </tr>\n",
       "  </thead>\n",
       "  <tbody>\n",
       "    <tr>\n",
       "      <th>0</th>\n",
       "      <td>0</td>\n",
       "      <td>0</td>\n",
       "      <td>0</td>\n",
       "      <td>139</td>\n",
       "    </tr>\n",
       "    <tr>\n",
       "      <th>1</th>\n",
       "      <td>1</td>\n",
       "      <td>0</td>\n",
       "      <td>0</td>\n",
       "      <td>4</td>\n",
       "    </tr>\n",
       "    <tr>\n",
       "      <th>2</th>\n",
       "      <td>0</td>\n",
       "      <td>1</td>\n",
       "      <td>0</td>\n",
       "      <td>37</td>\n",
       "    </tr>\n",
       "    <tr>\n",
       "      <th>3</th>\n",
       "      <td>1</td>\n",
       "      <td>1</td>\n",
       "      <td>0</td>\n",
       "      <td>11</td>\n",
       "    </tr>\n",
       "    <tr>\n",
       "      <th>4</th>\n",
       "      <td>0</td>\n",
       "      <td>0</td>\n",
       "      <td>1</td>\n",
       "      <td>16</td>\n",
       "    </tr>\n",
       "  </tbody>\n",
       "</table>\n",
       "</div>"
      ],
      "text/plain": [
       "   DeathPenalty  VictimRace  DefendantRace  Freq\n",
       "0             0           0              0   139\n",
       "1             1           0              0     4\n",
       "2             0           1              0    37\n",
       "3             1           1              0    11\n",
       "4             0           0              1    16"
      ]
     },
     "execution_count": 34,
     "metadata": {},
     "output_type": "execute_result"
    }
   ],
   "source": [
    "deathpenalty_df.head()"
   ]
  },
  {
   "cell_type": "markdown",
   "id": "05b5604a",
   "metadata": {},
   "source": [
    "By entering ```deathpenalty_df.tail()```, we can see the last couple of cases/rows."
   ]
  },
  {
   "cell_type": "code",
   "execution_count": 35,
   "id": "3d4e56df",
   "metadata": {},
   "outputs": [
    {
     "data": {
      "text/html": [
       "<div>\n",
       "<style scoped>\n",
       "    .dataframe tbody tr th:only-of-type {\n",
       "        vertical-align: middle;\n",
       "    }\n",
       "\n",
       "    .dataframe tbody tr th {\n",
       "        vertical-align: top;\n",
       "    }\n",
       "\n",
       "    .dataframe thead th {\n",
       "        text-align: right;\n",
       "    }\n",
       "</style>\n",
       "<table border=\"1\" class=\"dataframe\">\n",
       "  <thead>\n",
       "    <tr style=\"text-align: right;\">\n",
       "      <th></th>\n",
       "      <th>DeathPenalty</th>\n",
       "      <th>VictimRace</th>\n",
       "      <th>DefendantRace</th>\n",
       "      <th>Freq</th>\n",
       "    </tr>\n",
       "  </thead>\n",
       "  <tbody>\n",
       "    <tr>\n",
       "      <th>3</th>\n",
       "      <td>1</td>\n",
       "      <td>1</td>\n",
       "      <td>0</td>\n",
       "      <td>11</td>\n",
       "    </tr>\n",
       "    <tr>\n",
       "      <th>4</th>\n",
       "      <td>0</td>\n",
       "      <td>0</td>\n",
       "      <td>1</td>\n",
       "      <td>16</td>\n",
       "    </tr>\n",
       "    <tr>\n",
       "      <th>5</th>\n",
       "      <td>1</td>\n",
       "      <td>0</td>\n",
       "      <td>1</td>\n",
       "      <td>0</td>\n",
       "    </tr>\n",
       "    <tr>\n",
       "      <th>6</th>\n",
       "      <td>0</td>\n",
       "      <td>1</td>\n",
       "      <td>1</td>\n",
       "      <td>414</td>\n",
       "    </tr>\n",
       "    <tr>\n",
       "      <th>7</th>\n",
       "      <td>1</td>\n",
       "      <td>1</td>\n",
       "      <td>1</td>\n",
       "      <td>53</td>\n",
       "    </tr>\n",
       "  </tbody>\n",
       "</table>\n",
       "</div>"
      ],
      "text/plain": [
       "   DeathPenalty  VictimRace  DefendantRace  Freq\n",
       "3             1           1              0    11\n",
       "4             0           0              1    16\n",
       "5             1           0              1     0\n",
       "6             0           1              1   414\n",
       "7             1           1              1    53"
      ]
     },
     "execution_count": 35,
     "metadata": {},
     "output_type": "execute_result"
    }
   ],
   "source": [
    "deathpenalty_df.tail()"
   ]
  },
  {
   "cell_type": "markdown",
   "id": "64b9e7b8",
   "metadata": {},
   "source": [
    "Next, we will try to ask the data a few simple questions. Sometimes the solution will be given. Otherwise, you will have to find it yourself."
   ]
  },
  {
   "cell_type": "markdown",
   "id": "e11b1a98",
   "metadata": {},
   "source": [
    "With the Numpy function np.mean(), you can retrieve the average of a series of numbers.\n",
    "\n",
    "We want to know the average of the frequency column by selecting it from the dataframe. You can thus answer what the average frequency of judgements would be by entering ```np.mean(deathpenalty_df['Freq'])```. Try it."
   ]
  },
  {
   "cell_type": "code",
   "execution_count": 36,
   "id": "b7b1aa8f",
   "metadata": {},
   "outputs": [
    {
     "data": {
      "text/plain": [
       "84.25"
      ]
     },
     "execution_count": 36,
     "metadata": {},
     "output_type": "execute_result"
    }
   ],
   "source": [
    "np.mean(deathpenalty_df['Freq'])"
   ]
  },
  {
   "cell_type": "markdown",
   "id": "7488e808",
   "metadata": {},
   "source": [
    "The numpy mean function is very useful to understand data. When something is deemed average, it falls somewhere between the extreme ends of the scale. An average student might have marks falling in the middle of their classmates; an average weight is neither unusually light nor heavy. An average item is typical, and not too unlike the others in the group. You might think of it as an exemplar.\n",
    "\n",
    "median is another function like mean that summarizes a whole dataset by delivering a central tendency. Like mean, it identifies a value that falls in the middle of a set of data. median splits the upper 50% of a data from the lower 50%. It thus delivers the value that occurs halfway if we order a list of values. How do you get the median frequency of judgements? Hint: The Numpy function is called np.median."
   ]
  },
  {
   "cell_type": "code",
   "execution_count": 37,
   "id": "95fa92a0",
   "metadata": {},
   "outputs": [
    {
     "data": {
      "text/plain": [
       "26.5"
      ]
     },
     "execution_count": 37,
     "metadata": {},
     "output_type": "execute_result"
    }
   ],
   "source": [
    "np.median(deathpenalty_df['Freq'])"
   ]
  },
  {
   "cell_type": "markdown",
   "id": "73ed532f",
   "metadata": {},
   "source": [
    "There is a significant diffference between the mean and medium value. What does it mean? Check out https://www.datascienceblog.net/post/basic-statistics/mean_vs_median/.\n",
    "\n",
    "What is the lowest number of judgements (np.min)? Assign the value to min_freq, please. Print out min_freq, too."
   ]
  },
  {
   "cell_type": "code",
   "execution_count": 38,
   "id": "3b9b3b4c",
   "metadata": {},
   "outputs": [
    {
     "data": {
      "text/plain": [
       "0"
      ]
     },
     "execution_count": 38,
     "metadata": {},
     "output_type": "execute_result"
    }
   ],
   "source": [
    "min_freq = np.min(deathpenalty_df['Freq'])\n",
    "min_freq"
   ]
  },
  {
   "cell_type": "markdown",
   "id": "4d3d6a27",
   "metadata": {},
   "source": [
    "What is the highest number of judgements (np.max)? Assign the value to max_freq, please. Print out max_freq, too."
   ]
  },
  {
   "cell_type": "code",
   "execution_count": 39,
   "id": "349e0f8e",
   "metadata": {},
   "outputs": [
    {
     "data": {
      "text/plain": [
       "414"
      ]
     },
     "execution_count": 39,
     "metadata": {},
     "output_type": "execute_result"
    }
   ],
   "source": [
    "max_freq = np.max(deathpenalty_df['Freq'])\n",
    "max_freq"
   ]
  },
  {
   "cell_type": "markdown",
   "id": "4c21c0b8",
   "metadata": {},
   "source": [
    "What kind of case combinations had the lowest numbers of judgements? We could use min_freq and max_freq to select the specific rows from deathpenalty_df. Do you know how? \n",
    "\n",
    "Try it for the highest number of judgements (max_freq)."
   ]
  },
  {
   "cell_type": "code",
   "execution_count": 40,
   "id": "42ce03c7",
   "metadata": {},
   "outputs": [
    {
     "data": {
      "text/html": [
       "<div>\n",
       "<style scoped>\n",
       "    .dataframe tbody tr th:only-of-type {\n",
       "        vertical-align: middle;\n",
       "    }\n",
       "\n",
       "    .dataframe tbody tr th {\n",
       "        vertical-align: top;\n",
       "    }\n",
       "\n",
       "    .dataframe thead th {\n",
       "        text-align: right;\n",
       "    }\n",
       "</style>\n",
       "<table border=\"1\" class=\"dataframe\">\n",
       "  <thead>\n",
       "    <tr style=\"text-align: right;\">\n",
       "      <th></th>\n",
       "      <th>DeathPenalty</th>\n",
       "      <th>VictimRace</th>\n",
       "      <th>DefendantRace</th>\n",
       "      <th>Freq</th>\n",
       "    </tr>\n",
       "  </thead>\n",
       "  <tbody>\n",
       "    <tr>\n",
       "      <th>6</th>\n",
       "      <td>0</td>\n",
       "      <td>1</td>\n",
       "      <td>1</td>\n",
       "      <td>414</td>\n",
       "    </tr>\n",
       "  </tbody>\n",
       "</table>\n",
       "</div>"
      ],
      "text/plain": [
       "   DeathPenalty  VictimRace  DefendantRace  Freq\n",
       "6             0           1              1   414"
      ]
     },
     "execution_count": 40,
     "metadata": {},
     "output_type": "execute_result"
    }
   ],
   "source": [
    "deathpenalty_df[deathpenalty_df['Freq'] == max_freq]"
   ]
  },
  {
   "cell_type": "markdown",
   "id": "6aed6a88",
   "metadata": {},
   "source": [
    "But, this case is so common that we can optain these cases using functions that come with Pandas. To get the row with the smallest value for Freq, type deathpenalty_df.nsmallest(1, 'Freq'). The first argument specifies the numnber of items to retrieve and the second the column."
   ]
  },
  {
   "cell_type": "code",
   "execution_count": 41,
   "id": "d2b3d4c7",
   "metadata": {},
   "outputs": [
    {
     "data": {
      "text/html": [
       "<div>\n",
       "<style scoped>\n",
       "    .dataframe tbody tr th:only-of-type {\n",
       "        vertical-align: middle;\n",
       "    }\n",
       "\n",
       "    .dataframe tbody tr th {\n",
       "        vertical-align: top;\n",
       "    }\n",
       "\n",
       "    .dataframe thead th {\n",
       "        text-align: right;\n",
       "    }\n",
       "</style>\n",
       "<table border=\"1\" class=\"dataframe\">\n",
       "  <thead>\n",
       "    <tr style=\"text-align: right;\">\n",
       "      <th></th>\n",
       "      <th>DeathPenalty</th>\n",
       "      <th>VictimRace</th>\n",
       "      <th>DefendantRace</th>\n",
       "      <th>Freq</th>\n",
       "    </tr>\n",
       "  </thead>\n",
       "  <tbody>\n",
       "    <tr>\n",
       "      <th>5</th>\n",
       "      <td>1</td>\n",
       "      <td>0</td>\n",
       "      <td>1</td>\n",
       "      <td>0</td>\n",
       "    </tr>\n",
       "  </tbody>\n",
       "</table>\n",
       "</div>"
      ],
      "text/plain": [
       "   DeathPenalty  VictimRace  DefendantRace  Freq\n",
       "5             1           0              1     0"
      ]
     },
     "execution_count": 41,
     "metadata": {},
     "output_type": "execute_result"
    }
   ],
   "source": [
    "deathpenalty_df.nsmallest(1, 'Freq')"
   ]
  },
  {
   "cell_type": "markdown",
   "id": "33b7693b",
   "metadata": {},
   "source": [
    "Onwards ... \n",
    "\n",
    "Which case combinations had the highest number of judgements? You just need to change the function to deathpenalty_df.nlargest."
   ]
  },
  {
   "cell_type": "code",
   "execution_count": 42,
   "id": "76ec6f7d",
   "metadata": {},
   "outputs": [
    {
     "data": {
      "text/html": [
       "<div>\n",
       "<style scoped>\n",
       "    .dataframe tbody tr th:only-of-type {\n",
       "        vertical-align: middle;\n",
       "    }\n",
       "\n",
       "    .dataframe tbody tr th {\n",
       "        vertical-align: top;\n",
       "    }\n",
       "\n",
       "    .dataframe thead th {\n",
       "        text-align: right;\n",
       "    }\n",
       "</style>\n",
       "<table border=\"1\" class=\"dataframe\">\n",
       "  <thead>\n",
       "    <tr style=\"text-align: right;\">\n",
       "      <th></th>\n",
       "      <th>DeathPenalty</th>\n",
       "      <th>VictimRace</th>\n",
       "      <th>DefendantRace</th>\n",
       "      <th>Freq</th>\n",
       "    </tr>\n",
       "  </thead>\n",
       "  <tbody>\n",
       "    <tr>\n",
       "      <th>6</th>\n",
       "      <td>0</td>\n",
       "      <td>1</td>\n",
       "      <td>1</td>\n",
       "      <td>414</td>\n",
       "    </tr>\n",
       "  </tbody>\n",
       "</table>\n",
       "</div>"
      ],
      "text/plain": [
       "   DeathPenalty  VictimRace  DefendantRace  Freq\n",
       "6             0           1              1   414"
      ]
     },
     "execution_count": 42,
     "metadata": {},
     "output_type": "execute_result"
    }
   ],
   "source": [
    "deathpenalty_df.nlargest(1, 'Freq')"
   ]
  },
  {
   "cell_type": "markdown",
   "id": "a2bfca4c",
   "metadata": {},
   "source": [
    "This is already very interesting. While whites murdering white is the by far most common case, there were no deapth penalities here.\n",
    "\n",
    "min and max are measures of the diversity or spread of data. Knowing about the spread provides a sense of the data’s highs and lows, and whether most values are like or unlike the mean and median. The span between the minimum and maximum value is known as the range. Calculate the range in the next cell."
   ]
  },
  {
   "cell_type": "code",
   "execution_count": 43,
   "id": "f89ad8f9",
   "metadata": {},
   "outputs": [
    {
     "data": {
      "text/plain": [
       "414"
      ]
     },
     "execution_count": 43,
     "metadata": {},
     "output_type": "execute_result"
    }
   ],
   "source": [
    "max_freq - min_freq"
   ]
  },
  {
   "cell_type": "markdown",
   "id": "fd9579e9",
   "metadata": {},
   "source": [
    "The data is very spread out ...\n",
    "\n",
    "To know more about the distribution of data, np.quantile comes in handy. The function defines cut-off points dividing observations. It is the function that helps us calculate the nth quantile of the given data along. \n",
    "\n",
    "Check out ```np.quantile(deathpenalty_df['Freq'], [0.25,0.5, 0.75, 1])```. The first argument is the column and the second argument is the list of the percentage cut-off points at 25%, 50%, 75% and 100%."
   ]
  },
  {
   "cell_type": "code",
   "execution_count": 44,
   "id": "f44411e7",
   "metadata": {},
   "outputs": [
    {
     "data": {
      "text/plain": [
       "array([  9.25,  26.5 ,  74.5 , 414.  ])"
      ]
     },
     "execution_count": 44,
     "metadata": {},
     "output_type": "execute_result"
    }
   ],
   "source": [
    "np.quantile(deathpenalty_df['Freq'], [0.25,0.5, 0.75, 1])"
   ]
  },
  {
   "cell_type": "markdown",
   "id": "12f77170",
   "metadata": {},
   "source": [
    "The answer should read that 9.25 as frequency is the 25% cut-off, 26.5 the 50% cut-off, etc.\n",
    "\n",
    "There are two more really useful data exploration functions in Python. The first one is describe. Try ```deathpenalty_df.describe()``` and see what is returned."
   ]
  },
  {
   "cell_type": "code",
   "execution_count": 45,
   "id": "43603bca",
   "metadata": {},
   "outputs": [
    {
     "data": {
      "text/html": [
       "<div>\n",
       "<style scoped>\n",
       "    .dataframe tbody tr th:only-of-type {\n",
       "        vertical-align: middle;\n",
       "    }\n",
       "\n",
       "    .dataframe tbody tr th {\n",
       "        vertical-align: top;\n",
       "    }\n",
       "\n",
       "    .dataframe thead th {\n",
       "        text-align: right;\n",
       "    }\n",
       "</style>\n",
       "<table border=\"1\" class=\"dataframe\">\n",
       "  <thead>\n",
       "    <tr style=\"text-align: right;\">\n",
       "      <th></th>\n",
       "      <th>DeathPenalty</th>\n",
       "      <th>VictimRace</th>\n",
       "      <th>DefendantRace</th>\n",
       "      <th>Freq</th>\n",
       "    </tr>\n",
       "  </thead>\n",
       "  <tbody>\n",
       "    <tr>\n",
       "      <th>count</th>\n",
       "      <td>8.000000</td>\n",
       "      <td>8.000000</td>\n",
       "      <td>8.000000</td>\n",
       "      <td>8.000000</td>\n",
       "    </tr>\n",
       "    <tr>\n",
       "      <th>mean</th>\n",
       "      <td>0.500000</td>\n",
       "      <td>0.500000</td>\n",
       "      <td>0.500000</td>\n",
       "      <td>84.250000</td>\n",
       "    </tr>\n",
       "    <tr>\n",
       "      <th>std</th>\n",
       "      <td>0.534522</td>\n",
       "      <td>0.534522</td>\n",
       "      <td>0.534522</td>\n",
       "      <td>140.663479</td>\n",
       "    </tr>\n",
       "    <tr>\n",
       "      <th>min</th>\n",
       "      <td>0.000000</td>\n",
       "      <td>0.000000</td>\n",
       "      <td>0.000000</td>\n",
       "      <td>0.000000</td>\n",
       "    </tr>\n",
       "    <tr>\n",
       "      <th>25%</th>\n",
       "      <td>0.000000</td>\n",
       "      <td>0.000000</td>\n",
       "      <td>0.000000</td>\n",
       "      <td>9.250000</td>\n",
       "    </tr>\n",
       "    <tr>\n",
       "      <th>50%</th>\n",
       "      <td>0.500000</td>\n",
       "      <td>0.500000</td>\n",
       "      <td>0.500000</td>\n",
       "      <td>26.500000</td>\n",
       "    </tr>\n",
       "    <tr>\n",
       "      <th>75%</th>\n",
       "      <td>1.000000</td>\n",
       "      <td>1.000000</td>\n",
       "      <td>1.000000</td>\n",
       "      <td>74.500000</td>\n",
       "    </tr>\n",
       "    <tr>\n",
       "      <th>max</th>\n",
       "      <td>1.000000</td>\n",
       "      <td>1.000000</td>\n",
       "      <td>1.000000</td>\n",
       "      <td>414.000000</td>\n",
       "    </tr>\n",
       "  </tbody>\n",
       "</table>\n",
       "</div>"
      ],
      "text/plain": [
       "       DeathPenalty  VictimRace  DefendantRace        Freq\n",
       "count      8.000000    8.000000       8.000000    8.000000\n",
       "mean       0.500000    0.500000       0.500000   84.250000\n",
       "std        0.534522    0.534522       0.534522  140.663479\n",
       "min        0.000000    0.000000       0.000000    0.000000\n",
       "25%        0.000000    0.000000       0.000000    9.250000\n",
       "50%        0.500000    0.500000       0.500000   26.500000\n",
       "75%        1.000000    1.000000       1.000000   74.500000\n",
       "max        1.000000    1.000000       1.000000  414.000000"
      ]
     },
     "execution_count": 45,
     "metadata": {},
     "output_type": "execute_result"
    }
   ],
   "source": [
    "deathpenalty_df.describe()"
   ]
  },
  {
   "cell_type": "markdown",
   "id": "07dc51f7",
   "metadata": {},
   "source": [
    "describes returns the value you just tried to find yourself! Oh, well. \n",
    "\n",
    "There is another Pandas function called info(), which returns the structure of a data frame. It is very useful to find out about columns and features of a dataset. Try ```deathpenalty_df.info()```."
   ]
  },
  {
   "cell_type": "code",
   "execution_count": 46,
   "id": "acc72498",
   "metadata": {},
   "outputs": [
    {
     "name": "stdout",
     "output_type": "stream",
     "text": [
      "<class 'pandas.core.frame.DataFrame'>\n",
      "RangeIndex: 8 entries, 0 to 7\n",
      "Data columns (total 4 columns):\n",
      " #   Column         Non-Null Count  Dtype\n",
      "---  ------         --------------  -----\n",
      " 0   DeathPenalty   8 non-null      int64\n",
      " 1   VictimRace     8 non-null      int64\n",
      " 2   DefendantRace  8 non-null      int64\n",
      " 3   Freq           8 non-null      int64\n",
      "dtypes: int64(4)\n",
      "memory usage: 384.0 bytes\n"
     ]
    }
   ],
   "source": [
    "deathpenalty_df.info()"
   ]
  },
  {
   "cell_type": "markdown",
   "id": "47b13be3",
   "metadata": {},
   "source": [
    "Summary statistics work only with what in statistics is called numerical data, which is basically anything measured in numbers. In the info() output, you can see this in the Dtype column, which is int64 (integer). \n",
    "\n",
    "Alternatively, if data is represented by a set of categories, it is called categorical or nominal. In Python, we can compare categorical features by counting the values of the VictimRace to see how often each race occurs by typing deathpenalty_df.value_counts('VictimRace'). You will see that both victim races are equally represented.\n",
    "\n",
    "BTW: 'race' is a highly contested idea, and we should be more careful than the data we you use, which assigns people to two very simplified categories. Discussing such constraint should be part of your own critical data analysis."
   ]
  },
  {
   "cell_type": "code",
   "execution_count": 47,
   "id": "472f30d5",
   "metadata": {},
   "outputs": [
    {
     "data": {
      "text/plain": [
       "VictimRace\n",
       "1    4\n",
       "0    4\n",
       "dtype: int64"
      ]
     },
     "execution_count": 47,
     "metadata": {},
     "output_type": "execute_result"
    }
   ],
   "source": [
    "deathpenalty_df.value_counts('VictimRace')"
   ]
  },
  {
   "cell_type": "markdown",
   "id": "c02eae53",
   "metadata": {},
   "source": [
    "We are only getting warm. Let’s make this all a little bit more complicated. \n",
    "\n",
    "We want to know how many 'black' or 'white' defandants received the death penalty. \n",
    "\n",
    "Remember that a black person is represented by 0 and a white by 1. A death penalty was handed out if the column DeathPenalty equals 1, with 0 otherwise. Let’s first create a new data frame black_and_deathpenalty, which contains black defendants who received the death penalty by usling deathpenalty_df.loc[]. Do you know how? One way is to use a selector. \n",
    "\n",
    "But we can also do it directly with ```black_and_deathpenalty = deathpenalty_df.loc[(deathpenalty_df['DefendantRace'] == 0) & (deathpenalty_df['DeathPenalty'] == 1)]```."
   ]
  },
  {
   "cell_type": "code",
   "execution_count": 48,
   "id": "a6833eaa",
   "metadata": {},
   "outputs": [],
   "source": [
    "black_and_deathpenalty = deathpenalty_df.loc[(deathpenalty_df['DefendantRace'] == 0) & (deathpenalty_df['DeathPenalty'] == 1)]"
   ]
  },
  {
   "cell_type": "markdown",
   "id": "67d5c2bb",
   "metadata": {},
   "source": [
    "Similarly, we can get the white defendants who received the death penalty. Get the subset and assign it to white_and_deathpenalty."
   ]
  },
  {
   "cell_type": "code",
   "execution_count": 49,
   "id": "14fbfd84",
   "metadata": {},
   "outputs": [],
   "source": [
    "white_and_deathpenalty = deathpenalty_df.loc[(deathpenalty_df['DefendantRace'] == 1) & (deathpenalty_df['DeathPenalty'] == 1)]"
   ]
  },
  {
   "cell_type": "markdown",
   "id": "9ac4baae",
   "metadata": {},
   "source": [
    "Overall, we want to compare the likelihood of white and black defendants to receive the death penalty. In order to achieve this, the next step is to find out about the overall number of black people who received the death penalty. You can get this with the sum function, which we have already met and assign it to n_black_deathpenalty. Run ```n_black_deathpenalty = black_and_deathpenalty['Freq'].sum()```. Print out n_black_deathpenalty."
   ]
  },
  {
   "cell_type": "code",
   "execution_count": 50,
   "id": "5eeba3ce",
   "metadata": {},
   "outputs": [
    {
     "data": {
      "text/plain": [
       "15"
      ]
     },
     "execution_count": 50,
     "metadata": {},
     "output_type": "execute_result"
    }
   ],
   "source": [
    "n_black_deathpenalty = black_and_deathpenalty['Freq'].sum()\n",
    "n_black_deathpenalty"
   ]
  },
  {
   "cell_type": "markdown",
   "id": "ea137d93",
   "metadata": {},
   "source": [
    "Next, find those whites, which were given a death penalty. Assign to a new variable n_white_deathpenalty."
   ]
  },
  {
   "cell_type": "code",
   "execution_count": 51,
   "id": "509ffccd",
   "metadata": {},
   "outputs": [
    {
     "data": {
      "text/plain": [
       "53"
      ]
     },
     "execution_count": 51,
     "metadata": {},
     "output_type": "execute_result"
    }
   ],
   "source": [
    "n_white_deathpenalty = white_and_deathpenalty['Freq'].sum()\n",
    "n_white_deathpenalty"
   ]
  },
  {
   "cell_type": "markdown",
   "id": "b9df6f8c",
   "metadata": {},
   "source": [
    "What is therefore the proportion of black people receiving the death penalty? Remember you can get this by dividing the number of black defendants with the death penalty by the total number of defendants with the death penalty."
   ]
  },
  {
   "cell_type": "code",
   "execution_count": 52,
   "id": "b1c67df4",
   "metadata": {},
   "outputs": [
    {
     "data": {
      "text/plain": [
       "0.22058823529411764"
      ]
     },
     "execution_count": 52,
     "metadata": {},
     "output_type": "execute_result"
    }
   ],
   "source": [
    "n_black_deathpenalty / (n_black_deathpenalty + n_white_deathpenalty)"
   ]
  },
  {
   "cell_type": "markdown",
   "id": "08eb8108",
   "metadata": {},
   "source": [
    "That’s quite a low percentage. Do we  not need to worry then about racial biases in the judgements? What other information do we need to come to such a conclusion? Let’s find out next.\n",
    "\n",
    "Proportionally, how many of the death penalties handed out to black people were for killing a white person? \n",
    "\n",
    "The expression ```black_and_deathpenalty.loc[(black_and_deathpenalty['VictimRace'] == 1)]['Freq'] / n_black_deathpenalty``` is a bit complicated but gets the right result. Can you explain how?"
   ]
  },
  {
   "cell_type": "code",
   "execution_count": 53,
   "id": "39076126",
   "metadata": {},
   "outputs": [
    {
     "data": {
      "text/plain": [
       "3    0.733333\n",
       "Name: Freq, dtype: float64"
      ]
     },
     "execution_count": 53,
     "metadata": {},
     "output_type": "execute_result"
    }
   ],
   "source": [
    "black_and_deathpenalty.loc[(black_and_deathpenalty['VictimRace'] == 1)]['Freq'] / n_black_deathpenalty"
   ]
  },
  {
   "cell_type": "markdown",
   "id": "33111f52",
   "metadata": {},
   "source": [
    "Finally, how likely is it that a white person killing a black person will receive the death penalty? Can you change the last expression? "
   ]
  },
  {
   "cell_type": "code",
   "execution_count": 54,
   "id": "75ff10a4",
   "metadata": {},
   "outputs": [
    {
     "data": {
      "text/plain": [
       "5    0.0\n",
       "Name: Freq, dtype: float64"
      ]
     },
     "execution_count": 54,
     "metadata": {},
     "output_type": "execute_result"
    }
   ],
   "source": [
    "white_and_deathpenalty.loc[(white_and_deathpenalty['VictimRace'] == 0)]['Freq'] / n_white_deathpenalty"
   ]
  },
  {
   "cell_type": "markdown",
   "id": "eba513c4",
   "metadata": {},
   "source": [
    "0 should be the answer though there were 53 death penalities for white people.\n",
    "\n",
    "Out of 15 death penalties for black people, 73% were for killing a white person. While none of the 53 death penalties for white people in Florida were given for killing a black person. \n",
    "\n",
    "I hope you can see that there are many powerful functions to explore data directly in Python. Another really good way to explore data is not to ask direct questions but to summarize it with graphs and visualisations. Visualisations and graphs are easy to do with Python."
   ]
  },
  {
   "cell_type": "markdown",
   "id": "6fafb5a3",
   "metadata": {},
   "source": [
    "Try ```deathpenalty_df.boxplot('Freq')```? What do you see? Ask the Internet!"
   ]
  },
  {
   "cell_type": "code",
   "execution_count": 56,
   "id": "50924c14",
   "metadata": {},
   "outputs": [
    {
     "data": {
      "text/plain": [
       "<AxesSubplot:>"
      ]
     },
     "execution_count": 56,
     "metadata": {},
     "output_type": "execute_result"
    },
    {
     "data": {
      "image/png": "[encoded data removed]",
      "text/plain": [
       "<Figure size 432x288 with 1 Axes>"
      ]
     },
     "metadata": {},
     "output_type": "display_data"
    }
   ],
   "source": [
    "deathpenalty_df.boxplot('Freq')"
   ]
  },
  {
   "cell_type": "markdown",
   "id": "6a434aa6",
   "metadata": {},
   "source": [
    "The boxplot displays the centre and spread in a format that allows you to quickly obtain a sense of behaviour of the data. The median is denoted by the dark line while the box around it stands for the spread. The boxplot shows one outlier (the top dot). Can you identify it in the dataset?\n",
    "\n",
    "But this was just a taste of the visualisations that we focus on in the next session."
   ]
  },
  {
   "cell_type": "code",
   "execution_count": null,
   "id": "26115359",
   "metadata": {},
   "outputs": [],
   "source": []
  }
 ],
 "metadata": {
  "kernelspec": {
   "display_name": "Python 3 (ipykernel)",
   "language": "python",
   "name": "python3"
  },
  "language_info": {
   "codemirror_mode": {
    "name": "ipython",
    "version": 3
   },
   "file_extension": ".py",
   "mimetype": "text/x-python",
   "name": "python",
   "nbconvert_exporter": "python",
   "pygments_lexer": "ipython3",
   "version": "3.8.12"
  }
 },
 "nbformat": 4,
 "nbformat_minor": 5
}
